{
 "cells": [
  {
   "cell_type": "code",
   "execution_count": 26,
   "metadata": {},
   "outputs": [
    {
     "name": "stdout",
     "output_type": "stream",
     "text": [
      "The autoreload extension is already loaded. To reload it, use:\n",
      "  %reload_ext autoreload\n"
     ]
    }
   ],
   "source": [
    "%load_ext autoreload\n",
    "%autoreload 2\n",
    "import models"
   ]
  },
  {
   "cell_type": "code",
   "execution_count": 27,
   "metadata": {},
   "outputs": [
    {
     "name": "stdout",
     "output_type": "stream",
     "text": [
      "group 0 with shape: (32, 22, 22, 32)\n",
      "group 1 with shape: (32, 11, 11, 64)\n",
      "group 2 with shape: (32, 6, 6, 128)\n",
      "Trainable params: 729984\n"
     ]
    },
    {
     "data": {
      "text/plain": [
       "{'classes': <tf.Tensor 'head_classes:0' shape=(32,) dtype=int64>,\n",
       " 'logits': <tf.Tensor 'head_logits/BiasAdd:0' shape=(32, 40) dtype=float32>,\n",
       " 'probabilities': <tf.Tensor 'head_probabilities:0' shape=(32, 40) dtype=float32>}"
      ]
     },
     "execution_count": 27,
     "metadata": {},
     "output_type": "execute_result"
    }
   ],
   "source": [
    "import tensorflow as tf\n",
    "\n",
    "tf.reset_default_graph()\n",
    "\n",
    "features = dict(\n",
    "    image= tf.placeholder(dtype=tf.float32, shape=[32, 48, 48, 1])\n",
    ")\n",
    "fm_output = models.resnet_feature_extractor(features, tf.estimator.ModeKeys.PREDICT)\n",
    "\n",
    "head_output = models.classification_head(fm_output, {'num_classes': 40})\n",
    "head_output"
   ]
  },
  {
   "cell_type": "code",
   "execution_count": 28,
   "metadata": {},
   "outputs": [
    {
     "data": {
      "text/plain": [
       "[<tf.Variable 'conv_layer1/conv2d/kernel:0' shape=(5, 5, 1, 64) dtype=float32_ref>,\n",
       " <tf.Variable 'conv_layer1/conv2d/bias:0' shape=(64,) dtype=float32_ref>,\n",
       " <tf.Variable 'conv_layer1/batch_normalization/gamma:0' shape=(64,) dtype=float32_ref>,\n",
       " <tf.Variable 'conv_layer1/batch_normalization/beta:0' shape=(64,) dtype=float32_ref>,\n",
       " <tf.Variable 'conv_layer2/conv2d/kernel:0' shape=(1, 1, 64, 32) dtype=float32_ref>,\n",
       " <tf.Variable 'conv_layer2/conv2d/bias:0' shape=(32,) dtype=float32_ref>,\n",
       " <tf.Variable 'group_0/block_0/conv_in/conv2d/kernel:0' shape=(1, 1, 32, 32) dtype=float32_ref>,\n",
       " <tf.Variable 'group_0/block_0/conv_in/conv2d/bias:0' shape=(32,) dtype=float32_ref>,\n",
       " <tf.Variable 'group_0/block_0/conv_in/batch_normalization/gamma:0' shape=(32,) dtype=float32_ref>,\n",
       " <tf.Variable 'group_0/block_0/conv_in/batch_normalization/beta:0' shape=(32,) dtype=float32_ref>,\n",
       " <tf.Variable 'group_0/block_0/conv_bottleneck/conv2d/kernel:0' shape=(3, 3, 32, 32) dtype=float32_ref>,\n",
       " <tf.Variable 'group_0/block_0/conv_bottleneck/conv2d/bias:0' shape=(32,) dtype=float32_ref>,\n",
       " <tf.Variable 'group_0/block_0/conv_bottleneck/batch_normalization/gamma:0' shape=(32,) dtype=float32_ref>,\n",
       " <tf.Variable 'group_0/block_0/conv_bottleneck/batch_normalization/beta:0' shape=(32,) dtype=float32_ref>,\n",
       " <tf.Variable 'group_0/block_0/conv_out/conv2d/kernel:0' shape=(1, 1, 32, 32) dtype=float32_ref>,\n",
       " <tf.Variable 'group_0/block_0/conv_out/conv2d/bias:0' shape=(32,) dtype=float32_ref>,\n",
       " <tf.Variable 'group_0/block_0/conv_out/batch_normalization/gamma:0' shape=(32,) dtype=float32_ref>,\n",
       " <tf.Variable 'group_0/block_0/conv_out/batch_normalization/beta:0' shape=(32,) dtype=float32_ref>,\n",
       " <tf.Variable 'group_0/block_1/conv_in/conv2d/kernel:0' shape=(1, 1, 32, 32) dtype=float32_ref>,\n",
       " <tf.Variable 'group_0/block_1/conv_in/conv2d/bias:0' shape=(32,) dtype=float32_ref>,\n",
       " <tf.Variable 'group_0/block_1/conv_in/batch_normalization/gamma:0' shape=(32,) dtype=float32_ref>,\n",
       " <tf.Variable 'group_0/block_1/conv_in/batch_normalization/beta:0' shape=(32,) dtype=float32_ref>,\n",
       " <tf.Variable 'group_0/block_1/conv_bottleneck/conv2d/kernel:0' shape=(3, 3, 32, 32) dtype=float32_ref>,\n",
       " <tf.Variable 'group_0/block_1/conv_bottleneck/conv2d/bias:0' shape=(32,) dtype=float32_ref>,\n",
       " <tf.Variable 'group_0/block_1/conv_bottleneck/batch_normalization/gamma:0' shape=(32,) dtype=float32_ref>,\n",
       " <tf.Variable 'group_0/block_1/conv_bottleneck/batch_normalization/beta:0' shape=(32,) dtype=float32_ref>,\n",
       " <tf.Variable 'group_0/block_1/conv_out/conv2d/kernel:0' shape=(1, 1, 32, 32) dtype=float32_ref>,\n",
       " <tf.Variable 'group_0/block_1/conv_out/conv2d/bias:0' shape=(32,) dtype=float32_ref>,\n",
       " <tf.Variable 'group_0/block_1/conv_out/batch_normalization/gamma:0' shape=(32,) dtype=float32_ref>,\n",
       " <tf.Variable 'group_0/block_1/conv_out/batch_normalization/beta:0' shape=(32,) dtype=float32_ref>,\n",
       " <tf.Variable 'group_0/block_2/conv_in/conv2d/kernel:0' shape=(1, 1, 32, 32) dtype=float32_ref>,\n",
       " <tf.Variable 'group_0/block_2/conv_in/conv2d/bias:0' shape=(32,) dtype=float32_ref>,\n",
       " <tf.Variable 'group_0/block_2/conv_in/batch_normalization/gamma:0' shape=(32,) dtype=float32_ref>,\n",
       " <tf.Variable 'group_0/block_2/conv_in/batch_normalization/beta:0' shape=(32,) dtype=float32_ref>,\n",
       " <tf.Variable 'group_0/block_2/conv_bottleneck/conv2d/kernel:0' shape=(3, 3, 32, 32) dtype=float32_ref>,\n",
       " <tf.Variable 'group_0/block_2/conv_bottleneck/conv2d/bias:0' shape=(32,) dtype=float32_ref>,\n",
       " <tf.Variable 'group_0/block_2/conv_bottleneck/batch_normalization/gamma:0' shape=(32,) dtype=float32_ref>,\n",
       " <tf.Variable 'group_0/block_2/conv_bottleneck/batch_normalization/beta:0' shape=(32,) dtype=float32_ref>,\n",
       " <tf.Variable 'group_0/block_2/conv_out/conv2d/kernel:0' shape=(1, 1, 32, 32) dtype=float32_ref>,\n",
       " <tf.Variable 'group_0/block_2/conv_out/conv2d/bias:0' shape=(32,) dtype=float32_ref>,\n",
       " <tf.Variable 'group_0/block_2/conv_out/batch_normalization/gamma:0' shape=(32,) dtype=float32_ref>,\n",
       " <tf.Variable 'group_0/block_2/conv_out/batch_normalization/beta:0' shape=(32,) dtype=float32_ref>,\n",
       " <tf.Variable 'block_0/conv_upscale/conv2d/kernel:0' shape=(1, 1, 32, 64) dtype=float32_ref>,\n",
       " <tf.Variable 'block_0/conv_upscale/conv2d/bias:0' shape=(64,) dtype=float32_ref>,\n",
       " <tf.Variable 'group_1/block_0/conv_in/conv2d/kernel:0' shape=(1, 1, 64, 64) dtype=float32_ref>,\n",
       " <tf.Variable 'group_1/block_0/conv_in/conv2d/bias:0' shape=(64,) dtype=float32_ref>,\n",
       " <tf.Variable 'group_1/block_0/conv_in/batch_normalization/gamma:0' shape=(64,) dtype=float32_ref>,\n",
       " <tf.Variable 'group_1/block_0/conv_in/batch_normalization/beta:0' shape=(64,) dtype=float32_ref>,\n",
       " <tf.Variable 'group_1/block_0/conv_bottleneck/conv2d/kernel:0' shape=(3, 3, 64, 64) dtype=float32_ref>,\n",
       " <tf.Variable 'group_1/block_0/conv_bottleneck/conv2d/bias:0' shape=(64,) dtype=float32_ref>,\n",
       " <tf.Variable 'group_1/block_0/conv_bottleneck/batch_normalization/gamma:0' shape=(64,) dtype=float32_ref>,\n",
       " <tf.Variable 'group_1/block_0/conv_bottleneck/batch_normalization/beta:0' shape=(64,) dtype=float32_ref>,\n",
       " <tf.Variable 'group_1/block_0/conv_out/conv2d/kernel:0' shape=(1, 1, 64, 64) dtype=float32_ref>,\n",
       " <tf.Variable 'group_1/block_0/conv_out/conv2d/bias:0' shape=(64,) dtype=float32_ref>,\n",
       " <tf.Variable 'group_1/block_0/conv_out/batch_normalization/gamma:0' shape=(64,) dtype=float32_ref>,\n",
       " <tf.Variable 'group_1/block_0/conv_out/batch_normalization/beta:0' shape=(64,) dtype=float32_ref>,\n",
       " <tf.Variable 'group_1/block_1/conv_in/conv2d/kernel:0' shape=(1, 1, 64, 64) dtype=float32_ref>,\n",
       " <tf.Variable 'group_1/block_1/conv_in/conv2d/bias:0' shape=(64,) dtype=float32_ref>,\n",
       " <tf.Variable 'group_1/block_1/conv_in/batch_normalization/gamma:0' shape=(64,) dtype=float32_ref>,\n",
       " <tf.Variable 'group_1/block_1/conv_in/batch_normalization/beta:0' shape=(64,) dtype=float32_ref>,\n",
       " <tf.Variable 'group_1/block_1/conv_bottleneck/conv2d/kernel:0' shape=(3, 3, 64, 64) dtype=float32_ref>,\n",
       " <tf.Variable 'group_1/block_1/conv_bottleneck/conv2d/bias:0' shape=(64,) dtype=float32_ref>,\n",
       " <tf.Variable 'group_1/block_1/conv_bottleneck/batch_normalization/gamma:0' shape=(64,) dtype=float32_ref>,\n",
       " <tf.Variable 'group_1/block_1/conv_bottleneck/batch_normalization/beta:0' shape=(64,) dtype=float32_ref>,\n",
       " <tf.Variable 'group_1/block_1/conv_out/conv2d/kernel:0' shape=(1, 1, 64, 64) dtype=float32_ref>,\n",
       " <tf.Variable 'group_1/block_1/conv_out/conv2d/bias:0' shape=(64,) dtype=float32_ref>,\n",
       " <tf.Variable 'group_1/block_1/conv_out/batch_normalization/gamma:0' shape=(64,) dtype=float32_ref>,\n",
       " <tf.Variable 'group_1/block_1/conv_out/batch_normalization/beta:0' shape=(64,) dtype=float32_ref>,\n",
       " <tf.Variable 'group_1/block_2/conv_in/conv2d/kernel:0' shape=(1, 1, 64, 64) dtype=float32_ref>,\n",
       " <tf.Variable 'group_1/block_2/conv_in/conv2d/bias:0' shape=(64,) dtype=float32_ref>,\n",
       " <tf.Variable 'group_1/block_2/conv_in/batch_normalization/gamma:0' shape=(64,) dtype=float32_ref>,\n",
       " <tf.Variable 'group_1/block_2/conv_in/batch_normalization/beta:0' shape=(64,) dtype=float32_ref>,\n",
       " <tf.Variable 'group_1/block_2/conv_bottleneck/conv2d/kernel:0' shape=(3, 3, 64, 64) dtype=float32_ref>,\n",
       " <tf.Variable 'group_1/block_2/conv_bottleneck/conv2d/bias:0' shape=(64,) dtype=float32_ref>,\n",
       " <tf.Variable 'group_1/block_2/conv_bottleneck/batch_normalization/gamma:0' shape=(64,) dtype=float32_ref>,\n",
       " <tf.Variable 'group_1/block_2/conv_bottleneck/batch_normalization/beta:0' shape=(64,) dtype=float32_ref>,\n",
       " <tf.Variable 'group_1/block_2/conv_out/conv2d/kernel:0' shape=(1, 1, 64, 64) dtype=float32_ref>,\n",
       " <tf.Variable 'group_1/block_2/conv_out/conv2d/bias:0' shape=(64,) dtype=float32_ref>,\n",
       " <tf.Variable 'group_1/block_2/conv_out/batch_normalization/gamma:0' shape=(64,) dtype=float32_ref>,\n",
       " <tf.Variable 'group_1/block_2/conv_out/batch_normalization/beta:0' shape=(64,) dtype=float32_ref>,\n",
       " <tf.Variable 'block_1/conv_upscale/conv2d/kernel:0' shape=(1, 1, 64, 128) dtype=float32_ref>,\n",
       " <tf.Variable 'block_1/conv_upscale/conv2d/bias:0' shape=(128,) dtype=float32_ref>,\n",
       " <tf.Variable 'group_2/block_0/conv_in/conv2d/kernel:0' shape=(1, 1, 128, 128) dtype=float32_ref>,\n",
       " <tf.Variable 'group_2/block_0/conv_in/conv2d/bias:0' shape=(128,) dtype=float32_ref>,\n",
       " <tf.Variable 'group_2/block_0/conv_in/batch_normalization/gamma:0' shape=(128,) dtype=float32_ref>,\n",
       " <tf.Variable 'group_2/block_0/conv_in/batch_normalization/beta:0' shape=(128,) dtype=float32_ref>,\n",
       " <tf.Variable 'group_2/block_0/conv_bottleneck/conv2d/kernel:0' shape=(3, 3, 128, 128) dtype=float32_ref>,\n",
       " <tf.Variable 'group_2/block_0/conv_bottleneck/conv2d/bias:0' shape=(128,) dtype=float32_ref>,\n",
       " <tf.Variable 'group_2/block_0/conv_bottleneck/batch_normalization/gamma:0' shape=(128,) dtype=float32_ref>,\n",
       " <tf.Variable 'group_2/block_0/conv_bottleneck/batch_normalization/beta:0' shape=(128,) dtype=float32_ref>,\n",
       " <tf.Variable 'group_2/block_0/conv_out/conv2d/kernel:0' shape=(1, 1, 128, 128) dtype=float32_ref>,\n",
       " <tf.Variable 'group_2/block_0/conv_out/conv2d/bias:0' shape=(128,) dtype=float32_ref>,\n",
       " <tf.Variable 'group_2/block_0/conv_out/batch_normalization/gamma:0' shape=(128,) dtype=float32_ref>,\n",
       " <tf.Variable 'group_2/block_0/conv_out/batch_normalization/beta:0' shape=(128,) dtype=float32_ref>,\n",
       " <tf.Variable 'group_2/block_1/conv_in/conv2d/kernel:0' shape=(1, 1, 128, 128) dtype=float32_ref>,\n",
       " <tf.Variable 'group_2/block_1/conv_in/conv2d/bias:0' shape=(128,) dtype=float32_ref>,\n",
       " <tf.Variable 'group_2/block_1/conv_in/batch_normalization/gamma:0' shape=(128,) dtype=float32_ref>,\n",
       " <tf.Variable 'group_2/block_1/conv_in/batch_normalization/beta:0' shape=(128,) dtype=float32_ref>,\n",
       " <tf.Variable 'group_2/block_1/conv_bottleneck/conv2d/kernel:0' shape=(3, 3, 128, 128) dtype=float32_ref>,\n",
       " <tf.Variable 'group_2/block_1/conv_bottleneck/conv2d/bias:0' shape=(128,) dtype=float32_ref>,\n",
       " <tf.Variable 'group_2/block_1/conv_bottleneck/batch_normalization/gamma:0' shape=(128,) dtype=float32_ref>,\n",
       " <tf.Variable 'group_2/block_1/conv_bottleneck/batch_normalization/beta:0' shape=(128,) dtype=float32_ref>,\n",
       " <tf.Variable 'group_2/block_1/conv_out/conv2d/kernel:0' shape=(1, 1, 128, 128) dtype=float32_ref>,\n",
       " <tf.Variable 'group_2/block_1/conv_out/conv2d/bias:0' shape=(128,) dtype=float32_ref>,\n",
       " <tf.Variable 'group_2/block_1/conv_out/batch_normalization/gamma:0' shape=(128,) dtype=float32_ref>,\n",
       " <tf.Variable 'group_2/block_1/conv_out/batch_normalization/beta:0' shape=(128,) dtype=float32_ref>,\n",
       " <tf.Variable 'group_2/block_2/conv_in/conv2d/kernel:0' shape=(1, 1, 128, 128) dtype=float32_ref>,\n",
       " <tf.Variable 'group_2/block_2/conv_in/conv2d/bias:0' shape=(128,) dtype=float32_ref>,\n",
       " <tf.Variable 'group_2/block_2/conv_in/batch_normalization/gamma:0' shape=(128,) dtype=float32_ref>,\n",
       " <tf.Variable 'group_2/block_2/conv_in/batch_normalization/beta:0' shape=(128,) dtype=float32_ref>,\n",
       " <tf.Variable 'group_2/block_2/conv_bottleneck/conv2d/kernel:0' shape=(3, 3, 128, 128) dtype=float32_ref>,\n",
       " <tf.Variable 'group_2/block_2/conv_bottleneck/conv2d/bias:0' shape=(128,) dtype=float32_ref>,\n",
       " <tf.Variable 'group_2/block_2/conv_bottleneck/batch_normalization/gamma:0' shape=(128,) dtype=float32_ref>,\n",
       " <tf.Variable 'group_2/block_2/conv_bottleneck/batch_normalization/beta:0' shape=(128,) dtype=float32_ref>,\n",
       " <tf.Variable 'group_2/block_2/conv_out/conv2d/kernel:0' shape=(1, 1, 128, 128) dtype=float32_ref>,\n",
       " <tf.Variable 'group_2/block_2/conv_out/conv2d/bias:0' shape=(128,) dtype=float32_ref>,\n",
       " <tf.Variable 'group_2/block_2/conv_out/batch_normalization/gamma:0' shape=(128,) dtype=float32_ref>,\n",
       " <tf.Variable 'group_2/block_2/conv_out/batch_normalization/beta:0' shape=(128,) dtype=float32_ref>,\n",
       " <tf.Variable 'head_logits/kernel:0' shape=(128, 40) dtype=float32_ref>,\n",
       " <tf.Variable 'head_logits/bias:0' shape=(40,) dtype=float32_ref>]"
      ]
     },
     "execution_count": 28,
     "metadata": {},
     "output_type": "execute_result"
    }
   ],
   "source": [
    "tf.trainable_variables()"
   ]
  },
  {
   "cell_type": "code",
   "execution_count": null,
   "metadata": {
    "collapsed": true
   },
   "outputs": [],
   "source": []
  }
 ],
 "metadata": {
  "kernelspec": {
   "display_name": "shelfwise_kk",
   "language": "python",
   "name": "shelfwise_kk"
  },
  "language_info": {
   "codemirror_mode": {
    "name": "ipython",
    "version": 3
   },
   "file_extension": ".py",
   "mimetype": "text/x-python",
   "name": "python",
   "nbconvert_exporter": "python",
   "pygments_lexer": "ipython3",
   "version": "3.6.1"
  }
 },
 "nbformat": 4,
 "nbformat_minor": 2
}
