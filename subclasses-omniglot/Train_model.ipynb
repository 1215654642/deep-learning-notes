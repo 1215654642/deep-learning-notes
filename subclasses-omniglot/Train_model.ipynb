{
 "cells": [
  {
   "cell_type": "code",
   "execution_count": 1,
   "metadata": {},
   "outputs": [
    {
     "name": "stderr",
     "output_type": "stream",
     "text": [
      "/home/mkk/anaconda3/envs/shelfwise_kk/lib/python3.6/site-packages/h5py/__init__.py:34: FutureWarning: Conversion of the second argument of issubdtype from `float` to `np.floating` is deprecated. In future, it will be treated as `np.float64 == np.dtype(float).type`.\n",
      "  from ._conv import register_converters as _register_converters\n"
     ]
    }
   ],
   "source": [
    "%load_ext autoreload\n",
    "%autoreload 2\n",
    "import dataset\n",
    "import models\n",
    "import pickle\n",
    "from glob import glob"
   ]
  },
  {
   "cell_type": "code",
   "execution_count": 2,
   "metadata": {},
   "outputs": [
    {
     "data": {
      "text/plain": [
       "'1.7.0'"
      ]
     },
     "execution_count": 2,
     "metadata": {},
     "output_type": "execute_result"
    }
   ],
   "source": [
    "import tensorflow as tf\n",
    "tf.__version__"
   ]
  },
  {
   "cell_type": "code",
   "execution_count": 7,
   "metadata": {
    "collapsed": true
   },
   "outputs": [],
   "source": [
    "batch_size = 32\n",
    "lr_schedule = [(1, 0.001), (5, 0.002), (5, 0.001), (5, 0.0001)]\n",
    "model_dir = 'models/test_model'\n",
    "image_shape = [48, 48, 1]"
   ]
  },
  {
   "cell_type": "code",
   "execution_count": 8,
   "metadata": {},
   "outputs": [],
   "source": [
    "train_input_func, num_train_examples = dataset.get_input_function(\n",
    "    \"data/omniglot_training_48_48.pkl\", \n",
    "    batch_size, do_augmentation=True)\n",
    "valid_input_func, num_valid_examples = dataset.get_input_function(\n",
    "    \"data/omniglot_validation_48_48.pkl\", \n",
    "    batch_size, do_augmentation=False)"
   ]
  },
  {
   "cell_type": "code",
   "execution_count": 9,
   "metadata": {},
   "outputs": [
    {
     "data": {
      "text/plain": [
       "({'image': <tf.Tensor 'IteratorGetNext_1:0' shape=<unknown> dtype=float32>},\n",
       " {'label': <tf.Tensor 'IteratorGetNext_1:1' shape=<unknown> dtype=float32>})"
      ]
     },
     "execution_count": 9,
     "metadata": {},
     "output_type": "execute_result"
    }
   ],
   "source": [
    "train_input_func()"
   ]
  },
  {
   "cell_type": "code",
   "execution_count": 10,
   "metadata": {},
   "outputs": [
    {
     "data": {
      "text/plain": [
       "(16, 602, 32)"
      ]
     },
     "execution_count": 10,
     "metadata": {},
     "output_type": "execute_result"
    }
   ],
   "source": [
    "train_epochs = sum([sh[0] for sh in lr_schedule])\n",
    "steps_per_epoch = num_train_examples // batch_size\n",
    "steps_per_validation = 32\n",
    "train_epochs, steps_per_epoch, steps_per_validation"
   ]
  },
  {
   "cell_type": "code",
   "execution_count": 11,
   "metadata": {},
   "outputs": [
    {
     "data": {
      "text/plain": [
       "({'Angelic': 0,\n",
       "  'Atemayar_Qelisayer': 1,\n",
       "  'Atlantean': 2,\n",
       "  'Aurek-Besh': 3,\n",
       "  'Avesta': 4,\n",
       "  'Ge_ez': 5,\n",
       "  'Glagolitic': 6,\n",
       "  'Gurmukhi': 7,\n",
       "  'Kannada': 8,\n",
       "  'Keble': 9,\n",
       "  'Malayalam': 10,\n",
       "  'Manipuri': 11,\n",
       "  'Mongolian': 12,\n",
       "  'Old_Church_Slavonic_(Cyrillic)': 13,\n",
       "  'Oriya': 14,\n",
       "  'Sylheti': 15,\n",
       "  'Syriac_(Serto)': 16,\n",
       "  'Tengwar': 17,\n",
       "  'Tibetan': 18,\n",
       "  'ULOG': 19},\n",
       " 19280,\n",
       " 13180,\n",
       " 20)"
      ]
     },
     "execution_count": 11,
     "metadata": {},
     "output_type": "execute_result"
    }
   ],
   "source": [
    "class_mapping = pickle.load(open('data/classes_level0_mapping.pkl', 'rb'))\n",
    "num_classes = len(class_mapping)\n",
    "class_mapping, num_train_examples, num_valid_examples, num_classes"
   ]
  },
  {
   "cell_type": "code",
   "execution_count": 12,
   "metadata": {},
   "outputs": [],
   "source": [
    "model_func = models.resnet_model_fn(\n",
    "    feature_extractor_fn = models.resnet_feature_extractor,\n",
    "    head_fn = models.classification_head,\n",
    "    loss_fn = models.classification_loss,\n",
    "    metrics_fn = models.classification_metrics,\n",
    "    optimizer_fn = models.adam_optimizer_fn(),\n",
    "    learning_rate_fn = models.learning_rate_scheduler(\n",
    "        schedule=lr_schedule, \n",
    "        batch_size=batch_size, \n",
    "        num_examples=num_train_examples\n",
    "    ),\n",
    "    global_losses_fns = [models.global_averaged_l2_loss(0.001)]\n",
    ")"
   ]
  },
  {
   "cell_type": "code",
   "execution_count": 13,
   "metadata": {
    "collapsed": true
   },
   "outputs": [],
   "source": [
    "import hooks\n",
    "from tqdm import tqdm"
   ]
  },
  {
   "cell_type": "code",
   "execution_count": null,
   "metadata": {},
   "outputs": [
    {
     "name": "stdout",
     "output_type": "stream",
     "text": [
      "INFO:tensorflow:Using config: {'_model_dir': 'models/test_model', '_tf_random_seed': None, '_save_summary_steps': 100, '_save_checkpoints_steps': None, '_save_checkpoints_secs': 1000000000.0, '_session_config': intra_op_parallelism_threads: 8\n",
      "inter_op_parallelism_threads: 8\n",
      "allow_soft_placement: true\n",
      ", '_keep_checkpoint_max': 5, '_keep_checkpoint_every_n_hours': 10000, '_log_step_count_steps': 100, '_service': None, '_cluster_spec': <tensorflow.python.training.server_lib.ClusterSpec object at 0x7f6fc80c79e8>, '_task_type': 'worker', '_task_id': 0, '_global_id_in_cluster': 0, '_master': '', '_evaluation_master': '', '_is_chief': True, '_num_ps_replicas': 0, '_num_worker_replicas': 1}\n"
     ]
    },
    {
     "name": "stderr",
     "output_type": "stream",
     "text": [
      "\r",
      "  0%|          | 0/16 [00:00<?, ?it/s]"
     ]
    },
    {
     "name": "stdout",
     "output_type": "stream",
     "text": [
      "Starting a training epoch [0/16]\n",
      "INFO:tensorflow:Calling model_fn.\n",
      "input_image: Tensor(\"Reshape:0\", shape=(?, 48, 48, 1), dtype=float32)\n",
      "group 0 with shape: (?, 22, 22, 32)\n",
      "group 1 with shape: (?, 11, 11, 64)\n",
      "group 2 with shape: (?, 6, 6, 128)\n",
      "Trainable params: 729984\n",
      "INFO:tensorflow:Done calling model_fn.\n",
      "INFO:tensorflow:Create CheckpointSaverHook.\n",
      "INFO:tensorflow:Graph was finalized.\n",
      "INFO:tensorflow:Running local_init_op.\n",
      "INFO:tensorflow:Done running local_init_op.\n"
     ]
    }
   ],
   "source": [
    "session_config = tf.ConfigProto(\n",
    "    inter_op_parallelism_threads=8,\n",
    "    intra_op_parallelism_threads=8,\n",
    "    allow_soft_placement=True)\n",
    "\n",
    "run_config = tf.estimator.RunConfig().replace(\n",
    "    save_checkpoints_secs=1e9,\n",
    "    session_config=session_config)\n",
    "\n",
    "classifier = tf.estimator.Estimator(\n",
    "    model_fn=model_func, \n",
    "    model_dir=model_dir, \n",
    "    config=run_config,\n",
    "    params={\n",
    "        'num_classes': num_classes,\n",
    "        'image_shape': image_shape\n",
    "    }\n",
    ")\n",
    "\n",
    "\n",
    "for epoch in tqdm(range(train_epochs)):\n",
    "        \n",
    "    print(f'Starting a training epoch [{epoch}/{train_epochs}]')\n",
    "    \n",
    "    train_hooks = [\n",
    "        hooks.get_examples_per_second_hook(batch_size=batch_size),\n",
    "        hooks.get_profiler_hook(),\n",
    "        hooks.get_logging_tensor_hook(tensors_to_log=[\n",
    "            'head_accuracy', 'cross_entropy', 'learning_rate'])        \n",
    "    ]\n",
    "    \n",
    "    classifier.train(\n",
    "        input_fn=train_input_func, \n",
    "        hooks=train_hooks,\n",
    "        max_steps=steps_per_epoch)\n",
    "\n",
    "    print('Starting to evaluate')\n",
    "    \n",
    "    eval_results = classifier.evaluate(\n",
    "        input_fn=valid_input_func, \n",
    "        steps=steps_per_validation\n",
    "    )\n",
    "    print(eval_results)"
   ]
  },
  {
   "cell_type": "code",
   "execution_count": null,
   "metadata": {
    "collapsed": true
   },
   "outputs": [],
   "source": []
  }
 ],
 "metadata": {
  "kernelspec": {
   "display_name": "shelfwise_kk",
   "language": "python",
   "name": "shelfwise_kk"
  },
  "language_info": {
   "codemirror_mode": {
    "name": "ipython",
    "version": 3
   },
   "file_extension": ".py",
   "mimetype": "text/x-python",
   "name": "python",
   "nbconvert_exporter": "python",
   "pygments_lexer": "ipython3",
   "version": "3.6.1"
  }
 },
 "nbformat": 4,
 "nbformat_minor": 2
}
