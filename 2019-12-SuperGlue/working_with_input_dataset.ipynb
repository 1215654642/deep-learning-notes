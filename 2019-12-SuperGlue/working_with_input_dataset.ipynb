{
 "cells": [
  {
   "cell_type": "code",
   "execution_count": null,
   "metadata": {},
   "outputs": [],
   "source": [
    "import tensorflow as tf\n",
    "from PIL import Image\n",
    "import numpy as np\n",
    "import cv2"
   ]
  },
  {
   "cell_type": "code",
   "execution_count": null,
   "metadata": {},
   "outputs": [],
   "source": [
    "from superglue.keypoint_extractors import SuperPointExtractor, Keypoints\n",
    "from superglue.datasets import create_training_image_pair_sampler_fn"
   ]
  },
  {
   "cell_type": "code",
   "execution_count": null,
   "metadata": {
    "scrolled": true
   },
   "outputs": [],
   "source": [
    "extractor = SuperPointExtractor(\"/home/mkk/Transferências/sp_v5\")"
   ]
  },
  {
   "cell_type": "code",
   "execution_count": null,
   "metadata": {},
   "outputs": [],
   "source": [
    "image_size=(512, 512)\n",
    "\n",
    "sample_fn = create_training_image_pair_sampler_fn(\n",
    "    extractor=extractor,\n",
    "    image_size=image_size,\n",
    "    reprojection_threshold = 5, \n",
    "    num_matches=512,\n",
    ")"
   ]
  },
  {
   "cell_type": "code",
   "execution_count": null,
   "metadata": {},
   "outputs": [],
   "source": [
    "image = Image.open(\"/home/mkk/Downloads/a.jpg\")\n",
    "image_np = np.array(image)"
   ]
  },
  {
   "cell_type": "code",
   "execution_count": null,
   "metadata": {},
   "outputs": [],
   "source": [
    "input_image = np.array(image.resize(image_size))\n",
    "transformed_image, (features, labels) = sample_fn(image_np)"
   ]
  },
  {
   "cell_type": "code",
   "execution_count": null,
   "metadata": {},
   "outputs": [],
   "source": [
    "fa, ka, fb, kb = features"
   ]
  },
  {
   "cell_type": "code",
   "execution_count": null,
   "metadata": {},
   "outputs": [],
   "source": [
    "cv_ka = Keypoints.convert_numpy_keypoints_to_cv(ka.numpy() * np.array([[512, 512]]))\n",
    "cv_kb = Keypoints.convert_numpy_keypoints_to_cv(kb.numpy() * np.array([[512, 512]]))"
   ]
  },
  {
   "cell_type": "code",
   "execution_count": null,
   "metadata": {},
   "outputs": [],
   "source": [
    "np.where(np.diff(labels[:, -1]) == 1)[0]"
   ]
  },
  {
   "cell_type": "code",
   "execution_count": null,
   "metadata": {},
   "outputs": [],
   "source": [
    "img_with_keypoints = cv2.drawKeypoints(\n",
    "    input_image, \n",
    "    cv_ka, \n",
    "    outImage=None, color=(0, 0, 255), \n",
    "    flags=cv2.DRAW_MATCHES_FLAGS_DRAW_RICH_KEYPOINTS\n",
    ")"
   ]
  },
  {
   "cell_type": "code",
   "execution_count": null,
   "metadata": {},
   "outputs": [],
   "source": [
    "Image.fromarray(img_with_keypoints)"
   ]
  },
  {
   "cell_type": "code",
   "execution_count": null,
   "metadata": {},
   "outputs": [],
   "source": [
    "img_with_keypoints = cv2.drawKeypoints(\n",
    "    transformed_image.numpy().astype(\"uint8\"), \n",
    "    cv_kb, \n",
    "    outImage=None, color=(0, 0, 255), \n",
    "    flags=cv2.DRAW_MATCHES_FLAGS_DRAW_RICH_KEYPOINTS\n",
    ")"
   ]
  },
  {
   "cell_type": "code",
   "execution_count": null,
   "metadata": {},
   "outputs": [],
   "source": [
    "Image.fromarray(img_with_keypoints)"
   ]
  },
  {
   "cell_type": "code",
   "execution_count": null,
   "metadata": {},
   "outputs": [],
   "source": [
    "np.where(np.diff(labels[:, -1]) == 1)[0][0]"
   ]
  },
  {
   "cell_type": "code",
   "execution_count": null,
   "metadata": {},
   "outputs": [],
   "source": [
    "start = 450\n",
    "num_matches = 512\n",
    "img_with_keypoints = cv2.drawMatches(\n",
    "    input_image, cv_ka[start:num_matches],\n",
    "    transformed_image.numpy().astype(\"uint8\"), cv_kb[start:num_matches],\n",
    "    [cv2.DMatch(_queryIdx=i, _trainIdx=i, _distance=0) for i in range(num_matches - start)], outImg=None\n",
    ")"
   ]
  },
  {
   "cell_type": "code",
   "execution_count": null,
   "metadata": {},
   "outputs": [],
   "source": [
    "Image.fromarray(img_with_keypoints)"
   ]
  },
  {
   "cell_type": "markdown",
   "metadata": {},
   "source": []
  },
  {
   "cell_type": "code",
   "execution_count": null,
   "metadata": {},
   "outputs": [],
   "source": []
  },
  {
   "cell_type": "code",
   "execution_count": null,
   "metadata": {},
   "outputs": [],
   "source": [
    "from superglue.homographies import homographic_augmentation, invert_homography, warp_points"
   ]
  },
  {
   "cell_type": "code",
   "execution_count": null,
   "metadata": {},
   "outputs": [],
   "source": [
    "data = {\"image\": image_np, \"keypoints\": keypoints.keypoints}\n",
    "transformed_data = homographic_augmentation(data, add_homography=True, params={}, valid_border_margin=0)"
   ]
  },
  {
   "cell_type": "code",
   "execution_count": null,
   "metadata": {},
   "outputs": [],
   "source": [
    "img_with_keypoints = cv2.drawKeypoints(\n",
    "    transformed_data['image'].numpy(), \n",
    "    Keypoints.convert_numpy_keypoints_to_cv(transformed_data['keypoints'].numpy()), \n",
    "    outImage=None, color=(0, 0, 255), flags=cv2.DRAW_MATCHES_FLAGS_DRAW_RICH_KEYPOINTS\n",
    ")\n",
    "Image.fromarray(img_with_keypoints)"
   ]
  },
  {
   "cell_type": "code",
   "execution_count": null,
   "metadata": {},
   "outputs": [],
   "source": [
    "# Image.fromarray(transformed_data['image'].numpy())\n",
    "keypoints2 = extractor.extract(transformed_data['image'])"
   ]
  },
  {
   "cell_type": "code",
   "execution_count": null,
   "metadata": {},
   "outputs": [],
   "source": [
    "len(keypoints2.keypoints)"
   ]
  },
  {
   "cell_type": "code",
   "execution_count": null,
   "metadata": {},
   "outputs": [],
   "source": [
    "img_with_keypoints = cv2.drawKeypoints(\n",
    "    transformed_data['image'].numpy(), \n",
    "    keypoints2.cv_keypoints, outImage=None, color=(0, 0, 255), \n",
    "    flags=cv2.DRAW_MATCHES_FLAGS_DRAW_RICH_KEYPOINTS\n",
    ")"
   ]
  },
  {
   "cell_type": "code",
   "execution_count": null,
   "metadata": {},
   "outputs": [],
   "source": [
    "Image.fromarray(img_with_keypoints)"
   ]
  },
  {
   "cell_type": "code",
   "execution_count": null,
   "metadata": {},
   "outputs": [],
   "source": [
    "# transformed_data['keypoints']"
   ]
  },
  {
   "cell_type": "code",
   "execution_count": null,
   "metadata": {},
   "outputs": [],
   "source": []
  },
  {
   "cell_type": "code",
   "execution_count": null,
   "metadata": {},
   "outputs": [],
   "source": [
    "import tensorflow as tf"
   ]
  },
  {
   "cell_type": "code",
   "execution_count": null,
   "metadata": {},
   "outputs": [],
   "source": [
    "inv_homography = invert_homography(tf.expand_dims(transformed_data['homography'], 0))"
   ]
  },
  {
   "cell_type": "code",
   "execution_count": null,
   "metadata": {},
   "outputs": [],
   "source": [
    "reprojected_points = warp_points(keypoints2.numpy_keypoints(), inv_homography[0])"
   ]
  },
  {
   "cell_type": "code",
   "execution_count": null,
   "metadata": {},
   "outputs": [],
   "source": [
    "img_with_keypoints = cv2.drawKeypoints(\n",
    "    image_np, Keypoints.convert_numpy_keypoints_to_cv(reprojected_points.numpy()), outImage=None, color=(0, 0, 255), \n",
    "    flags=cv2.DRAW_MATCHES_FLAGS_DRAW_RICH_KEYPOINTS\n",
    ")"
   ]
  },
  {
   "cell_type": "code",
   "execution_count": null,
   "metadata": {},
   "outputs": [],
   "source": [
    "Image.fromarray(img_with_keypoints)"
   ]
  },
  {
   "cell_type": "code",
   "execution_count": null,
   "metadata": {},
   "outputs": [],
   "source": [
    "from scipy.spatial import distance_matrix"
   ]
  },
  {
   "cell_type": "code",
   "execution_count": null,
   "metadata": {
    "scrolled": true
   },
   "outputs": [],
   "source": [
    "match_matrix = distance_matrix(keypoints.numpy_keypoints(), reprojected_points.numpy())"
   ]
  },
  {
   "cell_type": "code",
   "execution_count": null,
   "metadata": {},
   "outputs": [],
   "source": [
    "k1 = keypoints.numpy_keypoints()\n",
    "k2 = reprojected_points.numpy()\n",
    "dmat = np.sqrt(np.maximum(np.sum(k1**2, -1, keepdims=True) - 2 * k1 @ k2.T + np.sum(k2**2, -1, keepdims=True).T, 0.0))\n",
    "dmat"
   ]
  },
  {
   "cell_type": "code",
   "execution_count": null,
   "metadata": {},
   "outputs": [],
   "source": [
    "np.max(np.abs(match_matrix - dmat))"
   ]
  },
  {
   "cell_type": "code",
   "execution_count": null,
   "metadata": {},
   "outputs": [],
   "source": [
    "dmat.min(-1) < 5 "
   ]
  },
  {
   "cell_type": "code",
   "execution_count": null,
   "metadata": {},
   "outputs": [],
   "source": []
  }
 ],
 "metadata": {
  "kernelspec": {
   "display_name": "tensorflow2",
   "language": "python",
   "name": "tensorflow2"
  },
  "language_info": {
   "codemirror_mode": {
    "name": "ipython",
    "version": 3
   },
   "file_extension": ".py",
   "mimetype": "text/x-python",
   "name": "python",
   "nbconvert_exporter": "python",
   "pygments_lexer": "ipython3",
   "version": "3.6.9"
  }
 },
 "nbformat": 4,
 "nbformat_minor": 4
}
