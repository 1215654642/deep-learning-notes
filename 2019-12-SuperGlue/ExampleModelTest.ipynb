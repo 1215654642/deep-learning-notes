{
 "cells": [
  {
   "cell_type": "code",
   "execution_count": 1,
   "metadata": {},
   "outputs": [],
   "source": [
    "import tensorflow as tf\n",
    "import numpy as np"
   ]
  },
  {
   "cell_type": "code",
   "execution_count": 11,
   "metadata": {},
   "outputs": [],
   "source": [
    "batch_size = 32\n",
    "num_keypoints = 128\n",
    "depth = 256\n",
    "training = True\n",
    "num_heads = 1\n",
    "num_layers = 3\n",
    "\n",
    "# left image\n",
    "pR = tf.random.uniform([batch_size, num_keypoints, 2])\n",
    "dR = tf.random.uniform([batch_size, num_keypoints, depth])\n",
    "\n",
    "pL = pR\n",
    "dL = dR\n",
    "# pL = tf.random.uniform([batch_size, num_keypoints//2, 2])\n",
    "# dL = tf.random.uniform([batch_size, num_keypoints//2, depth])"
   ]
  },
  {
   "cell_type": "code",
   "execution_count": 12,
   "metadata": {},
   "outputs": [],
   "source": [
    "from superglue.layers import SuperGlue"
   ]
  },
  {
   "cell_type": "code",
   "execution_count": 13,
   "metadata": {},
   "outputs": [],
   "source": [
    "model = SuperGlue(depth=depth, num_layers=num_layers, num_heads=num_heads)"
   ]
  },
  {
   "cell_type": "code",
   "execution_count": 14,
   "metadata": {},
   "outputs": [],
   "source": [
    "fA, fB = model(dR, pR, dL, pL, training=training)"
   ]
  },
  {
   "cell_type": "code",
   "execution_count": 16,
   "metadata": {},
   "outputs": [
    {
     "name": "stdout",
     "output_type": "stream",
     "text": [
      "Model: \"super_glue_1\"\n",
      "_________________________________________________________________\n",
      "Layer (type)                 Output Shape              Param #   \n",
      "=================================================================\n",
      "keypoint_encoder_layer_1 (Ke multiple                  111264    \n",
      "_________________________________________________________________\n",
      "attentional_message_passing_ multiple                  659200    \n",
      "_________________________________________________________________\n",
      "attentional_message_passing_ multiple                  659200    \n",
      "_________________________________________________________________\n",
      "attentional_message_passing_ multiple                  659200    \n",
      "_________________________________________________________________\n",
      "attentional_message_passing_ multiple                  659200    \n",
      "_________________________________________________________________\n",
      "attentional_message_passing_ multiple                  659200    \n",
      "_________________________________________________________________\n",
      "attentional_message_passing_ multiple                  659200    \n",
      "_________________________________________________________________\n",
      "dense_155 (Dense)            multiple                  65792     \n",
      "=================================================================\n",
      "Total params: 4,132,256\n",
      "Trainable params: 4,125,152\n",
      "Non-trainable params: 7,104\n",
      "_________________________________________________________________\n"
     ]
    }
   ],
   "source": [
    "model.summary()"
   ]
  },
  {
   "cell_type": "code",
   "execution_count": 17,
   "metadata": {},
   "outputs": [
    {
     "data": {
      "text/plain": [
       "(TensorShape([32, 128, 256]), TensorShape([32, 128, 256]))"
      ]
     },
     "execution_count": 17,
     "metadata": {},
     "output_type": "execute_result"
    }
   ],
   "source": [
    "fA.shape, fB.shape"
   ]
  },
  {
   "cell_type": "code",
   "execution_count": 39,
   "metadata": {},
   "outputs": [],
   "source": [
    "dustbin_var = tf.Variable(3.0)"
   ]
  },
  {
   "cell_type": "code",
   "execution_count": 40,
   "metadata": {},
   "outputs": [],
   "source": [
    "batch_size, num_keypoints, latent_size = fA.shape.as_list()"
   ]
  },
  {
   "cell_type": "code",
   "execution_count": 41,
   "metadata": {},
   "outputs": [],
   "source": [
    "Sij = tf.matmul(fA, fB, transpose_b=True)"
   ]
  },
  {
   "cell_type": "code",
   "execution_count": 42,
   "metadata": {},
   "outputs": [],
   "source": [
    "row = dustbin_var * tf.ones([batch_size, 1, num_keypoints])\n",
    "col = dustbin_var * tf.ones([batch_size, num_keypoints + 1, 1])\n",
    "Sij_aug = tf.concat([Sij, row], axis=1)\n",
    "Sij_aug = tf.concat([Sij_aug, col], axis=2)"
   ]
  },
  {
   "cell_type": "code",
   "execution_count": 43,
   "metadata": {},
   "outputs": [
    {
     "data": {
      "text/plain": [
       "<tf.Tensor: id=19401, shape=(4, 4), dtype=float32, numpy=\n",
       "array([[ 840.576  ,  335.8401 ,  520.214  ,    3.     ],\n",
       "       [ 335.8401 , 1014.63934,  321.977  ,    3.     ],\n",
       "       [ 520.214  ,  321.977  ,  966.836  ,    3.     ],\n",
       "       [   3.     ,    3.     ,    3.     ,    3.     ]], dtype=float32)>"
      ]
     },
     "execution_count": 43,
     "metadata": {},
     "output_type": "execute_result"
    }
   ],
   "source": [
    "Sij_aug[0, -4:, -4:]"
   ]
  },
  {
   "cell_type": "code",
   "execution_count": 47,
   "metadata": {},
   "outputs": [],
   "source": [
    "a_vec = np.array([[1.0] * num_keypoints + [num_keypoints]])\n",
    "b_vec = np.array([[1.0] * num_keypoints + [num_keypoints]])\n",
    "a_vec = tf.convert_to_tensor(a_vec)\n",
    "b_vec = tf.convert_to_tensor(b_vec)"
   ]
  },
  {
   "cell_type": "code",
   "execution_count": 49,
   "metadata": {},
   "outputs": [
    {
     "data": {
      "text/plain": [
       "TensorShape([1, 129])"
      ]
     },
     "execution_count": 49,
     "metadata": {},
     "output_type": "execute_result"
    }
   ],
   "source": [
    "b_vec.shape"
   ]
  },
  {
   "cell_type": "code",
   "execution_count": 45,
   "metadata": {},
   "outputs": [],
   "source": [
    "Sij_aug_final = - Sij_aug"
   ]
  },
  {
   "cell_type": "code",
   "execution_count": 46,
   "metadata": {},
   "outputs": [],
   "source": [
    "from superglue.losses import py_compute_optimal_transport"
   ]
  },
  {
   "cell_type": "code",
   "execution_count": null,
   "metadata": {},
   "outputs": [],
   "source": [
    "tf.py_function(py_compute_optimal_transport)"
   ]
  }
 ],
 "metadata": {
  "kernelspec": {
   "display_name": "tensorflow2",
   "language": "python",
   "name": "tensorflow2"
  },
  "language_info": {
   "codemirror_mode": {
    "name": "ipython",
    "version": 3
   },
   "file_extension": ".py",
   "mimetype": "text/x-python",
   "name": "python",
   "nbconvert_exporter": "python",
   "pygments_lexer": "ipython3",
   "version": "3.6.9"
  }
 },
 "nbformat": 4,
 "nbformat_minor": 4
}
