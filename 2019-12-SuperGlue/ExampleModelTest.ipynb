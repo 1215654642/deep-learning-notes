{
 "cells": [
  {
   "cell_type": "code",
   "execution_count": 1,
   "metadata": {},
   "outputs": [],
   "source": [
    "import os\n",
    "os.environ[\"CUDA_VISIBLE_DEVICES\"] = \"-1\""
   ]
  },
  {
   "cell_type": "code",
   "execution_count": 2,
   "metadata": {},
   "outputs": [],
   "source": [
    "import tensorflow as tf\n",
    "import matplotlib.pyplot as plt\n",
    "import numpy as np"
   ]
  },
  {
   "cell_type": "code",
   "execution_count": 3,
   "metadata": {},
   "outputs": [],
   "source": [
    "batch_size = 8\n",
    "num_keypoints = 64\n",
    "depth = 128\n",
    "training = True\n",
    "num_heads = 1\n",
    "num_layers = 2"
   ]
  },
  {
   "cell_type": "code",
   "execution_count": null,
   "metadata": {},
   "outputs": [],
   "source": []
  },
  {
   "cell_type": "code",
   "execution_count": 4,
   "metadata": {},
   "outputs": [],
   "source": [
    "from superglue.layers import SuperGlue\n",
    "from superglue.losses import AugmentedSinkhornKnoppLayer, assignment_log_likelihood_from_matrix"
   ]
  },
  {
   "cell_type": "code",
   "execution_count": 5,
   "metadata": {},
   "outputs": [],
   "source": [
    "model = SuperGlue(depth=depth, num_layers=num_layers, num_heads=num_heads)\n",
    "optimal_assignment = AugmentedSinkhornKnoppLayer(lam=5, num_steps=100)"
   ]
  },
  {
   "cell_type": "code",
   "execution_count": 6,
   "metadata": {},
   "outputs": [],
   "source": [
    "input_dA = tf.keras.layers.Input(shape=[num_keypoints, depth])\n",
    "input_pA = tf.keras.layers.Input(shape=[num_keypoints, 2])\n",
    "\n",
    "input_dB = tf.keras.layers.Input(shape=[num_keypoints, depth])\n",
    "input_pB = tf.keras.layers.Input(shape=[num_keypoints, 2])\n",
    "\n",
    "input_pij_labels = tf.keras.layers.Input(shape=[num_keypoints+1, num_keypoints+1], dtype=tf.float32)"
   ]
  },
  {
   "cell_type": "code",
   "execution_count": 7,
   "metadata": {},
   "outputs": [],
   "source": [
    "fA, fB = model(input_dA, input_pA, input_dB, input_pB, training=training)"
   ]
  },
  {
   "cell_type": "code",
   "execution_count": 8,
   "metadata": {},
   "outputs": [
    {
     "name": "stdout",
     "output_type": "stream",
     "text": [
      "Model: \"super_glue\"\n",
      "_________________________________________________________________\n",
      "Layer (type)                 Output Shape              Param #   \n",
      "=================================================================\n",
      "keypoint_encoder_layer (Keyp (None, 64, 128)           78368     \n",
      "_________________________________________________________________\n",
      "attentional_message_passing_ (None, 64, 128)           165760    \n",
      "_________________________________________________________________\n",
      "attentional_message_passing_ (None, 64, 128)           165760    \n",
      "_________________________________________________________________\n",
      "attentional_message_passing_ (None, 64, 128)           165760    \n",
      "_________________________________________________________________\n",
      "attentional_message_passing_ (None, 64, 128)           165760    \n",
      "_________________________________________________________________\n",
      "dense_29 (Dense)             (None, 64, 128)           16512     \n",
      "=================================================================\n",
      "Total params: 757,920\n",
      "Trainable params: 754,912\n",
      "Non-trainable params: 3,008\n",
      "_________________________________________________________________\n"
     ]
    }
   ],
   "source": [
    "model.summary()"
   ]
  },
  {
   "cell_type": "code",
   "execution_count": 9,
   "metadata": {},
   "outputs": [
    {
     "data": {
      "text/plain": [
       "(TensorShape([None, 64, 128]), TensorShape([None, 64, 128]))"
      ]
     },
     "execution_count": 9,
     "metadata": {},
     "output_type": "execute_result"
    }
   ],
   "source": [
    "fA.shape, fB.shape"
   ]
  },
  {
   "cell_type": "code",
   "execution_count": 10,
   "metadata": {},
   "outputs": [],
   "source": [
    "Pij, Sij = optimal_assignment(fA, fB)"
   ]
  },
  {
   "cell_type": "code",
   "execution_count": 11,
   "metadata": {},
   "outputs": [
    {
     "data": {
      "text/plain": [
       "(<tf.Tensor 'augmented_sinkhorn_knopp_layer/Identity:0' shape=(None, 65, 65) dtype=float32>,\n",
       " <tf.Tensor 'augmented_sinkhorn_knopp_layer/Identity_1:0' shape=(None, 64, 64) dtype=float32>)"
      ]
     },
     "execution_count": 11,
     "metadata": {},
     "output_type": "execute_result"
    }
   ],
   "source": [
    "Pij, Sij"
   ]
  },
  {
   "cell_type": "code",
   "execution_count": 12,
   "metadata": {},
   "outputs": [],
   "source": [
    "super_glue_model = tf.keras.models.Model(inputs=[input_dA, input_pA, input_dB, input_pB], outputs=Pij)"
   ]
  },
  {
   "cell_type": "code",
   "execution_count": 13,
   "metadata": {},
   "outputs": [
    {
     "name": "stdout",
     "output_type": "stream",
     "text": [
      "Model: \"model\"\n",
      "__________________________________________________________________________________________________\n",
      "Layer (type)                    Output Shape         Param #     Connected to                     \n",
      "==================================================================================================\n",
      "input_1 (InputLayer)            [(None, 64, 128)]    0                                            \n",
      "__________________________________________________________________________________________________\n",
      "input_3 (InputLayer)            [(None, 64, 128)]    0                                            \n",
      "__________________________________________________________________________________________________\n",
      "input_4 (InputLayer)            [(None, 64, 2)]      0                                            \n",
      "__________________________________________________________________________________________________\n",
      "input_2 (InputLayer)            [(None, 64, 2)]      0                                            \n",
      "__________________________________________________________________________________________________\n",
      "super_glue (SuperGlue)          ((None, 64, 128), (N 757920      input_1[0][0]                    \n",
      "__________________________________________________________________________________________________\n",
      "augmented_sinkhorn_knopp_layer  ((None, 65, 65), (No 1           super_glue[0][0]                 \n",
      "==================================================================================================\n",
      "Total params: 757,921\n",
      "Trainable params: 754,913\n",
      "Non-trainable params: 3,008\n",
      "__________________________________________________________________________________________________\n"
     ]
    }
   ],
   "source": [
    "super_glue_model.summary()"
   ]
  },
  {
   "cell_type": "code",
   "execution_count": null,
   "metadata": {},
   "outputs": [],
   "source": []
  },
  {
   "cell_type": "code",
   "execution_count": 14,
   "metadata": {},
   "outputs": [],
   "source": [
    "def fake_data_generator():\n",
    "    while True:\n",
    "        # left image\n",
    "        pR = tf.random.uniform([batch_size, num_keypoints, 2])\n",
    "        dR = tf.random.uniform([batch_size, num_keypoints, depth])\n",
    "\n",
    "        pL = pR\n",
    "        dL = dR\n",
    "\n",
    "        iv = np.array([np.arange(num_keypoints)]*batch_size)\n",
    "        jv = np.array([np.arange(num_keypoints)]*batch_size)\n",
    "        \n",
    "        match_matrix = np.eye(num_keypoints+1)\n",
    "        match_matrix[-1, -1] = 0\n",
    "        pij_labels = np.array([match_matrix]*batch_size)\n",
    "        yield (dR, pR, dL, pL), pij_labels"
   ]
  },
  {
   "cell_type": "code",
   "execution_count": 15,
   "metadata": {},
   "outputs": [
    {
     "data": {
      "text/plain": [
       "[<tf.Variable 'Variable:0' shape=() dtype=float32, numpy=0.0>]"
      ]
     },
     "execution_count": 15,
     "metadata": {},
     "output_type": "execute_result"
    }
   ],
   "source": [
    "optimal_assignment.weights"
   ]
  },
  {
   "cell_type": "code",
   "execution_count": 16,
   "metadata": {},
   "outputs": [
    {
     "data": {
      "text/plain": [
       "<matplotlib.image.AxesImage at 0x7ffa8171bd30>"
      ]
     },
     "execution_count": 16,
     "metadata": {},
     "output_type": "execute_result"
    },
    {
     "data": {
      "image/png": "[encoded data removed]",
      "text/plain": [
       "<Figure size 432x288 with 1 Axes>"
      ]
     },
     "metadata": {
      "needs_background": "light"
     },
     "output_type": "display_data"
    }
   ],
   "source": [
    "predicted_pij = super_glue_model.predict_generator(fake_data_generator(), steps=1)\n",
    "plt.imshow(predicted_pij[0][:-1, :-1])"
   ]
  },
  {
   "cell_type": "code",
   "execution_count": 17,
   "metadata": {},
   "outputs": [],
   "source": [
    "optimizer = tf.keras.optimizers.Adam(learning_rate=0.001)\n",
    "super_glue_model.compile(optimizer=optimizer, loss=assignment_log_likelihood_from_matrix)"
   ]
  },
  {
   "cell_type": "code",
   "execution_count": 18,
   "metadata": {},
   "outputs": [
    {
     "name": "stdout",
     "output_type": "stream",
     "text": [
      "50/50 [==============================] - 40s 791ms/step - loss: 59.8360\n"
     ]
    },
    {
     "data": {
      "text/plain": [
       "<tensorflow.python.keras.callbacks.History at 0x7ffa820197b8>"
      ]
     },
     "execution_count": 18,
     "metadata": {},
     "output_type": "execute_result"
    }
   ],
   "source": [
    "super_glue_model.fit_generator(fake_data_generator(), epochs=1, steps_per_epoch=50)"
   ]
  },
  {
   "cell_type": "code",
   "execution_count": 19,
   "metadata": {},
   "outputs": [
    {
     "data": {
      "text/plain": [
       "[<tf.Variable 'Variable:0' shape=() dtype=float32, numpy=-0.051113028>]"
      ]
     },
     "execution_count": 19,
     "metadata": {},
     "output_type": "execute_result"
    }
   ],
   "source": [
    "optimal_assignment.weights"
   ]
  },
  {
   "cell_type": "code",
   "execution_count": 20,
   "metadata": {},
   "outputs": [
    {
     "data": {
      "text/plain": [
       "<matplotlib.image.AxesImage at 0x7ffa829e16d8>"
      ]
     },
     "execution_count": 20,
     "metadata": {},
     "output_type": "execute_result"
    },
    {
     "data": {
      "image/png": "[encoded data removed]",
      "text/plain": [
       "<Figure size 432x288 with 1 Axes>"
      ]
     },
     "metadata": {
      "needs_background": "light"
     },
     "output_type": "display_data"
    }
   ],
   "source": [
    "predicted_pij = super_glue_model.predict_generator(fake_data_generator(), steps=1)\n",
    "plt.imshow(predicted_pij[0][:-1, :-1])"
   ]
  },
  {
   "cell_type": "code",
   "execution_count": null,
   "metadata": {},
   "outputs": [],
   "source": []
  },
  {
   "cell_type": "code",
   "execution_count": null,
   "metadata": {},
   "outputs": [],
   "source": []
  }
 ],
 "metadata": {
  "kernelspec": {
   "display_name": "tensorflow2",
   "language": "python",
   "name": "tensorflow2"
  },
  "language_info": {
   "codemirror_mode": {
    "name": "ipython",
    "version": 3
   },
   "file_extension": ".py",
   "mimetype": "text/x-python",
   "name": "python",
   "nbconvert_exporter": "python",
   "pygments_lexer": "ipython3",
   "version": "3.6.9"
  }
 },
 "nbformat": 4,
 "nbformat_minor": 4
}
