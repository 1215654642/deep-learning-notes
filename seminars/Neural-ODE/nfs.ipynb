{
 "cells": [
  {
   "cell_type": "code",
   "execution_count": 1,
   "metadata": {},
   "outputs": [],
   "source": [
    "import numpy as np\n",
    "import numpy.random as npr\n",
    "from tqdm import tqdm\n",
    "import tensorflow as tf"
   ]
  },
  {
   "cell_type": "code",
   "execution_count": 2,
   "metadata": {},
   "outputs": [],
   "source": [
    "import matplotlib.pyplot as plt\n",
    "%matplotlib inline"
   ]
  },
  {
   "cell_type": "code",
   "execution_count": 3,
   "metadata": {},
   "outputs": [],
   "source": [
    "import tensorflow.contrib.eager as tfe\n",
    "tf.enable_eager_execution()"
   ]
  },
  {
   "cell_type": "code",
   "execution_count": 4,
   "metadata": {},
   "outputs": [],
   "source": [
    "%load_ext autoreload\n",
    "%autoreload 2"
   ]
  },
  {
   "cell_type": "code",
   "execution_count": 5,
   "metadata": {},
   "outputs": [],
   "source": [
    "num_steps = 1000"
   ]
  },
  {
   "cell_type": "code",
   "execution_count": 6,
   "metadata": {},
   "outputs": [],
   "source": [
    "from neural_ode import NeuralODE"
   ]
  },
  {
   "cell_type": "code",
   "execution_count": 7,
   "metadata": {},
   "outputs": [],
   "source": [
    "def w_initializer(shape, scale=1):\n",
    "    w = 2 * scale * (np.random.rand(*shape) - 0.5)    \n",
    "    return w.astype('float32')\n",
    "\n",
    "\n",
    "class PlanarFlow(tf.keras.Model):\n",
    "    \n",
    "    def __init__(self, dim, scale=1.0, bias_scale=1.0, w_scale=1.0, activation_fn=tf.nn.tanh):\n",
    "        super().__init__()\n",
    "        self.weight = tf.Variable(w_scale * (w_initializer([1, dim])), name='weight')\n",
    "        self.bias = tf.Variable(scale * w_initializer([1, 1]), name='bias')\n",
    "        self.scale = tf.Variable(bias_scale * (w_initializer([1, dim])), name='scale')\n",
    "        self.activation = activation_fn\n",
    "      \n",
    "    def linear(self, z):\n",
    "        return tf.reduce_sum(z * self.weight, axis=-1, keepdims=True) + self.bias    \n",
    "        \n",
    "    def call(self, inputs, **kwargs):\n",
    "        z, logdet = inputs\n",
    "                \n",
    "        with tf.GradientTape() as g:\n",
    "            g.watch(z)\n",
    "            logits = self.linear(z)        \n",
    "            hfunc = self.activation(logits)        \n",
    "        \n",
    "        new_z = self.scale * hfunc\n",
    "\n",
    "        gradients = g.gradient(\n",
    "            target=hfunc,\n",
    "            sources=z,\n",
    "        )\n",
    "        new_logdet = - tf.matmul(gradients, tf.transpose(self.scale))        \n",
    "        return new_z, logdet + new_logdet\n",
    "\n",
    "    def compute_output_shape(self, input_shape):        \n",
    "        return input_shape\n",
    "    \n",
    "    \n",
    "class MultipleFlow(tf.keras.Model):\n",
    "    \n",
    "    def __init__(self, num_flows, flow_factory=lambda: PlanarFlow(2)):\n",
    "        super().__init__()\n",
    "        self.flows = [flow_factory() for _ in range(num_flows)]\n",
    "        \n",
    "    def call(self, inputs, **kwargs):\n",
    "        z, logdet = inputs\n",
    "        for flow in self.flows:\n",
    "            z_k, logdet_k = flow(inputs)\n",
    "            z = z + z_k\n",
    "            logdet = logdet + logdet_k            \n",
    "        return z, logdet\n",
    "\n",
    "    def compute_output_shape(self, input_shape):        \n",
    "        return input_shape\n",
    "\n",
    "class AffineFlow(tf.keras.Model):\n",
    "    \n",
    "    def __init__(self, dim):\n",
    "        super().__init__()\n",
    "        self.weight = tf.Variable(np.array([[1, 0], [0, 1]]).astype(\"float32\"), name='weight')\n",
    "        self.bias = tf.Variable(np.zeros([1, dim]).astype(\"float32\"), name='bias')                \n",
    "      \n",
    "    def linear(self, z):\n",
    "        return tf.matmul(z, self.weight) + self.bias    \n",
    "        \n",
    "    def call(self, inputs, **kwargs):\n",
    "        z, logdet = inputs\n",
    "        new_z = self.linear(z)   \n",
    "        new_logdet = - tf.expand_dims(tf.linalg.trace(self.weight), 0)        \n",
    "        return new_z, logdet + new_logdet\n",
    "\n",
    "    def compute_output_shape(self, input_shape):        \n",
    "        return input_shape"
   ]
  },
  {
   "cell_type": "code",
   "execution_count": 170,
   "metadata": {},
   "outputs": [],
   "source": [
    "flow = MultipleFlow(5)"
   ]
  },
  {
   "cell_type": "code",
   "execution_count": null,
   "metadata": {},
   "outputs": [],
   "source": []
  },
  {
   "cell_type": "code",
   "execution_count": 213,
   "metadata": {},
   "outputs": [],
   "source": [
    "from sklearn.datasets import make_moons\n",
    "x_input = tf.to_float(make_moons(n_samples=256, noise=0.05)[0])\n",
    "# x_input = tf.random_normal([512, 2])\n",
    "# x_target = [[0.8, 0.2]]* x_input + [[-4, 5]]"
   ]
  },
  {
   "cell_type": "code",
   "execution_count": 214,
   "metadata": {},
   "outputs": [],
   "source": [
    "neural_ode = NeuralODE(flow, tmax=1.0, num_steps=20)\n",
    "x_output, x_logdet = neural_ode.forward([x_input, 0.0])"
   ]
  },
  {
   "cell_type": "code",
   "execution_count": 215,
   "metadata": {},
   "outputs": [
    {
     "data": {
      "text/plain": [
       "(-3.4674773580985163,\n",
       " 2.3332058619867717,\n",
       " -2.4338843252147013,\n",
       " 1.2867725721943846)"
      ]
     },
     "execution_count": 215,
     "metadata": {},
     "output_type": "execute_result"
    },
    {
     "data": {
      "image/png": "[encoded data removed]",
      "text/plain": [
       "<matplotlib.figure.Figure at 0x7f41b95fffd0>"
      ]
     },
     "metadata": {
      "needs_background": "light"
     },
     "output_type": "display_data"
    }
   ],
   "source": [
    "plt.scatter(*x_input.numpy().T, color='r')\n",
    "# plt.scatter(*x_target.numpy().T, color='g')\n",
    "plt.scatter(*x_output.numpy().T, color='k', alpha=0.5)\n",
    "plt.axis(\"equal\")"
   ]
  },
  {
   "cell_type": "code",
   "execution_count": 201,
   "metadata": {},
   "outputs": [],
   "source": [
    "p0 = tf.distributions.Normal(loc=[0.0, 0.0], scale=[1.0, 1.0])"
   ]
  },
  {
   "cell_type": "code",
   "execution_count": 202,
   "metadata": {},
   "outputs": [
    {
     "data": {
      "text/plain": [
       "(<tf.Tensor: id=269588, shape=(1,), dtype=float32, numpy=array([40568.44], dtype=float32)>,\n",
       " <tf.Tensor: id=272149, shape=(1,), dtype=float32, numpy=array([38674.246], dtype=float32)>)"
      ]
     },
     "execution_count": 202,
     "metadata": {},
     "output_type": "execute_result"
    }
   ],
   "source": [
    "x_output, x_logdet = neural_ode.forward([x_input, 0.0])\n",
    "# loss to maximize\n",
    "neg_log_loss_per_sample = tf.reduce_sum(p0.log_prob(x_output), axis=1, keep_dims=True) - x_logdet\n",
    "# loss to minimize\n",
    "loss = - sum(neg_log_loss_per_sample)\n",
    "loss, sum(x_logdet)"
   ]
  },
  {
   "cell_type": "code",
   "execution_count": 203,
   "metadata": {},
   "outputs": [
    {
     "data": {
      "text/plain": [
       "(-2.326946138691315,\n",
       " 3.3366609805339666,\n",
       " -1.9279772602336296,\n",
       " 2.515113290430773)"
      ]
     },
     "execution_count": 203,
     "metadata": {},
     "output_type": "execute_result"
    },
    {
     "data": {
      "image/png": "[encoded data removed]",
      "text/plain": [
       "<matplotlib.figure.Figure at 0x7f41ce142f28>"
      ]
     },
     "metadata": {
      "needs_background": "light"
     },
     "output_type": "display_data"
    }
   ],
   "source": [
    "plt.scatter(*x_input.numpy().T, color='r')\n",
    "plt.scatter(*x_output.numpy().T, color='k', alpha=0.5)\n",
    "plt.axis(\"equal\")"
   ]
  },
  {
   "cell_type": "code",
   "execution_count": null,
   "metadata": {},
   "outputs": [],
   "source": []
  },
  {
   "cell_type": "code",
   "execution_count": 8,
   "metadata": {},
   "outputs": [],
   "source": [
    "def w1(z):\n",
    "    return tf.sin(2.*np.pi*z[0]/4.)\n",
    "def w2(z):\n",
    "    return 3.*tf.exp(-.5*(((z[0]-1.)/.6))**2)\n",
    "def w3(z):\n",
    "    return 3.*(1+tf.exp(-(z[0]-1.)/.3))**-1\n",
    "\n",
    "def potential_energy(z):\n",
    "    z = tf.transpose(z)\n",
    "    return .5*((tf.norm(z, ord=2, axis=0) - 2.)/.4)**2 \\\n",
    "        - tf.log(tf.exp(-.5*((z[0]-2.)/.6)**2) + tf.exp(-.5*((z[0]+2.)/.6)**2))"
   ]
  },
  {
   "cell_type": "code",
   "execution_count": 9,
   "metadata": {},
   "outputs": [],
   "source": [
    "x_input = tf.random_normal([512, 2])"
   ]
  },
  {
   "cell_type": "code",
   "execution_count": 10,
   "metadata": {},
   "outputs": [],
   "source": [
    "# flow = AffineFlow(2)\n",
    "flow = MultipleFlow(1)\n",
    "neural_ode = NeuralODE(flow, tmax=-1.0, num_steps=10)\n",
    "odes = [NeuralODE(PlanarFlow(2, scale=0.1), tmax=1.0, num_steps=10) for i in range(8)]"
   ]
  },
  {
   "cell_type": "code",
   "execution_count": 11,
   "metadata": {},
   "outputs": [],
   "source": [
    "optimizer = tf.train.AdamOptimizer(learning_rate=1e-2)"
   ]
  },
  {
   "cell_type": "code",
   "execution_count": 12,
   "metadata": {},
   "outputs": [],
   "source": [
    "def compute_gradients_and_update(x_input):\n",
    "    with tf.GradientTape() as g:\n",
    "        inputs = [x_input, 0.0]\n",
    "        weights = []\n",
    "        for ode in odes:\n",
    "            outputs = ode.forward(inputs)\n",
    "            \n",
    "            x_output, x_logdet = outputs\n",
    "#             logp0 = tf.reduce_sum(p0.log_prob(x_output), axis=1, keepdims=True)\n",
    "#             neg_log_loss_per_sample = logp0 - x_logdet\n",
    "#             loss = - tf.reduce_sum(neg_log_loss_per_sample)\n",
    "            loss = potential_energy(x_output) + x_logdet        \n",
    "            loss = tf.reduce_mean(loss)\n",
    "            weights.extend(ode._model.weights)\n",
    "        \n",
    "        gradients = g.gradient(\n",
    "            target=loss,\n",
    "            sources=weights,\n",
    "        )        \n",
    "        optimizer.apply_gradients(zip(gradients, weights))\n",
    "    return loss\n",
    "\n",
    "compute_gradients_and_update = tfe.defun(compute_gradients_and_update)"
   ]
  },
  {
   "cell_type": "code",
   "execution_count": 20,
   "metadata": {},
   "outputs": [
    {
     "name": "stderr",
     "output_type": "stream",
     "text": [
      "100%|██████████| 1000/1000 [00:07<00:00, 142.50it/s]\n"
     ]
    }
   ],
   "source": [
    "loss_history = []\n",
    "for step in tqdm(range(1000)):\n",
    "    loss = compute_gradients_and_update(x_input)\n",
    "    loss_history.append(loss.numpy())"
   ]
  },
  {
   "cell_type": "code",
   "execution_count": 21,
   "metadata": {},
   "outputs": [
    {
     "data": {
      "text/plain": [
       "[1.5973417]"
      ]
     },
     "execution_count": 21,
     "metadata": {},
     "output_type": "execute_result"
    }
   ],
   "source": [
    "loss_history[-1:]"
   ]
  },
  {
   "cell_type": "code",
   "execution_count": 22,
   "metadata": {},
   "outputs": [
    {
     "data": {
      "text/plain": [
       "[<matplotlib.lines.Line2D at 0x7f81656c9588>]"
      ]
     },
     "execution_count": 22,
     "metadata": {},
     "output_type": "execute_result"
    },
    {
     "data": {
      "image/png": "[encoded data removed]",
      "text/plain": [
       "<matplotlib.figure.Figure at 0x7f81657b8be0>"
      ]
     },
     "metadata": {
      "needs_background": "light"
     },
     "output_type": "display_data"
    }
   ],
   "source": [
    "plt.plot(loss_history)"
   ]
  },
  {
   "cell_type": "code",
   "execution_count": 23,
   "metadata": {},
   "outputs": [],
   "source": [
    "x_output, x_logdet = neural_ode.forward([x_input, 0.0])"
   ]
  },
  {
   "cell_type": "code",
   "execution_count": 25,
   "metadata": {},
   "outputs": [
    {
     "data": {
      "text/plain": [
       "(-0.7063558384402251,\n",
       " 1.1134195014460537,\n",
       " -0.9268030854316209,\n",
       " 1.3793484302611803)"
      ]
     },
     "execution_count": 25,
     "metadata": {},
     "output_type": "execute_result"
    },
    {
     "data": {
      "image/png": "[encoded data removed]",
      "text/plain": [
       "<matplotlib.figure.Figure at 0x7f8165672278>"
      ]
     },
     "metadata": {
      "needs_background": "light"
     },
     "output_type": "display_data"
    }
   ],
   "source": [
    "# plt.scatter(*x_input.numpy().T, color='r')\n",
    "plt.scatter(*x_output.numpy().T, color='k', alpha=0.5)\n",
    "plt.axis(\"equal\")"
   ]
  },
  {
   "cell_type": "code",
   "execution_count": null,
   "metadata": {},
   "outputs": [],
   "source": []
  }
 ],
 "metadata": {
  "kernelspec": {
   "display_name": "vision-tf1.12",
   "language": "python",
   "name": "vision-tf1.12"
  },
  "language_info": {
   "codemirror_mode": {
    "name": "ipython",
    "version": 3
   },
   "file_extension": ".py",
   "mimetype": "text/x-python",
   "name": "python",
   "nbconvert_exporter": "python",
   "pygments_lexer": "ipython3",
   "version": "3.6.6"
  }
 },
 "nbformat": 4,
 "nbformat_minor": 2
}
