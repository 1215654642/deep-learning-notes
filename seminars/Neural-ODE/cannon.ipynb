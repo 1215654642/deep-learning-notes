{
 "cells": [
  {
   "cell_type": "code",
   "execution_count": 1,
   "metadata": {},
   "outputs": [],
   "source": [
    "import numpy as np\n",
    "import numpy.random as npr\n",
    "from tqdm import tqdm\n",
    "import tensorflow as tf"
   ]
  },
  {
   "cell_type": "code",
   "execution_count": 2,
   "metadata": {},
   "outputs": [],
   "source": [
    "import matplotlib.pyplot as plt\n",
    "%matplotlib inline"
   ]
  },
  {
   "cell_type": "code",
   "execution_count": 3,
   "metadata": {},
   "outputs": [],
   "source": [
    "import tensorflow.contrib.eager as tfe\n",
    "tf.enable_eager_execution()"
   ]
  },
  {
   "cell_type": "code",
   "execution_count": 4,
   "metadata": {},
   "outputs": [],
   "source": [
    "%load_ext autoreload\n",
    "%autoreload 2"
   ]
  },
  {
   "cell_type": "code",
   "execution_count": 5,
   "metadata": {},
   "outputs": [],
   "source": [
    "num_steps = 1000"
   ]
  },
  {
   "cell_type": "code",
   "execution_count": 6,
   "metadata": {},
   "outputs": [
    {
     "data": {
      "text/plain": [
       "<tf.Tensor: id=8, shape=(4,), dtype=float32, numpy=array([0.      , 0.      , 7.071068, 7.071068], dtype=float32)>"
      ]
     },
     "execution_count": 6,
     "metadata": {},
     "output_type": "execute_result"
    }
   ],
   "source": [
    "v0 = 10 * tf.to_float([1., 1.]) / 1.4142135623730951\n",
    "r0 = tf.to_float([0., 0.])\n",
    "\n",
    "init_state = tf.concat([r0, v0], 0)\n",
    "init_state"
   ]
  },
  {
   "cell_type": "code",
   "execution_count": 7,
   "metadata": {},
   "outputs": [],
   "source": [
    "class CannonODE(tf.keras.Model):\n",
    "    def call(self, inputs, **kwargs):\n",
    "        r_vec, v_vec = inputs[:2], inputs[2:]\n",
    "        v_length = tf.sqrt(tf.reduce_sum(v_vec**2)) + 1e-6\n",
    "        vn = v_vec / v_length\n",
    "        g_vec = tf.to_float([0, -10])\n",
    "        return tf.concat([v_vec, - 10.5 * vn + g_vec], 0)\n",
    "\n",
    "    def compute_output_shape(self, input_shape):        \n",
    "        return input_shape"
   ]
  },
  {
   "cell_type": "code",
   "execution_count": 8,
   "metadata": {},
   "outputs": [],
   "source": [
    "from neural_ode import NeuralODE"
   ]
  },
  {
   "cell_type": "code",
   "execution_count": 9,
   "metadata": {},
   "outputs": [
    {
     "data": {
      "text/plain": [
       "array([ 2.8883400e+00,  8.4779024e-02,  5.6787218e-07, -6.7263579e-01],\n",
       "      dtype=float32)"
      ]
     },
     "execution_count": 9,
     "metadata": {},
     "output_type": "execute_result"
    }
   ],
   "source": [
    "neural_ode = NeuralODE(CannonODE(), tmax=2.0, num_steps=num_steps)\n",
    "target_state, states_history = neural_ode.forward(init_state, return_states=\"numpy\")\n",
    "target_state.numpy()"
   ]
  },
  {
   "cell_type": "code",
   "execution_count": 10,
   "metadata": {},
   "outputs": [
    {
     "data": {
      "text/plain": [
       "(1001, 4)"
      ]
     },
     "execution_count": 10,
     "metadata": {},
     "output_type": "execute_result"
    }
   ],
   "source": [
    "trajectory = np.stack(states_history)\n",
    "trajectory.shape"
   ]
  },
  {
   "cell_type": "code",
   "execution_count": 11,
   "metadata": {},
   "outputs": [
    {
     "data": {
      "text/plain": [
       "[<matplotlib.lines.Line2D at 0x7fcdac6e6978>]"
      ]
     },
     "execution_count": 11,
     "metadata": {},
     "output_type": "execute_result"
    },
    {
     "data": {
      "image/png": "[encoded data removed]",
      "text/plain": [
       "<matplotlib.figure.Figure at 0x7fcdad015eb8>"
      ]
     },
     "metadata": {
      "needs_background": "light"
     },
     "output_type": "display_data"
    }
   ],
   "source": [
    "x, y = trajectory[:, 0], trajectory[:, 1]\n",
    "plt.plot(x, y)"
   ]
  },
  {
   "cell_type": "code",
   "execution_count": null,
   "metadata": {},
   "outputs": [],
   "source": []
  },
  {
   "cell_type": "code",
   "execution_count": 12,
   "metadata": {},
   "outputs": [],
   "source": [
    "v0 = tf.to_float([0., 0.])\n",
    "r0 = tf.to_float([2., 0.])\n",
    "target_state = tf.concat([r0, v0], 0)"
   ]
  },
  {
   "cell_type": "code",
   "execution_count": 13,
   "metadata": {},
   "outputs": [],
   "source": [
    "opt_neural_ode = NeuralODE(CannonODE(), tmax=2.0, num_steps=num_steps // 10)\n",
    "optimizer = tf.train.MomentumOptimizer(learning_rate=0.05, momentum=0.9)"
   ]
  },
  {
   "cell_type": "code",
   "execution_count": 14,
   "metadata": {},
   "outputs": [
    {
     "data": {
      "text/plain": [
       "<tf.Variable 'start_state:0' shape=(4,) dtype=float32, numpy=array([0.      , 0.      , 7.071068, 7.071068], dtype=float32)>"
      ]
     },
     "execution_count": 14,
     "metadata": {},
     "output_type": "execute_result"
    }
   ],
   "source": [
    "start_state = tf.Variable(init_state, name=\"start_state\")\n",
    "start_state"
   ]
  },
  {
   "cell_type": "code",
   "execution_count": 15,
   "metadata": {},
   "outputs": [
    {
     "name": "stderr",
     "output_type": "stream",
     "text": [
      "100%|██████████| 50/50 [00:23<00:00,  2.10it/s]\n"
     ]
    }
   ],
   "source": [
    "loss_history = []\n",
    "for step in tqdm(range(50)):\n",
    "    with tf.GradientTape() as g:    \n",
    "        g.watch(start_state) \n",
    "        end_state = opt_neural_ode.forward(start_state, return_states=False)\n",
    "        loss = tf.reduce_sum(tf.square(end_state[:2] - target_state[:2]))\n",
    "\n",
    "    dLoss = g.gradient(loss, start_state)    \n",
    "    dLoss = tf.to_float([0.0, 0.0, dLoss[2], dLoss[3]])    \n",
    "    optimizer.apply_gradients([(dLoss, start_state)])\n",
    "    loss_history.append(loss)"
   ]
  },
  {
   "cell_type": "code",
   "execution_count": 16,
   "metadata": {},
   "outputs": [
    {
     "data": {
      "text/plain": [
       "[<matplotlib.lines.Line2D at 0x7fcdac562240>]"
      ]
     },
     "execution_count": 16,
     "metadata": {},
     "output_type": "execute_result"
    },
    {
     "data": {
      "image/png": "[encoded data removed]",
      "text/plain": [
       "<matplotlib.figure.Figure at 0x7fcdac6d0198>"
      ]
     },
     "metadata": {
      "needs_background": "light"
     },
     "output_type": "display_data"
    }
   ],
   "source": [
    "plt.plot(loss_history)"
   ]
  },
  {
   "cell_type": "code",
   "execution_count": 18,
   "metadata": {},
   "outputs": [
    {
     "data": {
      "text/plain": [
       "array([ 2.0582778e+00, -3.7424196e-04,  2.3893548e-10, -3.8613153e-01],\n",
       "      dtype=float32)"
      ]
     },
     "execution_count": 18,
     "metadata": {},
     "output_type": "execute_result"
    }
   ],
   "source": [
    "opt_target_state, opt_states_history = neural_ode.forward(start_state, return_states=\"numpy\")\n",
    "opt_trajectory = np.stack(opt_states_history)\n",
    "opt_target_state.numpy()"
   ]
  },
  {
   "cell_type": "code",
   "execution_count": 19,
   "metadata": {},
   "outputs": [
    {
     "data": {
      "text/plain": [
       "[<matplotlib.lines.Line2D at 0x7fcdac680198>]"
      ]
     },
     "execution_count": 19,
     "metadata": {},
     "output_type": "execute_result"
    },
    {
     "data": {
      "image/png": "[encoded data removed]",
      "text/plain": [
       "<matplotlib.figure.Figure at 0x7fcdac63db38>"
      ]
     },
     "metadata": {
      "needs_background": "light"
     },
     "output_type": "display_data"
    }
   ],
   "source": [
    "plt.plot(trajectory[:, 0], trajectory[:, 1])\n",
    "plt.plot(opt_trajectory[:, 0], opt_trajectory[:, 1], \"--\")"
   ]
  },
  {
   "cell_type": "code",
   "execution_count": 20,
   "metadata": {},
   "outputs": [],
   "source": [
    "optimizer = tf.train.MomentumOptimizer(learning_rate=0.05, momentum=0.9)\n",
    "start_state = tf.Variable(init_state, name=\"start_state\")"
   ]
  },
  {
   "cell_type": "code",
   "execution_count": 21,
   "metadata": {},
   "outputs": [
    {
     "name": "stderr",
     "output_type": "stream",
     "text": [
      "100%|██████████| 50/50 [00:25<00:00,  1.93it/s]\n"
     ]
    }
   ],
   "source": [
    "loss_history = []\n",
    "for step in tqdm(range(50)):    \n",
    "    end_state = opt_neural_ode.forward(start_state)\n",
    "    with tf.GradientTape() as g:            \n",
    "        g.watch(end_state) \n",
    "        loss = tf.reduce_sum(tf.square(end_state[:2] - target_state[:2]))\n",
    "    \n",
    "    dLoss = g.gradient(loss, end_state)\n",
    "    h_start, dfdh0, dWeights = opt_neural_ode.backward(end_state, dLoss)\n",
    "    dLoss = tf.to_float([0.0, 0.0, dfdh0[2], dfdh0[3]])    \n",
    "    optimizer.apply_gradients([(dLoss, start_state)])\n",
    "    loss_history.append(loss)"
   ]
  },
  {
   "cell_type": "code",
   "execution_count": null,
   "metadata": {},
   "outputs": [],
   "source": []
  },
  {
   "cell_type": "code",
   "execution_count": 22,
   "metadata": {},
   "outputs": [
    {
     "data": {
      "text/plain": [
       "array([ 2.0545859e+00, -6.6174893e-03,  2.4007885e-10, -3.8643748e-01],\n",
       "      dtype=float32)"
      ]
     },
     "execution_count": 22,
     "metadata": {},
     "output_type": "execute_result"
    }
   ],
   "source": [
    "opt_adjoint_target_state, opt_adjoint_states_history = neural_ode.forward(start_state, return_states=\"numpy\")\n",
    "opt_adjoint_trajectory = np.stack(opt_adjoint_states_history)\n",
    "opt_adjoint_target_state.numpy()"
   ]
  },
  {
   "cell_type": "code",
   "execution_count": 23,
   "metadata": {},
   "outputs": [
    {
     "data": {
      "text/plain": [
       "[<matplotlib.lines.Line2D at 0x7fcdac40a748>]"
      ]
     },
     "execution_count": 23,
     "metadata": {},
     "output_type": "execute_result"
    },
    {
     "data": {
      "image/png": "[encoded data removed]",
      "text/plain": [
       "<matplotlib.figure.Figure at 0x7fcdac47d4e0>"
      ]
     },
     "metadata": {
      "needs_background": "light"
     },
     "output_type": "display_data"
    }
   ],
   "source": [
    "plt.plot(trajectory[:, 0], trajectory[:, 1])\n",
    "plt.plot(opt_trajectory[:, 0], opt_trajectory[:, 1], \"--\")\n",
    "plt.plot(opt_adjoint_trajectory[:, 0], opt_adjoint_trajectory[:, 1], \"--\")"
   ]
  },
  {
   "cell_type": "code",
   "execution_count": 24,
   "metadata": {},
   "outputs": [
    {
     "data": {
      "text/plain": [
       "[<matplotlib.lines.Line2D at 0x7fcdac3296a0>]"
      ]
     },
     "execution_count": 24,
     "metadata": {},
     "output_type": "execute_result"
    },
    {
     "data": {
      "image/png": "[encoded data removed]",
      "text/plain": [
       "<matplotlib.figure.Figure at 0x7fcdac3c0c88>"
      ]
     },
     "metadata": {
      "needs_background": "light"
     },
     "output_type": "display_data"
    }
   ],
   "source": [
    "plt.plot(loss_history)"
   ]
  },
  {
   "cell_type": "code",
   "execution_count": 25,
   "metadata": {},
   "outputs": [],
   "source": [
    "opt_neural_ode = NeuralODE(CannonODE(), tmax=2.0, num_steps=num_steps // 10)\n",
    "opt_neural_ode.defun()"
   ]
  },
  {
   "cell_type": "code",
   "execution_count": 26,
   "metadata": {},
   "outputs": [],
   "source": [
    "optimizer = tf.train.MomentumOptimizer(learning_rate=0.05, momentum=0.9)\n",
    "start_state = tf.Variable(init_state, name=\"start_state\")"
   ]
  },
  {
   "cell_type": "code",
   "execution_count": 30,
   "metadata": {},
   "outputs": [
    {
     "name": "stderr",
     "output_type": "stream",
     "text": [
      "100%|██████████| 50/50 [00:02<00:00, 23.81it/s]\n"
     ]
    }
   ],
   "source": [
    "loss_history = []\n",
    "for step in tqdm(range(50)):    \n",
    "    end_state = opt_neural_ode.forward(start_state)\n",
    "    with tf.GradientTape() as g:            \n",
    "        g.watch(end_state) \n",
    "        loss = tf.reduce_sum(tf.square(end_state[:2] - target_state[:2]))    \n",
    "    dLoss = g.gradient(loss, end_state)    \n",
    "    h_start, dfdh0, dWeights = opt_neural_ode.backward(end_state, dLoss)\n",
    "    dLoss = tf.to_float([0.0, 0.0, dfdh0[2], dfdh0[3]])    \n",
    "    optimizer.apply_gradients([(dLoss, start_state)])\n",
    "    loss_history.append(loss)"
   ]
  },
  {
   "cell_type": "code",
   "execution_count": 31,
   "metadata": {},
   "outputs": [
    {
     "data": {
      "text/plain": [
       "array([ 2.0014355e+00, -5.8008917e-03,  1.0240083e-10, -3.6546654e-01],\n",
       "      dtype=float32)"
      ]
     },
     "execution_count": 31,
     "metadata": {},
     "output_type": "execute_result"
    }
   ],
   "source": [
    "opt_adjoint_target_state, opt_adjoint_states_history = neural_ode.forward(start_state, return_states=\"numpy\")\n",
    "opt_adjoint_trajectory = np.stack(opt_adjoint_states_history)\n",
    "opt_adjoint_target_state.numpy()"
   ]
  },
  {
   "cell_type": "code",
   "execution_count": 32,
   "metadata": {},
   "outputs": [
    {
     "data": {
      "text/plain": [
       "[<matplotlib.lines.Line2D at 0x7fcd5a661e48>]"
      ]
     },
     "execution_count": 32,
     "metadata": {},
     "output_type": "execute_result"
    },
    {
     "data": {
      "image/png": "[encoded data removed]",
      "text/plain": [
       "<matplotlib.figure.Figure at 0x7fcd5a661ba8>"
      ]
     },
     "metadata": {
      "needs_background": "light"
     },
     "output_type": "display_data"
    }
   ],
   "source": [
    "plt.plot(trajectory[:, 0], trajectory[:, 1])\n",
    "plt.plot(opt_adjoint_trajectory[:, 0], opt_adjoint_trajectory[:, 1], \"--\")"
   ]
  },
  {
   "cell_type": "code",
   "execution_count": null,
   "metadata": {},
   "outputs": [],
   "source": []
  }
 ],
 "metadata": {
  "kernelspec": {
   "display_name": "vision-tf1.12",
   "language": "python",
   "name": "vision-tf1.12"
  },
  "language_info": {
   "codemirror_mode": {
    "name": "ipython",
    "version": 3
   },
   "file_extension": ".py",
   "mimetype": "text/x-python",
   "name": "python",
   "nbconvert_exporter": "python",
   "pygments_lexer": "ipython3",
   "version": "3.6.6"
  }
 },
 "nbformat": 4,
 "nbformat_minor": 2
}
