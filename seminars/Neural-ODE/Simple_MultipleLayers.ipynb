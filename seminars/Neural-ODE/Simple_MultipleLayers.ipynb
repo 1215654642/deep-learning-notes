{
 "cells": [
  {
   "cell_type": "code",
   "execution_count": 1,
   "metadata": {},
   "outputs": [
    {
     "data": {
      "text/plain": [
       "'1.12.0'"
      ]
     },
     "execution_count": 1,
     "metadata": {},
     "output_type": "execute_result"
    }
   ],
   "source": [
    "import numpy as np\n",
    "import tensorflow as tf\n",
    "keras = tf.keras\n",
    "initializers = tf.keras.initializers\n",
    "\n",
    "tf.__version__"
   ]
  },
  {
   "cell_type": "code",
   "execution_count": 2,
   "metadata": {},
   "outputs": [],
   "source": [
    "sess = tf.InteractiveSession()"
   ]
  },
  {
   "cell_type": "code",
   "execution_count": 3,
   "metadata": {},
   "outputs": [],
   "source": [
    "random = np.random.RandomState(34121)"
   ]
  },
  {
   "cell_type": "code",
   "execution_count": 4,
   "metadata": {},
   "outputs": [],
   "source": [
    "N = 2\n",
    "h_0 = np.ones([1, N])\n",
    "h_0 = tf.to_float(h_0)"
   ]
  },
  {
   "cell_type": "code",
   "execution_count": 5,
   "metadata": {},
   "outputs": [],
   "source": [
    "layer1 = keras.layers.Dense(N, activation=\"selu\")\n",
    "layer2 = keras.layers.Dense(N, activation=\"selu\")\n",
    "\n",
    "layers = [layer1, layer2]\n",
    "\n",
    "def module(state):\n",
    "    output = state\n",
    "    for layer in layers:\n",
    "        output =  layer(state)\n",
    "    return output"
   ]
  },
  {
   "cell_type": "code",
   "execution_count": 6,
   "metadata": {},
   "outputs": [],
   "source": [
    "def ODEFunc(state, t):\n",
    "    h_t = state\n",
    "    h_output = module(h_t)\n",
    "    return h_output\n",
    "\n",
    "\n",
    "def ODEFuncBackward(state, t):    \n",
    "    h_t = state\n",
    "    h_output = -module(h_t)\n",
    "    return h_output"
   ]
  },
  {
   "cell_type": "code",
   "execution_count": 38,
   "metadata": {},
   "outputs": [],
   "source": [
    "output, info = tf.contrib.integrate.odeint(\n",
    "    func=ODEFunc,\n",
    "    y0=h_0,\n",
    "    t=[0.0, 1.0],\n",
    "    rtol=1e-7,\n",
    "    atol=1e-7,\n",
    "    full_output=True,\n",
    ")"
   ]
  },
  {
   "cell_type": "code",
   "execution_count": null,
   "metadata": {},
   "outputs": [],
   "source": []
  },
  {
   "cell_type": "code",
   "execution_count": 39,
   "metadata": {},
   "outputs": [
    {
     "data": {
      "text/plain": [
       "[None, None]"
      ]
     },
     "execution_count": 39,
     "metadata": {},
     "output_type": "execute_result"
    }
   ],
   "source": [
    "sess.run(([tf.variables_initializer(l.weights) for l in layers]))"
   ]
  },
  {
   "cell_type": "code",
   "execution_count": 40,
   "metadata": {},
   "outputs": [
    {
     "data": {
      "text/plain": [
       "array([[[1.        , 1.        ]],\n",
       "\n",
       "       [[0.7827728 , 0.07143269]]], dtype=float32)"
      ]
     },
     "execution_count": 40,
     "metadata": {},
     "output_type": "execute_result"
    }
   ],
   "source": [
    "sess.run(output)"
   ]
  },
  {
   "cell_type": "code",
   "execution_count": 41,
   "metadata": {},
   "outputs": [
    {
     "data": {
      "text/plain": [
       "<tf.Tensor 'odeint_7:0' shape=(2, 1, 2) dtype=float32>"
      ]
     },
     "execution_count": 41,
     "metadata": {},
     "output_type": "execute_result"
    }
   ],
   "source": [
    "output"
   ]
  },
  {
   "cell_type": "code",
   "execution_count": 42,
   "metadata": {},
   "outputs": [
    {
     "data": {
      "text/plain": [
       "<tf.Tensor 'strided_slice_7:0' shape=(1, 2) dtype=float32>"
      ]
     },
     "execution_count": 42,
     "metadata": {},
     "output_type": "execute_result"
    }
   ],
   "source": [
    "h_N = output[-1, ...]\n",
    "h_N"
   ]
  },
  {
   "cell_type": "code",
   "execution_count": 43,
   "metadata": {},
   "outputs": [
    {
     "data": {
      "text/plain": [
       "<tf.Tensor 'Sum_1:0' shape=() dtype=float32>"
      ]
     },
     "execution_count": 43,
     "metadata": {},
     "output_type": "execute_result"
    }
   ],
   "source": [
    "loss = tf.reduce_sum(h_N**2)\n",
    "loss"
   ]
  },
  {
   "cell_type": "code",
   "execution_count": 44,
   "metadata": {},
   "outputs": [
    {
     "data": {
      "text/plain": [
       "0.6178359"
      ]
     },
     "execution_count": 44,
     "metadata": {},
     "output_type": "execute_result"
    }
   ],
   "source": [
    "loss.eval()"
   ]
  },
  {
   "cell_type": "code",
   "execution_count": 45,
   "metadata": {},
   "outputs": [],
   "source": [
    "dfLdh0 = tf.gradients(loss, h_0)[0]"
   ]
  },
  {
   "cell_type": "code",
   "execution_count": 46,
   "metadata": {},
   "outputs": [
    {
     "data": {
      "text/plain": [
       "<tf.Tensor 'gradients_2/AddN_4:0' shape=(1, 2) dtype=float32>"
      ]
     },
     "execution_count": 46,
     "metadata": {},
     "output_type": "execute_result"
    }
   ],
   "source": [
    "dfLdh0"
   ]
  },
  {
   "cell_type": "code",
   "execution_count": 47,
   "metadata": {},
   "outputs": [
    {
     "data": {
      "text/plain": [
       "array([[1.106395 , 0.2125081]], dtype=float32)"
      ]
     },
     "execution_count": 47,
     "metadata": {},
     "output_type": "execute_result"
    }
   ],
   "source": [
    "dfLdh0.eval()"
   ]
  },
  {
   "cell_type": "code",
   "execution_count": 48,
   "metadata": {},
   "outputs": [],
   "source": [
    "inv_output, inv_info = tf.contrib.integrate.odeint(\n",
    "    func=ODEFuncBackward,\n",
    "    y0=h_N,\n",
    "    t=[0.0, 1.0],\n",
    "    rtol=1e-7,\n",
    "    atol=1e-7,\n",
    "    full_output=True,\n",
    ")"
   ]
  },
  {
   "cell_type": "code",
   "execution_count": 49,
   "metadata": {},
   "outputs": [
    {
     "data": {
      "text/plain": [
       "array([[0.9999998, 0.9999999]], dtype=float32)"
      ]
     },
     "execution_count": 49,
     "metadata": {},
     "output_type": "execute_result"
    }
   ],
   "source": [
    "inv_output[-1, ...].eval()"
   ]
  },
  {
   "cell_type": "code",
   "execution_count": 50,
   "metadata": {},
   "outputs": [
    {
     "data": {
      "text/plain": [
       "<tf.Tensor 'gradients_3/pow_1_grad/Reshape:0' shape=(1, 2) dtype=float32>"
      ]
     },
     "execution_count": 50,
     "metadata": {},
     "output_type": "execute_result"
    }
   ],
   "source": [
    "dfLdhN = tf.gradients(loss, h_N)[0]\n",
    "dfLdhN"
   ]
  },
  {
   "cell_type": "code",
   "execution_count": 51,
   "metadata": {},
   "outputs": [
    {
     "data": {
      "text/plain": [
       "array([[1.5655456 , 0.14286537]], dtype=float32)"
      ]
     },
     "execution_count": 51,
     "metadata": {},
     "output_type": "execute_result"
    }
   ],
   "source": [
    "dfLdhN.eval()"
   ]
  },
  {
   "cell_type": "code",
   "execution_count": 52,
   "metadata": {},
   "outputs": [],
   "source": [
    "def fwd_gradients(ys, xs, d_xs):        \n",
    "    g = tf.gradients(ys, xs, grad_ys=d_xs)\n",
    "    return g\n",
    "\n",
    "\n",
    "def ODEFuncBackwardWithGrad(state, t):    \n",
    "    hN, dfLdhN = tf.unstack(state)\n",
    "    h_output = - module(hN)\n",
    "    jvp_z = - fwd_gradients(h_output, hN, dfLdhN)[0]\n",
    "    return tf.stack([h_output, jvp_z])"
   ]
  },
  {
   "cell_type": "code",
   "execution_count": 57,
   "metadata": {},
   "outputs": [],
   "source": [
    "inv_output, inv_info = tf.contrib.integrate.odeint(\n",
    "    func=ODEFuncBackwardWithGrad,\n",
    "    y0=tf.stack([h_N, dfLdhN]),\n",
    "    t=[0.0, 1.0],\n",
    "    rtol=1e-7,\n",
    "    atol=1e-7,\n",
    "    full_output=True,\n",
    ")"
   ]
  },
  {
   "cell_type": "code",
   "execution_count": 58,
   "metadata": {},
   "outputs": [],
   "source": [
    "h0_rec, dfLdh0_rec = tf.unstack(inv_output[-1, ...])"
   ]
  },
  {
   "cell_type": "code",
   "execution_count": 59,
   "metadata": {},
   "outputs": [
    {
     "data": {
      "text/plain": [
       "array([[0.9999999, 1.0000004]], dtype=float32)"
      ]
     },
     "execution_count": 59,
     "metadata": {},
     "output_type": "execute_result"
    }
   ],
   "source": [
    "h0_rec.eval()"
   ]
  },
  {
   "cell_type": "code",
   "execution_count": 62,
   "metadata": {},
   "outputs": [
    {
     "name": "stdout",
     "output_type": "stream",
     "text": [
      "10.6 ms ± 41.7 µs per loop (mean ± std. dev. of 7 runs, 100 loops each)\n"
     ]
    }
   ],
   "source": [
    "%timeit dfLdh0_rec.eval()"
   ]
  },
  {
   "cell_type": "code",
   "execution_count": 78,
   "metadata": {},
   "outputs": [],
   "source": [
    "share_variables = lambda func: tf.make_template(\n",
    "    func.__name__, func, create_scope_now_=True)\n",
    "\n",
    "\n",
    "@share_variables\n",
    "def module_backprop_template2(ht, at):\n",
    "    ht_output = - module(ht)\n",
    "    jvp_z = - tf.gradients(ht_output, ht, grad_ys=at)[0]\n",
    "    return ht_output, jvp_z\n",
    "\n",
    "\n",
    "def ODEFuncBackwardWithGrad(state, t):    \n",
    "    hN, dfLdhN = tf.unstack(state)\n",
    "    h_output, jvp_z = module_backprop_template2(hN, dfLdhN)    \n",
    "    return tf.stack([h_output, jvp_z])"
   ]
  },
  {
   "cell_type": "code",
   "execution_count": null,
   "metadata": {},
   "outputs": [],
   "source": []
  },
  {
   "cell_type": "code",
   "execution_count": 83,
   "metadata": {},
   "outputs": [],
   "source": [
    "inv_output, inv_info = tf.contrib.integrate.odeint(\n",
    "    func=ODEFuncBackwardWithGrad,\n",
    "    y0=tf.stack([h_N, dfLdhN]),\n",
    "    t=[0.0, 1.0],\n",
    "    rtol=1e-5,\n",
    "    atol=1e-5,\n",
    "    full_output=True,\n",
    ")"
   ]
  },
  {
   "cell_type": "code",
   "execution_count": 84,
   "metadata": {},
   "outputs": [],
   "source": [
    "h0_rec, dfLdh0_rec = tf.unstack(inv_output[-1, ...])"
   ]
  },
  {
   "cell_type": "code",
   "execution_count": 85,
   "metadata": {},
   "outputs": [
    {
     "data": {
      "text/plain": [
       "(array([[0.9999964, 1.0000768]], dtype=float32),\n",
       " array([[1.1063935 , 0.21249634]], dtype=float32))"
      ]
     },
     "execution_count": 85,
     "metadata": {},
     "output_type": "execute_result"
    }
   ],
   "source": [
    "h0_rec.eval(), dfLdh0_rec.eval()"
   ]
  },
  {
   "cell_type": "code",
   "execution_count": 86,
   "metadata": {},
   "outputs": [
    {
     "name": "stdout",
     "output_type": "stream",
     "text": [
      "7.56 ms ± 46.1 µs per loop (mean ± std. dev. of 7 runs, 100 loops each)\n"
     ]
    }
   ],
   "source": [
    "%timeit dfLdh0_rec.eval()"
   ]
  },
  {
   "cell_type": "code",
   "execution_count": null,
   "metadata": {},
   "outputs": [],
   "source": []
  }
 ],
 "metadata": {
  "kernelspec": {
   "display_name": "vision-tf1.12",
   "language": "python",
   "name": "vision-tf1.12"
  },
  "language_info": {
   "codemirror_mode": {
    "name": "ipython",
    "version": 3
   },
   "file_extension": ".py",
   "mimetype": "text/x-python",
   "name": "python",
   "nbconvert_exporter": "python",
   "pygments_lexer": "ipython3",
   "version": "3.6.6"
  }
 },
 "nbformat": 4,
 "nbformat_minor": 2
}
