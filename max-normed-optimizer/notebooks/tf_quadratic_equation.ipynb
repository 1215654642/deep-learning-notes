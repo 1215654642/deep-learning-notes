{
 "cells": [
  {
   "cell_type": "code",
   "execution_count": 1,
   "metadata": {
    "ExecuteTime": {
     "end_time": "2018-05-29T06:44:01.257370Z",
     "start_time": "2018-05-29T06:44:00.207897Z"
    }
   },
   "outputs": [
    {
     "name": "stderr",
     "output_type": "stream",
     "text": [
      "/home/mkk/anaconda3/envs/shelfwise_kk/lib/python3.6/site-packages/h5py/__init__.py:34: FutureWarning: Conversion of the second argument of issubdtype from `float` to `np.floating` is deprecated. In future, it will be treated as `np.float64 == np.dtype(float).type`.\n",
      "  from ._conv import register_converters as _register_converters\n"
     ]
    }
   ],
   "source": [
    "import tensorflow as tf"
   ]
  },
  {
   "cell_type": "code",
   "execution_count": 2,
   "metadata": {
    "ExecuteTime": {
     "end_time": "2018-05-29T06:44:01.781014Z",
     "start_time": "2018-05-29T06:44:01.639908Z"
    }
   },
   "outputs": [],
   "source": [
    "%load_ext autoreload\n",
    "%autoreload 2\n",
    "import numpy as np\n",
    "import matplotlib.pyplot as plt\n",
    "%matplotlib inline"
   ]
  },
  {
   "cell_type": "code",
   "execution_count": 3,
   "metadata": {
    "ExecuteTime": {
     "end_time": "2018-05-29T06:44:02.291772Z",
     "start_time": "2018-05-29T06:44:02.268400Z"
    }
   },
   "outputs": [],
   "source": [
    "import sys\n",
    "sys.path.append(\"../src/\")"
   ]
  },
  {
   "cell_type": "code",
   "execution_count": 4,
   "metadata": {
    "ExecuteTime": {
     "end_time": "2018-05-29T06:44:02.896393Z",
     "start_time": "2018-05-29T06:44:02.859566Z"
    }
   },
   "outputs": [],
   "source": [
    "import tf_optimizer as tf_opt"
   ]
  },
  {
   "cell_type": "code",
   "execution_count": 5,
   "metadata": {
    "ExecuteTime": {
     "end_time": "2018-05-29T06:44:03.525131Z",
     "start_time": "2018-05-29T06:44:03.353705Z"
    }
   },
   "outputs": [],
   "source": [
    "import sklearn.datasets as sk_datasets"
   ]
  },
  {
   "cell_type": "code",
   "execution_count": 677,
   "metadata": {
    "ExecuteTime": {
     "end_time": "2018-05-29T07:10:05.343017Z",
     "start_time": "2018-05-29T07:10:05.294718Z"
    }
   },
   "outputs": [],
   "source": [
    "ndims = 100\n",
    "Q = sk_datasets.make_spd_matrix(ndims).astype(np.float32)\n",
    "b = np.random.randn(ndims, 1).astype(np.float32)\n",
    "w0 = np.random.randn(ndims, 1).astype(np.float32)"
   ]
  },
  {
   "cell_type": "code",
   "execution_count": 678,
   "metadata": {
    "ExecuteTime": {
     "end_time": "2018-05-29T07:12:37.343972Z",
     "start_time": "2018-05-29T07:12:37.305819Z"
    }
   },
   "outputs": [],
   "source": [
    "tf.reset_default_graph()\n",
    "sess = tf.InteractiveSession()"
   ]
  },
  {
   "cell_type": "code",
   "execution_count": 679,
   "metadata": {
    "ExecuteTime": {
     "end_time": "2018-05-29T07:12:37.535427Z",
     "start_time": "2018-05-29T07:12:37.505967Z"
    }
   },
   "outputs": [],
   "source": [
    "def define_problem(w0, Q, b):\n",
    "    weights = tf.get_variable(\n",
    "        name='w', \n",
    "        dtype=tf.float32, \n",
    "        initializer=w0)\n",
    "    \n",
    "    w_exact = np.linalg.inv(Q) @ b\n",
    "    w_exact_norm = np.linalg.norm(w_exact) + 1e-6\n",
    "    \n",
    "    # x^T Q x + b^T x\n",
    "    loss = 0.5 * tf.matmul(tf.transpose(weights), tf.matmul(Q, weights)) \\\n",
    "         - tf.matmul(tf.transpose(b), weights)\n",
    "\n",
    "    rel_dist = tf.sqrt(tf.reduce_sum(tf.square(weights - w_exact)))/w_exact_norm    \n",
    "    return loss, rel_dist"
   ]
  },
  {
   "cell_type": "code",
   "execution_count": 680,
   "metadata": {
    "ExecuteTime": {
     "end_time": "2018-05-29T07:12:37.747944Z",
     "start_time": "2018-05-29T07:12:37.700529Z"
    }
   },
   "outputs": [],
   "source": [
    "loss, rel_dist = define_problem(w0, Q, b)"
   ]
  },
  {
   "cell_type": "code",
   "execution_count": 202,
   "metadata": {
    "ExecuteTime": {
     "end_time": "2018-05-29T07:12:37.971267Z",
     "start_time": "2018-05-29T07:12:37.889030Z"
    },
    "collapsed": true,
    "scrolled": true
   },
   "outputs": [],
   "source": [
    "lr_ph = tf.placeholder(tf.float32, shape=())\n",
    "with tf.variable_scope('opt'):\n",
    "    optimizer = tf_opt.NormalizedSGD(lr=lr_ph, lr_update=0.05, lr_max=1.0, lr_min=1e-6, lr_force=-0.4)\n",
    "#     optimizer = tf_opt.BarzilaiBorweinNormalizedSGD(\n",
    "#         lr=lr_ph, steps=3, \n",
    "#         lr_max=1.0, lr_min=1e-6, \n",
    "#         lr_update=0.05,\n",
    "#         noise_amplitude=0.0)\n",
    "#     optimizer = tf.train.AdamOptimizer(lr_ph)\n",
    "#     optimizer = tf.train.MomentumOptimizer(lr_ph, 0.2)\n",
    "    \n",
    "update_op = optimizer.minimize(loss)\n"
   ]
  },
  {
   "cell_type": "code",
   "execution_count": 203,
   "metadata": {
    "ExecuteTime": {
     "end_time": "2018-05-29T07:12:38.075196Z",
     "start_time": "2018-05-29T07:12:38.049325Z"
    },
    "collapsed": true
   },
   "outputs": [],
   "source": []
  },
  {
   "cell_type": "code",
   "execution_count": 93,
   "metadata": {
    "ExecuteTime": {
     "end_time": "2018-05-29T07:12:38.294496Z",
     "start_time": "2018-05-29T07:12:38.247073Z"
    },
    "collapsed": true
   },
   "outputs": [],
   "source": [
    "from tqdm import tqdm\n",
    "eps = 1e-4\n",
    "max_iter = 1000\n",
    "lr_steps = []\n"
   ]
  },
  {
   "cell_type": "code",
   "execution_count": 52,
   "metadata": {
    "ExecuteTime": {
     "end_time": "2018-05-29T07:12:42.937424Z",
     "start_time": "2018-05-29T07:12:38.696354Z"
    },
    "scrolled": true
   },
   "outputs": [
    {
     "name": "stderr",
     "output_type": "stream",
     "text": [
      "100%|██████████| 50/50 [00:20<00:00,  2.21it/s]\n"
     ]
    }
   ],
   "source": [
    "for lr_np in tqdm(np.linspace(0.05, 1.5, 50)):\n",
    "    sess.run(tf.global_variables_initializer(), feed_dict={lr_ph: lr_np})    \n",
    "    for i in range(max_iter):\n",
    "        dist, _ = sess.run(\n",
    "            [rel_dist, update_op], \n",
    "            feed_dict={lr_ph: lr_np})\n",
    "        if np.isinf(dist):\n",
    "            break\n",
    "        if dist <= eps:\n",
    "            lr_steps.append([lr_np, i, dist])   \n",
    "            break\n",
    "    if dist > eps or np.isinf(dist):\n",
    "        lr_steps.append([lr_np, max_iter, dist])"
   ]
  },
  {
   "cell_type": "code",
   "execution_count": null,
   "metadata": {
    "collapsed": true
   },
   "outputs": [],
   "source": [
    "def fit(loss, feed_dict, max_iter, opt_vars=[]):\n",
    "    update_op = optimizer.minimize(loss)\n",
    "    sess.run(tf.global_variables_initializer(), feed_dict=feed_dict)\n",
    "    hist = []\n",
    "    for i in range(max_iter):\n",
    "        output = sess.run(\n",
    "            [rel_dist, update_op] + opt_vars, \n",
    "            feed_dict={lr_ph: lr_np}\n",
    "        )\n",
    "        dist, _, opt_vars\n",
    "        dist = output[0]\n",
    "        if len(opt_vars) > 0:\n",
    "            dist = output[-1:]\n",
    "        if np.isinf(dist):\n",
    "            break\n",
    "        if dist <= eps:\n",
    "            hist.append([lr_np, i, dist])   \n",
    "            break\n",
    "    if dist > eps or np.isinf(dist):\n",
    "        hist.append([lr_np, max_iter, dist])"
   ]
  },
  {
   "cell_type": "code",
   "execution_count": 44,
   "metadata": {
    "ExecuteTime": {
     "end_time": "2018-05-29T07:12:43.409021Z",
     "start_time": "2018-05-29T07:12:43.379659Z"
    },
    "collapsed": true,
    "scrolled": true
   },
   "outputs": [],
   "source": [
    "lr_steps = np.array(lr_steps)\n"
   ]
  },
  {
   "cell_type": "code",
   "execution_count": 45,
   "metadata": {
    "ExecuteTime": {
     "end_time": "2018-05-29T07:12:43.796249Z",
     "start_time": "2018-05-29T07:12:43.603318Z"
    }
   },
   "outputs": [
    {
     "data": {
      "text/plain": [
       "[<matplotlib.lines.Line2D at 0x7f6f455c3358>]"
      ]
     },
     "execution_count": 45,
     "metadata": {},
     "output_type": "execute_result"
    },
    {
     "data": {
      "image/png": "[encoded data removed]",
      "text/plain": [
       "<matplotlib.figure.Figure at 0x7f6f45eb3f60>"
      ]
     },
     "metadata": {},
     "output_type": "display_data"
    }
   ],
   "source": [
    "plt.plot(lr_steps[:, 0], lr_steps[:, 1])"
   ]
  },
  {
   "cell_type": "code",
   "execution_count": 91,
   "metadata": {
    "ExecuteTime": {
     "end_time": "2018-05-29T07:12:47.698355Z",
     "start_time": "2018-05-29T07:12:47.660792Z"
    },
    "collapsed": true
   },
   "outputs": [],
   "source": [
    "# lr_steps"
   ]
  },
  {
   "cell_type": "code",
   "execution_count": null,
   "metadata": {
    "collapsed": true
   },
   "outputs": [],
   "source": []
  },
  {
   "cell_type": "code",
   "execution_count": 76,
   "metadata": {
    "ExecuteTime": {
     "end_time": "2018-05-29T05:53:30.355887Z",
     "start_time": "2018-05-29T05:53:30.302773Z"
    }
   },
   "outputs": [
    {
     "data": {
      "text/plain": [
       "0.000103796374"
      ]
     },
     "execution_count": 76,
     "metadata": {},
     "output_type": "execute_result"
    }
   ],
   "source": [
    "sess.run(optimizer._lr_variables[0])"
   ]
  },
  {
   "cell_type": "code",
   "execution_count": 71,
   "metadata": {
    "ExecuteTime": {
     "end_time": "2018-05-29T05:52:05.049811Z",
     "start_time": "2018-05-29T05:52:05.010309Z"
    }
   },
   "outputs": [
    {
     "data": {
      "text/plain": [
       "[<tf.Variable 'w/lr_1:0' shape=() dtype=float32_ref>]"
      ]
     },
     "execution_count": 71,
     "metadata": {},
     "output_type": "execute_result"
    }
   ],
   "source": [
    "optimizer._lr_variables"
   ]
  },
  {
   "cell_type": "code",
   "execution_count": 72,
   "metadata": {
    "ExecuteTime": {
     "end_time": "2018-05-29T05:52:05.301683Z",
     "start_time": "2018-05-29T05:52:05.275627Z"
    }
   },
   "outputs": [
    {
     "data": {
      "text/plain": [
       "array([[  3.8054013 ],\n",
       "       [  4.3850718 ],\n",
       "       [ 13.384926  ],\n",
       "       [-15.287289  ],\n",
       "       [ -4.543612  ],\n",
       "       [ 10.745926  ],\n",
       "       [  2.8218708 ],\n",
       "       [-17.763622  ],\n",
       "       [  1.4141669 ],\n",
       "       [ -5.190056  ],\n",
       "       [ -6.7260065 ],\n",
       "       [ -2.9711447 ],\n",
       "       [  6.783842  ],\n",
       "       [  5.0283666 ],\n",
       "       [ -0.08010101],\n",
       "       [ -9.866516  ],\n",
       "       [ -2.74928   ],\n",
       "       [ -3.4458466 ],\n",
       "       [  4.7724733 ],\n",
       "       [  7.3328953 ]], dtype=float32)"
      ]
     },
     "execution_count": 72,
     "metadata": {},
     "output_type": "execute_result"
    }
   ],
   "source": [
    "w_exact"
   ]
  },
  {
   "cell_type": "code",
   "execution_count": 217,
   "metadata": {
    "collapsed": true
   },
   "outputs": [],
   "source": []
  },
  {
   "cell_type": "code",
   "execution_count": 772,
   "metadata": {},
   "outputs": [],
   "source": [
    "tf.reset_default_graph()\n",
    "sess = tf.InteractiveSession()\n",
    "\n",
    "lr_np = 0.01\n",
    "lr_steps = []\n",
    "max_iter = 1000\n",
    "\n",
    "with tf.variable_scope('opt'):\n",
    "    optimizer = tf_opt.NormalizedSGD(\n",
    "        lr=lr_np,\n",
    "        lr_update=0.02, \n",
    "        lr_max=0.5, \n",
    "        lr_min=0.0, \n",
    "        lr_force=0.000, \n",
    "        momentum=0.9,\n",
    "        momentum_update=0.002,\n",
    "        norm='std', \n",
    "        noise_amplitude=0.0\n",
    "    )\n",
    "\n",
    "    loss, rel_dist = define_problem(w0, Q, b)\n",
    "update_op = optimizer.minimize(loss)\n",
    "\n",
    "try:\n",
    "    opt_vars = optimizer._lr_variables + optimizer._m_variables + [optimizer.test]\n",
    "except:\n",
    "    opt_vars = [-rel_dist, -rel_dist*0, -rel_dist*0]\n",
    "\n",
    "\n",
    "sess.run(tf.global_variables_initializer())    \n",
    "for i in range(max_iter):\n",
    "    dist, loss_np, _, *lr_ada = sess.run([rel_dist, loss, update_op] + opt_vars)        \n",
    "    lr_steps.append([i, loss_np[0][0], dist, *lr_ada])   \n",
    "lr_steps = np.array(lr_steps)\n",
    "# lr_steps"
   ]
  },
  {
   "cell_type": "code",
   "execution_count": 773,
   "metadata": {},
   "outputs": [
    {
     "data": {
      "text/plain": [
       "[<matplotlib.lines.Line2D at 0x7fc7da2701d0>]"
      ]
     },
     "execution_count": 773,
     "metadata": {},
     "output_type": "execute_result"
    },
    {
     "data": {
      "image/png": "[encoded data removed]",
      "text/plain": [
       "<matplotlib.figure.Figure at 0x7fc7da737208>"
      ]
     },
     "metadata": {},
     "output_type": "display_data"
    }
   ],
   "source": [
    "plt.figure(figsize=(15, 3))\n",
    "plt.subplot(141)\n",
    "plt.plot(lr_steps[:, 0], lr_steps[:, 3])\n",
    "plt.subplot(142)\n",
    "plt.plot(lr_steps[:, 0], lr_steps[:, 1])\n",
    "plt.subplot(143)\n",
    "plt.plot(lr_steps[:, 0], lr_steps[:, -2])\n",
    "plt.subplot(144)\n",
    "plt.plot(lr_steps[:, 0], lr_steps[:, -1])"
   ]
  },
  {
   "cell_type": "code",
   "execution_count": null,
   "metadata": {
    "collapsed": true
   },
   "outputs": [],
   "source": []
  },
  {
   "cell_type": "code",
   "execution_count": 140,
   "metadata": {},
   "outputs": [],
   "source": [
    "\n",
    "\n",
    "def fit(optimizer, scope):\n",
    "    history = []\n",
    "    max_iter = 1000\n",
    "    with tf.variable_scope(scope):\n",
    "        loss, rel_dist = define_problem(w0, Q, b)\n",
    "        update_op = optimizer.minimize(loss)\n",
    "        sess.run(tf.global_variables_initializer())    \n",
    "        \n",
    "    for i in range(max_iter):\n",
    "        _= sess.run([update_op])        \n",
    "        loss_np = sess.run(loss) \n",
    "        history.append([i, loss_np])   \n",
    "    history = np.array(history)\n",
    "    return history"
   ]
  },
  {
   "cell_type": "code",
   "execution_count": 766,
   "metadata": {},
   "outputs": [],
   "source": [
    "tf.reset_default_graph()\n",
    "sess = tf.InteractiveSession()\n",
    "\n",
    "lr_np = 0.001\n",
    "\n",
    "optimizer = tf_opt.NormalizedSGD(\n",
    "    lr=0.001,\n",
    "    lr_update=0.05, \n",
    "    lr_max=0.5, \n",
    "    lr_min=0.0001, \n",
    "    lr_force=0.0, \n",
    "    momentum=0.9,\n",
    "    momentum_update=0.00001,\n",
    "    norm='std', \n",
    "    noise_amplitude=0.0)\n",
    "\n",
    "tf_optimizer = tf_opt.NormalizedSGD(\n",
    "    lr=0.1,\n",
    "    lr_update=0.05, \n",
    "    lr_max=0.5, \n",
    "    lr_min=0.0001, \n",
    "    lr_force=0.000, \n",
    "    momentum=0.9,\n",
    "    momentum_update=0.0001,\n",
    "    norm='l2', \n",
    "    noise_amplitude=0.0)\n",
    "\n",
    "# from tensorflow.contrib.opt.python.training import nadam_optimizer\n",
    "# tf_optimizer = tf.train.MomentumOptimizer(lr_np, momentum=0.9)\n",
    "# tf_optimizer = tf.train.AdamOptimizer(lr_np, beta1=0.9)\n",
    "# tf_optimizer = tf.train.RMSPropOptimizer(lr_np, decay=0.9, momentum=0.9)\n",
    "# tf_optimizer = nadam_optimizer.NadamOptimizer(lr_np)\n",
    "\n",
    "hist_normed = fit(optimizer, 'normed')\n",
    "hist_sgd = fit(tf_optimizer, 'sgd')"
   ]
  },
  {
   "cell_type": "code",
   "execution_count": 767,
   "metadata": {},
   "outputs": [
    {
     "data": {
      "text/plain": [
       "<matplotlib.legend.Legend at 0x7fc7db447e10>"
      ]
     },
     "execution_count": 767,
     "metadata": {},
     "output_type": "execute_result"
    },
    {
     "data": {
      "image/png": "[encoded data removed]",
      "text/plain": [
       "<matplotlib.figure.Figure at 0x7fc7dbcb09b0>"
      ]
     },
     "metadata": {},
     "output_type": "display_data"
    }
   ],
   "source": [
    "plt.plot(hist_normed[:, 0], hist_normed[:, 1], label='normed')\n",
    "plt.plot(hist_sgd[:, 0], hist_sgd[:, 1], label='tf')\n",
    "# plt.ylim([hist_sgd[-1, 1], hist_sgd[200, 1]])\n",
    "plt.legend()"
   ]
  },
  {
   "cell_type": "code",
   "execution_count": null,
   "metadata": {},
   "outputs": [],
   "source": []
  }
 ],
 "metadata": {
  "kernelspec": {
   "display_name": "shelfwise_kk",
   "language": "python",
   "name": "shelfwise_kk"
  },
  "language_info": {
   "codemirror_mode": {
    "name": "ipython",
    "version": 3
   },
   "file_extension": ".py",
   "mimetype": "text/x-python",
   "name": "python",
   "nbconvert_exporter": "python",
   "pygments_lexer": "ipython3",
   "version": "3.6.1"
  },
  "toc": {
   "colors": {
    "hover_highlight": "#DAA520",
    "navigate_num": "#000000",
    "navigate_text": "#333333",
    "running_highlight": "#FF0000",
    "selected_highlight": "#FFD700",
    "sidebar_border": "#EEEEEE",
    "wrapper_background": "#FFFFFF"
   },
   "moveMenuLeft": true,
   "nav_menu": {
    "height": "12px",
    "width": "252px"
   },
   "navigate_menu": true,
   "number_sections": true,
   "sideBar": true,
   "threshold": 4,
   "toc_cell": false,
   "toc_section_display": "block",
   "toc_window_display": false,
   "widenNotebook": false
  },
  "varInspector": {
   "cols": {
    "lenName": 16,
    "lenType": 16,
    "lenVar": 40
   },
   "kernels_config": {
    "python": {
     "delete_cmd_postfix": "",
     "delete_cmd_prefix": "del ",
     "library": "var_list.py",
     "varRefreshCmd": "print(var_dic_list())"
    },
    "r": {
     "delete_cmd_postfix": ") ",
     "delete_cmd_prefix": "rm(",
     "library": "var_list.r",
     "varRefreshCmd": "cat(var_dic_list()) "
    }
   },
   "types_to_exclude": [
    "module",
    "function",
    "builtin_function_or_method",
    "instance",
    "_Feature"
   ],
   "window_display": false
  }
 },
 "nbformat": 4,
 "nbformat_minor": 2
}
