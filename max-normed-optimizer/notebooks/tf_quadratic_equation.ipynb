{
 "cells": [
  {
   "cell_type": "code",
   "execution_count": 1,
   "metadata": {},
   "outputs": [
    {
     "name": "stderr",
     "output_type": "stream",
     "text": [
      "/home/mkk/anaconda3/envs/receptivefield/lib/python3.6/site-packages/h5py/__init__.py:36: FutureWarning: Conversion of the second argument of issubdtype from `float` to `np.floating` is deprecated. In future, it will be treated as `np.float64 == np.dtype(float).type`.\n",
      "  from ._conv import register_converters as _register_converters\n"
     ]
    }
   ],
   "source": [
    "import tensorflow as tf"
   ]
  },
  {
   "cell_type": "code",
   "execution_count": 2,
   "metadata": {},
   "outputs": [],
   "source": [
    "%load_ext autoreload\n",
    "%autoreload 2\n",
    "import numpy as np\n",
    "import matplotlib.pyplot as plt\n",
    "%matplotlib inline"
   ]
  },
  {
   "cell_type": "code",
   "execution_count": 3,
   "metadata": {},
   "outputs": [],
   "source": [
    "import sys\n",
    "sys.path.append(\"../src/\")"
   ]
  },
  {
   "cell_type": "code",
   "execution_count": 5,
   "metadata": {},
   "outputs": [],
   "source": [
    "import tf_optimizer as tf_opt"
   ]
  },
  {
   "cell_type": "code",
   "execution_count": 82,
   "metadata": {},
   "outputs": [],
   "source": [
    "import sklearn.datasets as sk_datasets"
   ]
  },
  {
   "cell_type": "code",
   "execution_count": 262,
   "metadata": {},
   "outputs": [],
   "source": [
    "ndims = 10\n",
    "Q = sk_datasets.make_spd_matrix(ndims).astype(np.float32)\n",
    "b = np.random.randn(ndims, 1).astype(np.float32)\n",
    "w0 = np.random.randn(ndims, 1).astype(np.float32)\n",
    "w_exact = np.linalg.inv(Q) @ b\n",
    "w_exact_norm = np.linalg.norm(w_exact) + 1e-6"
   ]
  },
  {
   "cell_type": "code",
   "execution_count": 329,
   "metadata": {},
   "outputs": [
    {
     "name": "stderr",
     "output_type": "stream",
     "text": [
      "/home/mkk/anaconda3/envs/receptivefield/lib/python3.6/site-packages/tensorflow/python/client/session.py:1711: UserWarning: An interactive session is already active. This can cause out-of-memory errors in some cases. You must explicitly call `InteractiveSession.close()` to release resources held by the other session(s).\n",
      "  warnings.warn('An interactive session is already active. This can '\n"
     ]
    }
   ],
   "source": [
    "tf.reset_default_graph()\n",
    "sess = tf.InteractiveSession()"
   ]
  },
  {
   "cell_type": "code",
   "execution_count": 330,
   "metadata": {},
   "outputs": [],
   "source": [
    "weights = tf.get_variable(\n",
    "    name='w', \n",
    "    dtype=tf.float32, \n",
    "    initializer=w0)"
   ]
  },
  {
   "cell_type": "code",
   "execution_count": 331,
   "metadata": {},
   "outputs": [],
   "source": [
    "# x^T Q x + b^T x\n",
    "loss = 0.5 * tf.matmul(tf.transpose(weights), tf.matmul(Q, weights)) \\\n",
    "     - tf.matmul(tf.transpose(b), weights)\n",
    "\n",
    "rel_dist = tf.sqrt(tf.reduce_sum(tf.square(weights - w_exact)))/w_exact_norm\n",
    "    \n",
    "lr_ph = tf.placeholder(tf.float32, shape=())"
   ]
  },
  {
   "cell_type": "code",
   "execution_count": 332,
   "metadata": {
    "scrolled": true
   },
   "outputs": [],
   "source": [
    "with tf.variable_scope('opt'):\n",
    "    optimizer = tf_opt.NormalizedSGD(lr=lr_ph, lr_update=0.05, lr_max=None, lr_min=None)\n",
    "    optimizer = tf.train.AdamOptimizer(lr_ph)\n",
    "    optimizer = tf.train.MomentumOptimizer(lr_ph, 0.2)\n",
    "    \n",
    "update_op = optimizer.minimize(loss)\n",
    "# optimizer._lr_variables"
   ]
  },
  {
   "cell_type": "code",
   "execution_count": 333,
   "metadata": {},
   "outputs": [],
   "source": [
    "eps = 1e-6\n",
    "max_iter = 1000\n",
    "lr_steps = []\n",
    "from tqdm import tqdm"
   ]
  },
  {
   "cell_type": "code",
   "execution_count": 334,
   "metadata": {
    "scrolled": true
   },
   "outputs": [
    {
     "name": "stderr",
     "output_type": "stream",
     "text": [
      "100%|██████████| 100/100 [00:19<00:00,  5.18it/s]\n"
     ]
    }
   ],
   "source": [
    "for lr_np in tqdm(np.linspace(0.01, 0.5, 100)):\n",
    "    sess.run(tf.global_variables_initializer(), feed_dict={lr_ph: lr_np})    \n",
    "    for i in range(max_iter):\n",
    "        dist, _ = sess.run(\n",
    "            [rel_dist, update_op], \n",
    "            feed_dict={lr_ph: lr_np})\n",
    "        if np.isinf(dist):\n",
    "            break\n",
    "        if dist <= eps:\n",
    "            lr_steps.append([lr_np, i, dist])   \n",
    "            break\n",
    "    if dist > eps or np.isinf(dist):\n",
    "        lr_steps.append([lr_np, max_iter, dist])"
   ]
  },
  {
   "cell_type": "code",
   "execution_count": 335,
   "metadata": {
    "scrolled": true
   },
   "outputs": [],
   "source": [
    "lr_steps = np.array(lr_steps)\n"
   ]
  },
  {
   "cell_type": "code",
   "execution_count": 336,
   "metadata": {},
   "outputs": [
    {
     "data": {
      "text/plain": [
       "[<matplotlib.lines.Line2D at 0x7f11477826a0>]"
      ]
     },
     "execution_count": 336,
     "metadata": {},
     "output_type": "execute_result"
    },
    {
     "data": {
      "image/png": "[encoded data removed]",
      "text/plain": [
       "<matplotlib.figure.Figure at 0x7f116417cb70>"
      ]
     },
     "metadata": {},
     "output_type": "display_data"
    }
   ],
   "source": [
    "plt.plot(lr_steps[:, 0], lr_steps[:, 1])"
   ]
  },
  {
   "cell_type": "code",
   "execution_count": 214,
   "metadata": {},
   "outputs": [
    {
     "data": {
      "text/plain": [
       "array([], dtype=float64)"
      ]
     },
     "execution_count": 214,
     "metadata": {},
     "output_type": "execute_result"
    }
   ],
   "source": [
    "lr_steps"
   ]
  },
  {
   "cell_type": "code",
   "execution_count": null,
   "metadata": {},
   "outputs": [],
   "source": []
  },
  {
   "cell_type": "code",
   "execution_count": 148,
   "metadata": {},
   "outputs": [
    {
     "data": {
      "text/plain": [
       "0.0002896634"
      ]
     },
     "execution_count": 148,
     "metadata": {},
     "output_type": "execute_result"
    }
   ],
   "source": [
    "sess.run(optimizer._lr_variables[0])"
   ]
  },
  {
   "cell_type": "code",
   "execution_count": 149,
   "metadata": {},
   "outputs": [
    {
     "data": {
      "text/plain": [
       "[<tf.Variable 'w/lr:0' shape=() dtype=float32_ref>]"
      ]
     },
     "execution_count": 149,
     "metadata": {},
     "output_type": "execute_result"
    }
   ],
   "source": [
    "optimizer._lr_variables"
   ]
  },
  {
   "cell_type": "code",
   "execution_count": 150,
   "metadata": {},
   "outputs": [
    {
     "data": {
      "text/plain": [
       "array([[-0.82221806],\n",
       "       [-0.8831981 ],\n",
       "       [-1.5417752 ],\n",
       "       [-2.6781852 ],\n",
       "       [ 1.3663499 ]], dtype=float32)"
      ]
     },
     "execution_count": 150,
     "metadata": {},
     "output_type": "execute_result"
    }
   ],
   "source": [
    "w_exact"
   ]
  },
  {
   "cell_type": "code",
   "execution_count": null,
   "metadata": {},
   "outputs": [],
   "source": []
  },
  {
   "cell_type": "code",
   "execution_count": null,
   "metadata": {},
   "outputs": [],
   "source": []
  }
 ],
 "metadata": {
  "kernelspec": {
   "display_name": "receptivefield",
   "language": "python",
   "name": "receptivefield"
  },
  "language_info": {
   "codemirror_mode": {
    "name": "ipython",
    "version": 3
   },
   "file_extension": ".py",
   "mimetype": "text/x-python",
   "name": "python",
   "nbconvert_exporter": "python",
   "pygments_lexer": "ipython3",
   "version": "3.6.2"
  }
 },
 "nbformat": 4,
 "nbformat_minor": 2
}
