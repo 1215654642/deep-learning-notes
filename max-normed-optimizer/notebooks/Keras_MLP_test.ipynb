{
 "cells": [
  {
   "cell_type": "markdown",
   "metadata": {},
   "source": [
    "# Training simple multilayer percepton (MLP) on the MNIST dataset\n",
    "\n",
    "Notes:\n",
    "    * Adaptive learning was not working in that case, probably because of the noise of the gradient between batches. \n",
    "    * Normalizing by Lmax seems to be the best working optimizer for me."
   ]
  },
  {
   "cell_type": "markdown",
   "metadata": {},
   "source": [
    "## Setup"
   ]
  },
  {
   "cell_type": "code",
   "execution_count": 1,
   "metadata": {
    "ExecuteTime": {
     "end_time": "2018-05-29T07:14:50.998691Z",
     "start_time": "2018-05-29T07:14:50.986864Z"
    },
    "collapsed": true
   },
   "outputs": [],
   "source": [
    "%load_ext autoreload\n",
    "%autoreload 2\n",
    "import numpy as np\n",
    "import matplotlib.pyplot as plt\n",
    "%matplotlib inline"
   ]
  },
  {
   "cell_type": "code",
   "execution_count": 4,
   "metadata": {
    "ExecuteTime": {
     "end_time": "2018-05-29T07:14:52.713739Z",
     "start_time": "2018-05-29T07:14:51.641533Z"
    }
   },
   "outputs": [
    {
     "data": {
      "text/plain": [
       "'1.7.0'"
      ]
     },
     "execution_count": 4,
     "metadata": {},
     "output_type": "execute_result"
    }
   ],
   "source": [
    "import tensorflow as tf\n",
    "tf.__version__"
   ]
  },
  {
   "cell_type": "code",
   "execution_count": 3,
   "metadata": {
    "ExecuteTime": {
     "end_time": "2018-05-29T07:14:53.357270Z",
     "start_time": "2018-05-29T07:14:53.330917Z"
    }
   },
   "outputs": [
    {
     "name": "stderr",
     "output_type": "stream",
     "text": [
      "Using TensorFlow backend.\n"
     ]
    }
   ],
   "source": [
    "import sys\n",
    "sys.path.append(\"../src/\")\n",
    "import keras_mnist_mlp as mlp\n",
    "import tf_optimizer as tf_opt\n",
    "import callbacks as clb\n",
    "import utils as ut\n",
    "from plotting import set_display_settings\n",
    "set_display_settings()\n",
    "\n",
    "from keras.optimizers import TFOptimizer\n",
    "from keras.callbacks import History"
   ]
  },
  {
   "cell_type": "markdown",
   "metadata": {},
   "source": [
    "## Dataset and model definition"
   ]
  },
  {
   "cell_type": "code",
   "execution_count": 5,
   "metadata": {
    "ExecuteTime": {
     "end_time": "2018-05-29T07:14:56.875243Z",
     "start_time": "2018-05-29T07:14:55.992233Z"
    }
   },
   "outputs": [
    {
     "name": "stdout",
     "output_type": "stream",
     "text": [
      "x_train shape: (60000, 28, 28, 1)\n",
      "60000 train samples\n",
      "10000 test samples\n"
     ]
    }
   ],
   "source": [
    "x_train, y_train, validation_set, input_shape = mlp.get_dataset()"
   ]
  },
  {
   "cell_type": "markdown",
   "metadata": {},
   "source": [
    "Model function:\n",
    "    * 30 dense layers of size 128. \n",
    "    * After each layer Batchnormalization is applied then dropout at level 0.2\n",
    "    * Small l2 regularization is added to the weights of the network"
   ]
  },
  {
   "cell_type": "code",
   "execution_count": 6,
   "metadata": {
    "ExecuteTime": {
     "end_time": "2018-05-29T07:15:03.664708Z",
     "start_time": "2018-05-29T07:15:03.563644Z"
    },
    "collapsed": true
   },
   "outputs": [],
   "source": [
    "def model_fn():\n",
    "    model = mlp.get_mlp(num_layers=30, lantent_size=128, activation='relu', l2_reg=1e-5)\n",
    "    return model\n",
    "\n",
    "model = model_fn()\n",
    "batch_size = 64"
   ]
  },
  {
   "cell_type": "code",
   "execution_count": 7,
   "metadata": {
    "ExecuteTime": {
     "end_time": "2018-05-29T07:15:04.548506Z",
     "start_time": "2018-05-29T07:15:04.503877Z"
    },
    "scrolled": true
   },
   "outputs": [
    {
     "name": "stdout",
     "output_type": "stream",
     "text": [
      "_________________________________________________________________\n",
      "Layer (type)                 Output Shape              Param #   \n",
      "=================================================================\n",
      "input_1 (InputLayer)         (None, 784)               0         \n",
      "_________________________________________________________________\n",
      "dense_1 (Dense)              (None, 128)               100480    \n",
      "_________________________________________________________________\n",
      "batch_normalization_1 (Batch (None, 128)               512       \n",
      "_________________________________________________________________\n",
      "dropout_1 (Dropout)          (None, 128)               0         \n",
      "_________________________________________________________________\n",
      "dense_2 (Dense)              (None, 128)               16512     \n",
      "_________________________________________________________________\n",
      "batch_normalization_2 (Batch (None, 128)               512       \n",
      "_________________________________________________________________\n",
      "dropout_2 (Dropout)          (None, 128)               0         \n",
      "_________________________________________________________________\n",
      "dense_3 (Dense)              (None, 128)               16512     \n",
      "_________________________________________________________________\n",
      "batch_normalization_3 (Batch (None, 128)               512       \n",
      "_________________________________________________________________\n",
      "dropout_3 (Dropout)          (None, 128)               0         \n",
      "_________________________________________________________________\n",
      "dense_4 (Dense)              (None, 128)               16512     \n",
      "_________________________________________________________________\n",
      "batch_normalization_4 (Batch (None, 128)               512       \n",
      "_________________________________________________________________\n",
      "dropout_4 (Dropout)          (None, 128)               0         \n",
      "_________________________________________________________________\n",
      "dense_5 (Dense)              (None, 128)               16512     \n",
      "_________________________________________________________________\n",
      "batch_normalization_5 (Batch (None, 128)               512       \n",
      "_________________________________________________________________\n",
      "dropout_5 (Dropout)          (None, 128)               0         \n",
      "_________________________________________________________________\n",
      "dense_6 (Dense)              (None, 128)               16512     \n",
      "_________________________________________________________________\n",
      "batch_normalization_6 (Batch (None, 128)               512       \n",
      "_________________________________________________________________\n",
      "dropout_6 (Dropout)          (None, 128)               0         \n",
      "_________________________________________________________________\n",
      "dense_7 (Dense)              (None, 128)               16512     \n",
      "_________________________________________________________________\n",
      "batch_normalization_7 (Batch (None, 128)               512       \n",
      "_________________________________________________________________\n",
      "dropout_7 (Dropout)          (None, 128)               0         \n",
      "_________________________________________________________________\n",
      "dense_8 (Dense)              (None, 128)               16512     \n",
      "_________________________________________________________________\n",
      "batch_normalization_8 (Batch (None, 128)               512       \n",
      "_________________________________________________________________\n",
      "dropout_8 (Dropout)          (None, 128)               0         \n",
      "_________________________________________________________________\n",
      "dense_9 (Dense)              (None, 128)               16512     \n",
      "_________________________________________________________________\n",
      "batch_normalization_9 (Batch (None, 128)               512       \n",
      "_________________________________________________________________\n",
      "dropout_9 (Dropout)          (None, 128)               0         \n",
      "_________________________________________________________________\n",
      "dense_10 (Dense)             (None, 128)               16512     \n",
      "_________________________________________________________________\n",
      "batch_normalization_10 (Batc (None, 128)               512       \n",
      "_________________________________________________________________\n",
      "dropout_10 (Dropout)         (None, 128)               0         \n",
      "_________________________________________________________________\n",
      "dense_11 (Dense)             (None, 128)               16512     \n",
      "_________________________________________________________________\n",
      "batch_normalization_11 (Batc (None, 128)               512       \n",
      "_________________________________________________________________\n",
      "dropout_11 (Dropout)         (None, 128)               0         \n",
      "_________________________________________________________________\n",
      "dense_12 (Dense)             (None, 128)               16512     \n",
      "_________________________________________________________________\n",
      "batch_normalization_12 (Batc (None, 128)               512       \n",
      "_________________________________________________________________\n",
      "dropout_12 (Dropout)         (None, 128)               0         \n",
      "_________________________________________________________________\n",
      "dense_13 (Dense)             (None, 128)               16512     \n",
      "_________________________________________________________________\n",
      "batch_normalization_13 (Batc (None, 128)               512       \n",
      "_________________________________________________________________\n",
      "dropout_13 (Dropout)         (None, 128)               0         \n",
      "_________________________________________________________________\n",
      "dense_14 (Dense)             (None, 128)               16512     \n",
      "_________________________________________________________________\n",
      "batch_normalization_14 (Batc (None, 128)               512       \n",
      "_________________________________________________________________\n",
      "dropout_14 (Dropout)         (None, 128)               0         \n",
      "_________________________________________________________________\n",
      "dense_15 (Dense)             (None, 128)               16512     \n",
      "_________________________________________________________________\n",
      "batch_normalization_15 (Batc (None, 128)               512       \n",
      "_________________________________________________________________\n",
      "dropout_15 (Dropout)         (None, 128)               0         \n",
      "_________________________________________________________________\n",
      "dense_16 (Dense)             (None, 128)               16512     \n",
      "_________________________________________________________________\n",
      "batch_normalization_16 (Batc (None, 128)               512       \n",
      "_________________________________________________________________\n",
      "dropout_16 (Dropout)         (None, 128)               0         \n",
      "_________________________________________________________________\n",
      "dense_17 (Dense)             (None, 128)               16512     \n",
      "_________________________________________________________________\n",
      "batch_normalization_17 (Batc (None, 128)               512       \n",
      "_________________________________________________________________\n",
      "dropout_17 (Dropout)         (None, 128)               0         \n",
      "_________________________________________________________________\n",
      "dense_18 (Dense)             (None, 128)               16512     \n",
      "_________________________________________________________________\n",
      "batch_normalization_18 (Batc (None, 128)               512       \n",
      "_________________________________________________________________\n",
      "dropout_18 (Dropout)         (None, 128)               0         \n",
      "_________________________________________________________________\n",
      "dense_19 (Dense)             (None, 128)               16512     \n",
      "_________________________________________________________________\n",
      "batch_normalization_19 (Batc (None, 128)               512       \n",
      "_________________________________________________________________\n",
      "dropout_19 (Dropout)         (None, 128)               0         \n",
      "_________________________________________________________________\n",
      "dense_20 (Dense)             (None, 128)               16512     \n",
      "_________________________________________________________________\n",
      "batch_normalization_20 (Batc (None, 128)               512       \n",
      "_________________________________________________________________\n",
      "dropout_20 (Dropout)         (None, 128)               0         \n",
      "_________________________________________________________________\n",
      "dense_21 (Dense)             (None, 128)               16512     \n",
      "_________________________________________________________________\n",
      "batch_normalization_21 (Batc (None, 128)               512       \n",
      "_________________________________________________________________\n",
      "dropout_21 (Dropout)         (None, 128)               0         \n",
      "_________________________________________________________________\n",
      "dense_22 (Dense)             (None, 128)               16512     \n",
      "_________________________________________________________________\n",
      "batch_normalization_22 (Batc (None, 128)               512       \n",
      "_________________________________________________________________\n",
      "dropout_22 (Dropout)         (None, 128)               0         \n",
      "_________________________________________________________________\n",
      "dense_23 (Dense)             (None, 128)               16512     \n",
      "_________________________________________________________________\n",
      "batch_normalization_23 (Batc (None, 128)               512       \n",
      "_________________________________________________________________\n",
      "dropout_23 (Dropout)         (None, 128)               0         \n",
      "_________________________________________________________________\n",
      "dense_24 (Dense)             (None, 128)               16512     \n",
      "_________________________________________________________________\n",
      "batch_normalization_24 (Batc (None, 128)               512       \n",
      "_________________________________________________________________\n",
      "dropout_24 (Dropout)         (None, 128)               0         \n",
      "_________________________________________________________________\n",
      "dense_25 (Dense)             (None, 128)               16512     \n",
      "_________________________________________________________________\n",
      "batch_normalization_25 (Batc (None, 128)               512       \n",
      "_________________________________________________________________\n",
      "dropout_25 (Dropout)         (None, 128)               0         \n",
      "_________________________________________________________________\n",
      "dense_26 (Dense)             (None, 128)               16512     \n",
      "_________________________________________________________________\n",
      "batch_normalization_26 (Batc (None, 128)               512       \n",
      "_________________________________________________________________\n",
      "dropout_26 (Dropout)         (None, 128)               0         \n",
      "_________________________________________________________________\n",
      "dense_27 (Dense)             (None, 128)               16512     \n",
      "_________________________________________________________________\n",
      "batch_normalization_27 (Batc (None, 128)               512       \n",
      "_________________________________________________________________\n",
      "dropout_27 (Dropout)         (None, 128)               0         \n",
      "_________________________________________________________________\n",
      "dense_28 (Dense)             (None, 128)               16512     \n",
      "_________________________________________________________________\n",
      "batch_normalization_28 (Batc (None, 128)               512       \n",
      "_________________________________________________________________\n",
      "dropout_28 (Dropout)         (None, 128)               0         \n",
      "_________________________________________________________________\n",
      "dense_29 (Dense)             (None, 128)               16512     \n",
      "_________________________________________________________________\n",
      "batch_normalization_29 (Batc (None, 128)               512       \n",
      "_________________________________________________________________\n",
      "dropout_29 (Dropout)         (None, 128)               0         \n",
      "_________________________________________________________________\n",
      "dense_30 (Dense)             (None, 128)               16512     \n",
      "_________________________________________________________________\n",
      "batch_normalization_30 (Batc (None, 128)               512       \n",
      "_________________________________________________________________\n",
      "dropout_30 (Dropout)         (None, 128)               0         \n",
      "_________________________________________________________________\n",
      "dense_31 (Dense)             (None, 10)                1290      \n",
      "=================================================================\n",
      "Total params: 595,978\n",
      "Trainable params: 588,298\n",
      "Non-trainable params: 7,680\n",
      "_________________________________________________________________\n"
     ]
    }
   ],
   "source": [
    "model.summary()"
   ]
  },
  {
   "cell_type": "markdown",
   "metadata": {},
   "source": [
    "# Train model with `LmaxNormalizedSGD`\n",
    "\n",
    "Some notes: \n",
    "\n",
    "* `LmaxNormalizedSGD` just normalizes gradients by their $L_\\infty$ norm for each layer.\n",
    "* No momentum is used, since it did not improve results for this case.."
   ]
  },
  {
   "cell_type": "code",
   "execution_count": 8,
   "metadata": {
    "ExecuteTime": {
     "end_time": "2018-05-29T07:18:10.095221Z",
     "start_time": "2018-05-29T07:17:33.435012Z"
    },
    "scrolled": true
   },
   "outputs": [
    {
     "name": "stdout",
     "output_type": "stream",
     "text": [
      "Train on 60000 samples, validate on 10000 samples\n",
      "Epoch 1/10\n",
      "60000/60000 [==============================] - 74s 1ms/step - loss: 1.9599 - acc: 0.3057 - val_loss: 0.9577 - val_acc: 0.7149\n",
      "Epoch 2/10\n",
      "60000/60000 [==============================] - 58s 973us/step - loss: 0.9923 - acc: 0.6834 - val_loss: 0.6909 - val_acc: 0.7533\n",
      "Epoch 3/10\n",
      "60000/60000 [==============================] - 60s 992us/step - loss: 0.8890 - acc: 0.7118 - val_loss: 0.6665 - val_acc: 0.7535\n",
      "Epoch 4/10\n",
      "60000/60000 [==============================] - 59s 981us/step - loss: 0.8356 - acc: 0.7171 - val_loss: 0.7123 - val_acc: 0.7410\n",
      "Epoch 5/10\n",
      "60000/60000 [==============================] - 59s 982us/step - loss: 0.8447 - acc: 0.7129 - val_loss: 0.6464 - val_acc: 0.7510\n",
      "Epoch 6/10\n",
      "60000/60000 [==============================] - 58s 971us/step - loss: 0.8023 - acc: 0.7241 - val_loss: 0.5899 - val_acc: 0.7699\n",
      "Epoch 7/10\n",
      "60000/60000 [==============================] - 58s 971us/step - loss: 0.8069 - acc: 0.7275 - val_loss: 0.5998 - val_acc: 0.7688\n",
      "Epoch 8/10\n",
      "60000/60000 [==============================] - 58s 972us/step - loss: 0.7764 - acc: 0.7508 - val_loss: 0.5135 - val_acc: 0.8355\n",
      "Epoch 9/10\n",
      "60000/60000 [==============================] - 59s 979us/step - loss: 0.7266 - acc: 0.7862 - val_loss: 0.5499 - val_acc: 0.8303\n",
      "Epoch 10/10\n",
      "60000/60000 [==============================] - 59s 976us/step - loss: 0.6973 - acc: 0.8107 - val_loss: 0.4732 - val_acc: 0.8980\n",
      "Train on 60000 samples, validate on 10000 samples\n",
      "Epoch 1/10\n",
      "60000/60000 [==============================] - 70s 1ms/step - loss: 0.6293 - acc: 0.8645 - val_loss: 0.3831 - val_acc: 0.9312\n",
      "Epoch 2/10\n",
      "60000/60000 [==============================] - 61s 1ms/step - loss: 0.5921 - acc: 0.8766 - val_loss: 0.3632 - val_acc: 0.9352\n",
      "Epoch 3/10\n",
      "60000/60000 [==============================] - 60s 996us/step - loss: 0.5740 - acc: 0.8821 - val_loss: 0.3533 - val_acc: 0.9381\n",
      "Epoch 4/10\n",
      "60000/60000 [==============================] - 59s 991us/step - loss: 0.5541 - acc: 0.8885 - val_loss: 0.3388 - val_acc: 0.9405\n",
      "Epoch 5/10\n",
      "60000/60000 [==============================] - 59s 987us/step - loss: 0.5378 - acc: 0.8942 - val_loss: 0.3233 - val_acc: 0.9451\n",
      "Epoch 6/10\n",
      "60000/60000 [==============================] - 59s 985us/step - loss: 0.5231 - acc: 0.9004 - val_loss: 0.3122 - val_acc: 0.9496\n",
      "Epoch 7/10\n",
      "60000/60000 [==============================] - 60s 998us/step - loss: 0.5072 - acc: 0.9054 - val_loss: 0.3065 - val_acc: 0.9504\n",
      "Epoch 8/10\n",
      "60000/60000 [==============================] - 59s 990us/step - loss: 0.4946 - acc: 0.9089 - val_loss: 0.3059 - val_acc: 0.9500\n",
      "Epoch 9/10\n",
      "60000/60000 [==============================] - 60s 993us/step - loss: 0.4873 - acc: 0.9107 - val_loss: 0.2949 - val_acc: 0.9522\n",
      "Epoch 10/10\n",
      "60000/60000 [==============================] - 59s 991us/step - loss: 0.4837 - acc: 0.9112 - val_loss: 0.2977 - val_acc: 0.9510\n",
      "Train on 60000 samples, validate on 10000 samples\n",
      "Epoch 1/10\n",
      "60000/60000 [==============================] - 72s 1ms/step - loss: 0.4763 - acc: 0.9125 - val_loss: 0.2948 - val_acc: 0.9519\n",
      "Epoch 2/10\n",
      "60000/60000 [==============================] - 60s 996us/step - loss: 0.4697 - acc: 0.9142 - val_loss: 0.2954 - val_acc: 0.9520\n",
      "Epoch 3/10\n",
      "60000/60000 [==============================] - 60s 993us/step - loss: 0.4682 - acc: 0.9146 - val_loss: 0.2937 - val_acc: 0.9521\n",
      "Epoch 4/10\n",
      "60000/60000 [==============================] - 60s 1000us/step - loss: 0.4655 - acc: 0.9156 - val_loss: 0.2894 - val_acc: 0.9535\n",
      "Epoch 5/10\n",
      "60000/60000 [==============================] - 59s 983us/step - loss: 0.4659 - acc: 0.9163 - val_loss: 0.2893 - val_acc: 0.9532\n",
      "Epoch 6/10\n",
      "60000/60000 [==============================] - 59s 984us/step - loss: 0.4645 - acc: 0.9160 - val_loss: 0.2870 - val_acc: 0.9541\n",
      "Epoch 7/10\n",
      "60000/60000 [==============================] - 60s 992us/step - loss: 0.4594 - acc: 0.9177 - val_loss: 0.2867 - val_acc: 0.9537\n",
      "Epoch 8/10\n",
      "60000/60000 [==============================] - 59s 981us/step - loss: 0.4676 - acc: 0.9154 - val_loss: 0.2869 - val_acc: 0.9538\n",
      "Epoch 9/10\n",
      "60000/60000 [==============================] - 59s 987us/step - loss: 0.4626 - acc: 0.9169 - val_loss: 0.2842 - val_acc: 0.9541\n",
      "Epoch 10/10\n",
      "60000/60000 [==============================] - 59s 979us/step - loss: 0.4548 - acc: 0.9184 - val_loss: 0.2848 - val_acc: 0.9541\n"
     ]
    }
   ],
   "source": [
    "model = model_fn()\n",
    "metrics_history = [clb.AggregateMetricsOnBatchEnd(), clb.AggregateMetricsOnEpochEnd()]\n",
    "\n",
    "for lr in [0.01, 0.001, 0.0001]:\n",
    "    optimizer = TFOptimizer(tf_opt.LmaxNormalizedSGD(lr=lr))\n",
    "    model.compile(optimizer, loss='categorical_crossentropy', metrics=['accuracy'])\n",
    "    model.fit(\n",
    "        x=x_train, y=y_train, \n",
    "        batch_size=batch_size, epochs=10, \n",
    "        validation_data=validation_set, \n",
    "        callbacks=metrics_history)"
   ]
  },
  {
   "cell_type": "markdown",
   "metadata": {},
   "source": [
    "Plotting:"
   ]
  },
  {
   "cell_type": "code",
   "execution_count": 9,
   "metadata": {},
   "outputs": [
    {
     "data": {
      "text/plain": [
       "<matplotlib.legend.Legend at 0x7f798123a358>"
      ]
     },
     "execution_count": 9,
     "metadata": {},
     "output_type": "execute_result"
    },
    {
     "data": {
      "image/png": "[encoded data removed]",
      "text/plain": [
       "<matplotlib.figure.Figure at 0x7f7d50231780>"
      ]
     },
     "metadata": {},
     "output_type": "display_data"
    }
   ],
   "source": [
    "hist = metrics_history[1].monitor_values['accuracies']\n",
    "for k, v in hist.items():\n",
    "    if len(v) != 0: plt.plot(v, label=k)\n",
    "plt.legend()"
   ]
  },
  {
   "cell_type": "markdown",
   "metadata": {},
   "source": [
    "# Training with Adam optimizer and SGD with momentum (0.9)\n",
    "\n",
    "For Adam I use slightly smaller learning rate since it was perfoming better for me. Propably one could get better results by doing grid search on the initial value of `lr`."
   ]
  },
  {
   "cell_type": "code",
   "execution_count": 10,
   "metadata": {
    "collapsed": true
   },
   "outputs": [],
   "source": [
    "from keras.optimizers import Adam, SGD"
   ]
  },
  {
   "cell_type": "code",
   "execution_count": 11,
   "metadata": {
    "scrolled": true
   },
   "outputs": [
    {
     "name": "stdout",
     "output_type": "stream",
     "text": [
      "Train on 60000 samples, validate on 10000 samples\n",
      "Epoch 1/10\n",
      "60000/60000 [==============================] - 90s 1ms/step - loss: 2.0504 - acc: 0.2595 - val_loss: 1.2865 - val_acc: 0.4526\n",
      "Epoch 2/10\n",
      "60000/60000 [==============================] - 75s 1ms/step - loss: 1.3600 - acc: 0.4633 - val_loss: 0.9709 - val_acc: 0.6040\n",
      "Epoch 3/10\n",
      "60000/60000 [==============================] - 75s 1ms/step - loss: 1.1702 - acc: 0.5766 - val_loss: 0.8958 - val_acc: 0.7310\n",
      "Epoch 4/10\n",
      "60000/60000 [==============================] - 75s 1ms/step - loss: 1.0883 - acc: 0.6763 - val_loss: 0.7079 - val_acc: 0.7954\n",
      "Epoch 5/10\n",
      "60000/60000 [==============================] - 75s 1ms/step - loss: 0.9966 - acc: 0.7218 - val_loss: 0.8389 - val_acc: 0.7464\n",
      "Epoch 6/10\n",
      "60000/60000 [==============================] - 74s 1ms/step - loss: 1.0698 - acc: 0.6845 - val_loss: 0.9057 - val_acc: 0.7005\n",
      "Epoch 7/10\n",
      "60000/60000 [==============================] - 76s 1ms/step - loss: 1.0656 - acc: 0.6922 - val_loss: 1.0014 - val_acc: 0.6939\n",
      "Epoch 8/10\n",
      "60000/60000 [==============================] - 75s 1ms/step - loss: 1.1755 - acc: 0.6673 - val_loss: 0.8878 - val_acc: 0.7489\n",
      "Epoch 9/10\n",
      "60000/60000 [==============================] - 75s 1ms/step - loss: 1.3101 - acc: 0.5954 - val_loss: 1.0638 - val_acc: 0.6334\n",
      "Epoch 10/10\n",
      "60000/60000 [==============================] - 75s 1ms/step - loss: 1.3775 - acc: 0.5590 - val_loss: 1.3087 - val_acc: 0.5544\n",
      "Train on 60000 samples, validate on 10000 samples\n",
      "Epoch 1/10\n",
      "60000/60000 [==============================] - 90s 1ms/step - loss: 1.2476 - acc: 0.6075 - val_loss: 0.9609 - val_acc: 0.7040\n",
      "Epoch 2/10\n",
      "60000/60000 [==============================] - 75s 1ms/step - loss: 1.0778 - acc: 0.6848 - val_loss: 0.7817 - val_acc: 0.7932\n",
      "Epoch 3/10\n",
      "60000/60000 [==============================] - 76s 1ms/step - loss: 1.0061 - acc: 0.7257 - val_loss: 0.7508 - val_acc: 0.8124\n",
      "Epoch 4/10\n",
      "60000/60000 [==============================] - 75s 1ms/step - loss: 0.9307 - acc: 0.7523 - val_loss: 0.6900 - val_acc: 0.8142\n",
      "Epoch 5/10\n",
      "60000/60000 [==============================] - 75s 1ms/step - loss: 0.8987 - acc: 0.7618 - val_loss: 0.7195 - val_acc: 0.8072\n",
      "Epoch 6/10\n",
      "60000/60000 [==============================] - 75s 1ms/step - loss: 0.8842 - acc: 0.7639 - val_loss: 0.6555 - val_acc: 0.8324\n",
      "Epoch 7/10\n",
      "60000/60000 [==============================] - 75s 1ms/step - loss: 0.8594 - acc: 0.7749 - val_loss: 0.6976 - val_acc: 0.8292\n",
      "Epoch 8/10\n",
      "60000/60000 [==============================] - 76s 1ms/step - loss: 0.9067 - acc: 0.7668 - val_loss: 0.7058 - val_acc: 0.8231\n",
      "Epoch 9/10\n",
      "60000/60000 [==============================] - 76s 1ms/step - loss: 0.8602 - acc: 0.7825 - val_loss: 0.6626 - val_acc: 0.8391\n",
      "Epoch 10/10\n",
      "60000/60000 [==============================] - 75s 1ms/step - loss: 0.8415 - acc: 0.7880 - val_loss: 0.6239 - val_acc: 0.8557\n",
      "Train on 60000 samples, validate on 10000 samples\n",
      "Epoch 1/10\n",
      "60000/60000 [==============================] - 90s 2ms/step - loss: 0.7952 - acc: 0.8055 - val_loss: 0.6062 - val_acc: 0.8585\n",
      "Epoch 2/10\n",
      "60000/60000 [==============================] - 75s 1ms/step - loss: 0.7866 - acc: 0.8065 - val_loss: 0.6021 - val_acc: 0.8583\n",
      "Epoch 3/10\n",
      "60000/60000 [==============================] - 76s 1ms/step - loss: 0.7779 - acc: 0.8088 - val_loss: 0.5938 - val_acc: 0.8631\n",
      "Epoch 4/10\n",
      "60000/60000 [==============================] - 75s 1ms/step - loss: 0.7629 - acc: 0.8145 - val_loss: 0.5938 - val_acc: 0.8674\n",
      "Epoch 5/10\n",
      "60000/60000 [==============================] - 76s 1ms/step - loss: 0.7650 - acc: 0.8184 - val_loss: 0.5894 - val_acc: 0.8715\n",
      "Epoch 6/10\n",
      "60000/60000 [==============================] - 75s 1ms/step - loss: 0.7586 - acc: 0.8210 - val_loss: 0.5828 - val_acc: 0.8718\n",
      "Epoch 7/10\n",
      "60000/60000 [==============================] - 75s 1ms/step - loss: 0.7536 - acc: 0.8252 - val_loss: 0.5728 - val_acc: 0.8805\n",
      "Epoch 8/10\n",
      "60000/60000 [==============================] - 76s 1ms/step - loss: 0.7508 - acc: 0.8283 - val_loss: 0.5645 - val_acc: 0.8838\n",
      "Epoch 9/10\n",
      "60000/60000 [==============================] - 76s 1ms/step - loss: 0.7402 - acc: 0.8312 - val_loss: 0.5507 - val_acc: 0.8910\n",
      "Epoch 10/10\n",
      "60000/60000 [==============================] - 75s 1ms/step - loss: 0.7388 - acc: 0.8321 - val_loss: 0.5455 - val_acc: 0.8934\n"
     ]
    }
   ],
   "source": [
    "model = model_fn()\n",
    "optimizer = Adam(lr=0.001)\n",
    "adam_metrics_history = [clb.AggregateMetricsOnBatchEnd(), clb.AggregateMetricsOnEpochEnd()]\n",
    "# lr=0.01 was not training properly, the validation loss was dropping after some epochs\n",
    "for lr in [0.005, 0.001, 0.0001]:\n",
    "    optimizer = Adam(lr=lr)\n",
    "    model.compile(optimizer, loss='categorical_crossentropy', metrics=['accuracy'])\n",
    "    model.fit(\n",
    "        x=x_train, y=y_train, \n",
    "        batch_size=batch_size, epochs=10, \n",
    "        validation_data=validation_set, \n",
    "        callbacks=adam_metrics_history)"
   ]
  },
  {
   "cell_type": "code",
   "execution_count": null,
   "metadata": {
    "collapsed": true
   },
   "outputs": [],
   "source": [
    "hist = adam_metrics_history[1].monitor_values['accuracies']\n",
    "for k, v in hist.items():\n",
    "    if len(v) != 0: plt.plot(v, label=k)\n",
    "plt.legend()"
   ]
  },
  {
   "cell_type": "markdown",
   "metadata": {},
   "source": [
    "# Training with SGD and momentum"
   ]
  },
  {
   "cell_type": "code",
   "execution_count": 13,
   "metadata": {
    "ExecuteTime": {
     "end_time": "2018-05-29T07:20:04.241806Z",
     "start_time": "2018-05-29T07:19:29.160005Z"
    },
    "scrolled": true
   },
   "outputs": [
    {
     "name": "stdout",
     "output_type": "stream",
     "text": [
      "Train on 60000 samples, validate on 10000 samples\n",
      "Epoch 1/10\n",
      "60000/60000 [==============================] - 76s 1ms/step - loss: 3.4554 - acc: 0.1575 - val_loss: 2.9794 - val_acc: 0.3375\n",
      "Epoch 2/10\n",
      "60000/60000 [==============================] - 60s 1ms/step - loss: 3.1412 - acc: 0.2714 - val_loss: 2.7139 - val_acc: 0.3999\n",
      "Epoch 3/10\n",
      "60000/60000 [==============================] - 60s 995us/step - loss: 2.9245 - acc: 0.3416 - val_loss: 2.5496 - val_acc: 0.4610\n",
      "Epoch 4/10\n",
      "60000/60000 [==============================] - 59s 990us/step - loss: 2.7775 - acc: 0.3907 - val_loss: 2.4371 - val_acc: 0.5015\n",
      "Epoch 5/10\n",
      "60000/60000 [==============================] - 60s 998us/step - loss: 2.6742 - acc: 0.4361 - val_loss: 2.2995 - val_acc: 0.6009\n",
      "Epoch 6/10\n",
      "60000/60000 [==============================] - 60s 992us/step - loss: 2.5833 - acc: 0.4779 - val_loss: 2.2160 - val_acc: 0.6099\n",
      "Epoch 7/10\n",
      "60000/60000 [==============================] - 59s 989us/step - loss: 2.5114 - acc: 0.5091 - val_loss: 2.1435 - val_acc: 0.6247\n",
      "Epoch 8/10\n",
      "60000/60000 [==============================] - 59s 992us/step - loss: 2.4534 - acc: 0.5320 - val_loss: 2.0931 - val_acc: 0.6421\n",
      "Epoch 9/10\n",
      "60000/60000 [==============================] - 59s 990us/step - loss: 2.4132 - acc: 0.5487 - val_loss: 2.0284 - val_acc: 0.7016\n",
      "Epoch 10/10\n",
      "60000/60000 [==============================] - 60s 1ms/step - loss: 2.3651 - acc: 0.5727 - val_loss: 2.0017 - val_acc: 0.7082\n",
      "Train on 60000 samples, validate on 10000 samples\n",
      "Epoch 1/10\n",
      "60000/60000 [==============================] - 75s 1ms/step - loss: 2.3301 - acc: 0.5867 - val_loss: 1.9864 - val_acc: 0.7155\n",
      "Epoch 2/10\n",
      "60000/60000 [==============================] - 59s 989us/step - loss: 2.3265 - acc: 0.5897 - val_loss: 1.9758 - val_acc: 0.7220\n",
      "Epoch 3/10\n",
      "60000/60000 [==============================] - 60s 996us/step - loss: 2.3197 - acc: 0.5923 - val_loss: 1.9707 - val_acc: 0.7234\n",
      "Epoch 4/10\n",
      "60000/60000 [==============================] - 59s 986us/step - loss: 2.3132 - acc: 0.5945 - val_loss: 1.9641 - val_acc: 0.7268\n",
      "Epoch 5/10\n",
      "60000/60000 [==============================] - 59s 986us/step - loss: 2.3048 - acc: 0.5956 - val_loss: 1.9603 - val_acc: 0.7319\n",
      "Epoch 6/10\n",
      "60000/60000 [==============================] - 60s 1ms/step - loss: 2.3097 - acc: 0.5945 - val_loss: 1.9576 - val_acc: 0.7293\n",
      "Epoch 7/10\n",
      "60000/60000 [==============================] - 59s 989us/step - loss: 2.2986 - acc: 0.6009 - val_loss: 1.9511 - val_acc: 0.7357\n",
      "Epoch 8/10\n",
      "60000/60000 [==============================] - 60s 993us/step - loss: 2.2990 - acc: 0.5980 - val_loss: 1.9416 - val_acc: 0.7337\n",
      "Epoch 9/10\n",
      "60000/60000 [==============================] - 59s 988us/step - loss: 2.2902 - acc: 0.6006 - val_loss: 1.9396 - val_acc: 0.7383\n",
      "Epoch 10/10\n",
      "60000/60000 [==============================] - 59s 985us/step - loss: 2.2964 - acc: 0.6017 - val_loss: 1.9390 - val_acc: 0.7431\n",
      "Train on 60000 samples, validate on 10000 samples\n",
      "Epoch 1/10\n",
      "60000/60000 [==============================] - 76s 1ms/step - loss: 2.2889 - acc: 0.6040 - val_loss: 1.9379 - val_acc: 0.7397\n",
      "Epoch 2/10\n",
      "60000/60000 [==============================] - 59s 987us/step - loss: 2.2897 - acc: 0.6039 - val_loss: 1.9365 - val_acc: 0.7408\n",
      "Epoch 3/10\n",
      "60000/60000 [==============================] - 59s 977us/step - loss: 2.2949 - acc: 0.6011 - val_loss: 1.9354 - val_acc: 0.7374\n",
      "Epoch 4/10\n",
      "60000/60000 [==============================] - 59s 977us/step - loss: 2.2877 - acc: 0.6020 - val_loss: 1.9367 - val_acc: 0.7381\n",
      "Epoch 5/10\n",
      "60000/60000 [==============================] - 58s 974us/step - loss: 2.2914 - acc: 0.6027 - val_loss: 1.9333 - val_acc: 0.7412\n",
      "Epoch 6/10\n",
      "60000/60000 [==============================] - 60s 993us/step - loss: 2.2930 - acc: 0.6040 - val_loss: 1.9380 - val_acc: 0.7374\n",
      "Epoch 7/10\n",
      "60000/60000 [==============================] - 59s 982us/step - loss: 2.2845 - acc: 0.6028 - val_loss: 1.9335 - val_acc: 0.7427\n",
      "Epoch 8/10\n",
      "60000/60000 [==============================] - 59s 990us/step - loss: 2.2903 - acc: 0.6004 - val_loss: 1.9337 - val_acc: 0.7435\n",
      "Epoch 9/10\n",
      "60000/60000 [==============================] - 59s 976us/step - loss: 2.2856 - acc: 0.6069 - val_loss: 1.9363 - val_acc: 0.7392\n",
      "Epoch 10/10\n",
      "60000/60000 [==============================] - 59s 981us/step - loss: 2.2825 - acc: 0.6060 - val_loss: 1.9321 - val_acc: 0.7417\n"
     ]
    }
   ],
   "source": [
    "from keras.optimizers import SGD\n",
    "model = model_fn()\n",
    "momentum_metrics_history = [clb.AggregateMetricsOnBatchEnd(), clb.AggregateMetricsOnEpochEnd()]\n",
    "\n",
    "for lr in [0.01, 0.001, 0.0001]:\n",
    "    optimizer = SGD(lr=lr,  momentum=0.9)\n",
    "    model.compile(optimizer, loss='categorical_crossentropy', metrics=['accuracy'])\n",
    "    model.fit(\n",
    "        x=x_train, y=y_train, \n",
    "        batch_size=batch_size, epochs=10, \n",
    "        validation_data=validation_set, \n",
    "        callbacks=momentum_metrics_history)"
   ]
  },
  {
   "cell_type": "code",
   "execution_count": 14,
   "metadata": {},
   "outputs": [
    {
     "data": {
      "text/plain": [
       "<matplotlib.legend.Legend at 0x7f7c78e8c2b0>"
      ]
     },
     "execution_count": 14,
     "metadata": {},
     "output_type": "execute_result"
    },
    {
     "data": {
      "image/png": "[encoded data removed]",
      "text/plain": [
       "<matplotlib.figure.Figure at 0x7f7c78e8c358>"
      ]
     },
     "metadata": {},
     "output_type": "display_data"
    }
   ],
   "source": [
    "hist = momentum_metrics_history[1].monitor_values['accuracies']\n",
    "for k, v in hist.items():\n",
    "    if len(v) != 0:\n",
    "        plt.plot(v, label=k)\n",
    "plt.legend()"
   ]
  },
  {
   "cell_type": "markdown",
   "metadata": {},
   "source": [
    "# Plots for comparison"
   ]
  },
  {
   "cell_type": "code",
   "execution_count": 16,
   "metadata": {
    "collapsed": true
   },
   "outputs": [],
   "source": [
    "hists = {\n",
    "  'NSGD': metrics_history,\n",
    "  'Adam': adam_metrics_history,\n",
    "  'Momentum': momentum_metrics_history\n",
    "} "
   ]
  },
  {
   "cell_type": "code",
   "execution_count": 17,
   "metadata": {},
   "outputs": [
    {
     "data": {
      "image/png": "[encoded data removed]",
      "text/plain": [
       "<matplotlib.figure.Figure at 0x7f794aa41a90>"
      ]
     },
     "metadata": {},
     "output_type": "display_data"
    }
   ],
   "source": [
    "plt.figure(figsize=(15, 3))\n",
    "plt.subplot(121)\n",
    "for opt, hist in hists.items():\n",
    "    h = hist[0].monitor_values['accuracies']['acc']\n",
    "    h = ut.moving_average(h, periods=100)\n",
    "    step_to_epoch = np.linspace(0, 30, len(h))\n",
    "    plt.plot(step_to_epoch, h, label=opt, alpha=0.8)\n",
    "plt.ylim([0, 1])\n",
    "plt.legend(fontsize=12, loc='upper right')\n",
    "plt.xlabel('epoch')\n",
    "plt.ylabel('training accuracy')\n",
    "\n",
    "plt.subplot(122)\n",
    "for opt, hist in hists.items():\n",
    "    h = hist[0].monitor_values['losses']['loss']\n",
    "    h = ut.moving_average(h, periods=100)\n",
    "    step_to_epoch = np.linspace(0, 30, len(h))\n",
    "    plt.plot(step_to_epoch, h, label=opt, alpha=0.8)\n",
    "plt.legend(fontsize=12, loc='upper right')\n",
    "plt.xlabel('epoch')\n",
    "plt.ylabel('training loss')\n",
    "plt.savefig('../img/mnist_mlp_training.pdf')\n",
    "plt.savefig('../img/mnist_mlp_training.png')"
   ]
  },
  {
   "cell_type": "code",
   "execution_count": 18,
   "metadata": {},
   "outputs": [
    {
     "data": {
      "image/png": "[encoded data removed]",
      "text/plain": [
       "<matplotlib.figure.Figure at 0x7f794aa48f98>"
      ]
     },
     "metadata": {},
     "output_type": "display_data"
    }
   ],
   "source": [
    "plt.figure(figsize=(15, 3))\n",
    "plt.subplot(121)\n",
    "for opt, hist in hists.items():\n",
    "    h = hist[1].monitor_values['accuracies']['val_acc']\n",
    "    plt.plot(h, 'o-',label=opt,  alpha=0.9, linewidth=2)\n",
    "plt.legend(fontsize=12, loc='upper right')\n",
    "plt.xlabel('epoch')\n",
    "plt.ylabel('validation\\naccuracy')\n",
    "\n",
    "plt.subplot(122)\n",
    "for opt, hist in hists.items():\n",
    "    h = hist[1].monitor_values['losses']['val_loss']\n",
    "    plt.plot(h, 'o-', label=opt,  alpha=0.9, linewidth=2)\n",
    "plt.legend(fontsize=12, loc='upper right')\n",
    "plt.xlabel('epoch')\n",
    "plt.ylabel('validation\\nloss')\n",
    "plt.savefig('../img/mnist_mlp_validation.pdf')\n",
    "plt.savefig('../img/mnist_mlp_validation.png')"
   ]
  },
  {
   "cell_type": "code",
   "execution_count": null,
   "metadata": {
    "collapsed": true
   },
   "outputs": [],
   "source": []
  }
 ],
 "metadata": {
  "kernelspec": {
   "display_name": "Python 3",
   "language": "python",
   "name": "python3"
  },
  "language_info": {
   "codemirror_mode": {
    "name": "ipython",
    "version": 3
   },
   "file_extension": ".py",
   "mimetype": "text/x-python",
   "name": "python",
   "nbconvert_exporter": "python",
   "pygments_lexer": "ipython3",
   "version": "3.5.2"
  },
  "toc": {
   "colors": {
    "hover_highlight": "#DAA520",
    "navigate_num": "#000000",
    "navigate_text": "#333333",
    "running_highlight": "#FF0000",
    "selected_highlight": "#FFD700",
    "sidebar_border": "#EEEEEE",
    "wrapper_background": "#FFFFFF"
   },
   "moveMenuLeft": true,
   "nav_menu": {
    "height": "12px",
    "width": "252px"
   },
   "navigate_menu": true,
   "number_sections": true,
   "sideBar": true,
   "threshold": 4,
   "toc_cell": false,
   "toc_section_display": "block",
   "toc_window_display": false,
   "widenNotebook": false
  },
  "varInspector": {
   "cols": {
    "lenName": 16,
    "lenType": 16,
    "lenVar": 40
   },
   "kernels_config": {
    "python": {
     "delete_cmd_postfix": "",
     "delete_cmd_prefix": "del ",
     "library": "var_list.py",
     "varRefreshCmd": "print(var_dic_list())"
    },
    "r": {
     "delete_cmd_postfix": ") ",
     "delete_cmd_prefix": "rm(",
     "library": "var_list.r",
     "varRefreshCmd": "cat(var_dic_list()) "
    }
   },
   "types_to_exclude": [
    "module",
    "function",
    "builtin_function_or_method",
    "instance",
    "_Feature"
   ],
   "window_display": false
  }
 },
 "nbformat": 4,
 "nbformat_minor": 2
}
