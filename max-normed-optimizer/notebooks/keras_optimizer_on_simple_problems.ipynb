{
 "cells": [
  {
   "cell_type": "code",
   "execution_count": 1,
   "metadata": {
    "ExecuteTime": {
     "end_time": "2018-05-29T07:14:50.998691Z",
     "start_time": "2018-05-29T07:14:50.986864Z"
    },
    "collapsed": true
   },
   "outputs": [],
   "source": [
    "%load_ext autoreload\n",
    "%autoreload 2"
   ]
  },
  {
   "cell_type": "code",
   "execution_count": 2,
   "metadata": {
    "ExecuteTime": {
     "end_time": "2018-05-29T07:14:52.713739Z",
     "start_time": "2018-05-29T07:14:51.641533Z"
    }
   },
   "outputs": [
    {
     "name": "stderr",
     "output_type": "stream",
     "text": [
      "/home/krzysiek/anaconda3/envs/shelfwise_kk/lib/python3.6/site-packages/h5py/__init__.py:34: FutureWarning: Conversion of the second argument of issubdtype from `float` to `np.floating` is deprecated. In future, it will be treated as `np.float64 == np.dtype(float).type`.\n",
      "  from ._conv import register_converters as _register_converters\n"
     ]
    },
    {
     "data": {
      "text/plain": [
       "'1.7.0'"
      ]
     },
     "execution_count": 2,
     "metadata": {},
     "output_type": "execute_result"
    }
   ],
   "source": [
    "import tensorflow as tf\n",
    "tf.__version__"
   ]
  },
  {
   "cell_type": "code",
   "execution_count": 3,
   "metadata": {
    "ExecuteTime": {
     "end_time": "2018-05-29T07:14:53.357270Z",
     "start_time": "2018-05-29T07:14:53.330917Z"
    },
    "collapsed": true
   },
   "outputs": [],
   "source": [
    "import sys\n",
    "sys.path.append(\"../src/\")"
   ]
  },
  {
   "cell_type": "code",
   "execution_count": 4,
   "metadata": {
    "ExecuteTime": {
     "end_time": "2018-05-29T07:14:54.800875Z",
     "start_time": "2018-05-29T07:14:54.341531Z"
    }
   },
   "outputs": [
    {
     "name": "stderr",
     "output_type": "stream",
     "text": [
      "Using TensorFlow backend.\n"
     ]
    }
   ],
   "source": [
    "import keras_optimizer as keras_opt\n",
    "import keras_mnist_mlp as mlp"
   ]
  },
  {
   "cell_type": "code",
   "execution_count": 5,
   "metadata": {
    "ExecuteTime": {
     "end_time": "2018-05-29T07:14:56.875243Z",
     "start_time": "2018-05-29T07:14:55.992233Z"
    }
   },
   "outputs": [
    {
     "name": "stdout",
     "output_type": "stream",
     "text": [
      "x_train shape: (60000, 28, 28, 1)\n",
      "60000 train samples\n",
      "10000 test samples\n"
     ]
    }
   ],
   "source": [
    "x_train, y_train, validation_set, input_shape = mlp.get_dataset()"
   ]
  },
  {
   "cell_type": "code",
   "execution_count": 7,
   "metadata": {
    "ExecuteTime": {
     "end_time": "2018-05-29T07:15:03.664708Z",
     "start_time": "2018-05-29T07:15:03.563644Z"
    }
   },
   "outputs": [],
   "source": [
    "def model_fn():\n",
    "    model = mlp.get_mlp(num_layers=5, lantent_size=256, activation='relu', l2_reg=1e-4)\n",
    "    return model\n",
    "\n",
    "model = model_fn()\n",
    "batch_size = 64"
   ]
  },
  {
   "cell_type": "code",
   "execution_count": 8,
   "metadata": {
    "ExecuteTime": {
     "end_time": "2018-05-29T07:15:04.548506Z",
     "start_time": "2018-05-29T07:15:04.503877Z"
    }
   },
   "outputs": [
    {
     "name": "stdout",
     "output_type": "stream",
     "text": [
      "_________________________________________________________________\n",
      "Layer (type)                 Output Shape              Param #   \n",
      "=================================================================\n",
      "input_2 (InputLayer)         (None, 784)               0         \n",
      "_________________________________________________________________\n",
      "dense_5 (Dense)              (None, 256)               200960    \n",
      "_________________________________________________________________\n",
      "dense_6 (Dense)              (None, 256)               65792     \n",
      "_________________________________________________________________\n",
      "dense_7 (Dense)              (None, 256)               65792     \n",
      "_________________________________________________________________\n",
      "dense_8 (Dense)              (None, 256)               65792     \n",
      "_________________________________________________________________\n",
      "dense_9 (Dense)              (None, 256)               65792     \n",
      "_________________________________________________________________\n",
      "dense_10 (Dense)             (None, 10)                2570      \n",
      "=================================================================\n",
      "Total params: 466,698\n",
      "Trainable params: 466,698\n",
      "Non-trainable params: 0\n",
      "_________________________________________________________________\n"
     ]
    }
   ],
   "source": [
    "model.summary()"
   ]
  },
  {
   "cell_type": "code",
   "execution_count": 12,
   "metadata": {
    "ExecuteTime": {
     "end_time": "2018-05-29T07:18:10.095221Z",
     "start_time": "2018-05-29T07:17:33.435012Z"
    }
   },
   "outputs": [
    {
     "name": "stdout",
     "output_type": "stream",
     "text": [
      "Train on 60000 samples, validate on 10000 samples\n",
      "Epoch 1/5\n",
      "60000/60000 [==============================] - 8s 128us/step - loss: 0.4265 - acc: 0.9104 - val_loss: 0.2532 - val_acc: 0.9644\n",
      "Epoch 2/5\n",
      "60000/60000 [==============================] - 7s 117us/step - loss: 0.2337 - acc: 0.9716 - val_loss: 0.2392 - val_acc: 0.9685\n",
      "Epoch 3/5\n",
      "60000/60000 [==============================] - 7s 117us/step - loss: 0.2041 - acc: 0.9806 - val_loss: 0.2207 - val_acc: 0.9736\n",
      "Epoch 4/5\n",
      "60000/60000 [==============================] - 8s 131us/step - loss: 0.1891 - acc: 0.9840 - val_loss: 0.2123 - val_acc: 0.9746\n",
      "Epoch 5/5\n",
      "60000/60000 [==============================] - 6s 108us/step - loss: 0.1800 - acc: 0.9868 - val_loss: 0.2080 - val_acc: 0.9770\n"
     ]
    },
    {
     "data": {
      "text/plain": [
       "<keras.callbacks.History at 0x7fac74046240>"
      ]
     },
     "execution_count": 12,
     "metadata": {},
     "output_type": "execute_result"
    }
   ],
   "source": [
    "model = model_fn()\n",
    "optimizer = keras_opt.NormalizedSGD(\n",
    "    lr=0.025, lr_update=0.02, lr_max=0.1, lr_min=1e-6, lr_force=-0.01, norm='max')\n",
    "\n",
    "model.compile(optimizer, loss='categorical_crossentropy', metrics=['accuracy'])\n",
    "model.fit(\n",
    "    x=x_train, y=y_train, \n",
    "    batch_size=batch_size, \n",
    "    epochs=5, \n",
    "    validation_data=validation_set)"
   ]
  },
  {
   "cell_type": "code",
   "execution_count": 13,
   "metadata": {
    "ExecuteTime": {
     "end_time": "2018-05-29T07:18:35.980923Z",
     "start_time": "2018-05-29T07:18:35.707723Z"
    }
   },
   "outputs": [
    {
     "data": {
      "text/plain": [
       "[0.000658192,\n",
       " 9.157751e-05,\n",
       " 0.00040799627,\n",
       " 3.7452446e-05,\n",
       " 0.00025064795,\n",
       " 2.8899272e-05,\n",
       " 0.00015383222,\n",
       " 2.4831588e-05,\n",
       " 0.00014767669,\n",
       " 4.139456e-05,\n",
       " 5.6804813e-05,\n",
       " 1.9993287e-05]"
      ]
     },
     "execution_count": 13,
     "metadata": {},
     "output_type": "execute_result"
    }
   ],
   "source": [
    "import keras.backend as K\n",
    "[K.eval(lr) for lr in optimizer.learning_rates]"
   ]
  },
  {
   "cell_type": "code",
   "execution_count": 14,
   "metadata": {
    "ExecuteTime": {
     "end_time": "2018-05-29T07:19:25.382557Z",
     "start_time": "2018-05-29T07:18:53.179545Z"
    }
   },
   "outputs": [
    {
     "name": "stdout",
     "output_type": "stream",
     "text": [
      "Train on 60000 samples, validate on 10000 samples\n",
      "Epoch 1/5\n",
      "60000/60000 [==============================] - 7s 114us/step - loss: 0.8816 - acc: 0.7976 - val_loss: 0.4851 - val_acc: 0.9029\n",
      "Epoch 2/5\n",
      "60000/60000 [==============================] - 6s 104us/step - loss: 0.4709 - acc: 0.9058 - val_loss: 0.4342 - val_acc: 0.9160\n",
      "Epoch 3/5\n",
      "60000/60000 [==============================] - 6s 97us/step - loss: 0.4338 - acc: 0.9160 - val_loss: 0.4118 - val_acc: 0.9226\n",
      "Epoch 4/5\n",
      "60000/60000 [==============================] - 6s 104us/step - loss: 0.4128 - acc: 0.9227 - val_loss: 0.3965 - val_acc: 0.9261\n",
      "Epoch 5/5\n",
      "60000/60000 [==============================] - 6s 107us/step - loss: 0.3978 - acc: 0.9267 - val_loss: 0.3861 - val_acc: 0.9291\n"
     ]
    },
    {
     "data": {
      "text/plain": [
       "<keras.callbacks.History at 0x7fac07f21eb8>"
      ]
     },
     "execution_count": 14,
     "metadata": {},
     "output_type": "execute_result"
    }
   ],
   "source": [
    "model = model_fn()\n",
    "optimizer = keras_opt.NormalizedSGD(\n",
    "    lr=0.005, lr_update=0.02, lr_max=0.1, lr_min=1e-6, lr_force=0.0, norm='l2')\n",
    "\n",
    "model.compile(optimizer, loss='categorical_crossentropy', metrics=['accuracy'])\n",
    "model.fit(\n",
    "    x=x_train, y=y_train, \n",
    "    batch_size=batch_size, \n",
    "    epochs=5, \n",
    "    validation_data=validation_set)"
   ]
  },
  {
   "cell_type": "code",
   "execution_count": 15,
   "metadata": {
    "ExecuteTime": {
     "end_time": "2018-05-29T07:19:26.161639Z",
     "start_time": "2018-05-29T07:19:25.845380Z"
    }
   },
   "outputs": [
    {
     "data": {
      "text/plain": [
       "[0.0048818113,\n",
       " 0.0006314599,\n",
       " 0.00079733913,\n",
       " 0.00028958448,\n",
       " 0.00048910035,\n",
       " 0.00025250574,\n",
       " 0.0004984809,\n",
       " 0.00028926242,\n",
       " 0.0006495855,\n",
       " 0.00035417455,\n",
       " 0.00085580227,\n",
       " 0.00023147414]"
      ]
     },
     "execution_count": 15,
     "metadata": {},
     "output_type": "execute_result"
    }
   ],
   "source": [
    "import keras.backend as K\n",
    "[K.eval(lr) for lr in optimizer.learning_rates]"
   ]
  },
  {
   "cell_type": "code",
   "execution_count": 16,
   "metadata": {
    "ExecuteTime": {
     "end_time": "2018-05-29T07:20:04.241806Z",
     "start_time": "2018-05-29T07:19:29.160005Z"
    }
   },
   "outputs": [
    {
     "name": "stdout",
     "output_type": "stream",
     "text": [
      "Train on 60000 samples, validate on 10000 samples\n",
      "Epoch 1/5\n",
      "60000/60000 [==============================] - 8s 127us/step - loss: 0.3424 - acc: 0.9280 - val_loss: 0.2275 - val_acc: 0.9615\n",
      "Epoch 2/5\n",
      "60000/60000 [==============================] - 7s 113us/step - loss: 0.2064 - acc: 0.9680 - val_loss: 0.1907 - val_acc: 0.9713\n",
      "Epoch 3/5\n",
      "60000/60000 [==============================] - 7s 111us/step - loss: 0.1730 - acc: 0.9747 - val_loss: 0.1765 - val_acc: 0.9742\n",
      "Epoch 4/5\n",
      "60000/60000 [==============================] - 7s 112us/step - loss: 0.1517 - acc: 0.9799 - val_loss: 0.1720 - val_acc: 0.9730\n",
      "Epoch 5/5\n",
      "60000/60000 [==============================] - 7s 114us/step - loss: 0.1387 - acc: 0.9818 - val_loss: 0.1583 - val_acc: 0.9751\n"
     ]
    },
    {
     "data": {
      "text/plain": [
       "<keras.callbacks.History at 0x7fac077ccba8>"
      ]
     },
     "execution_count": 16,
     "metadata": {},
     "output_type": "execute_result"
    }
   ],
   "source": [
    "from keras.optimizers import Adam\n",
    "model = model_fn()\n",
    "adam_optimizer = Adam(0.001)\n",
    "\n",
    "model.compile(adam_optimizer, loss='categorical_crossentropy', metrics=['accuracy'])\n",
    "model.fit(\n",
    "    x=x_train, y=y_train, \n",
    "    batch_size=batch_size, \n",
    "    epochs=5, \n",
    "    validation_data=validation_set)"
   ]
  },
  {
   "cell_type": "code",
   "execution_count": null,
   "metadata": {
    "collapsed": true
   },
   "outputs": [],
   "source": []
  }
 ],
 "metadata": {
  "kernelspec": {
   "display_name": "shelfwise_kk",
   "language": "python",
   "name": "shelfwise_kk"
  },
  "language_info": {
   "codemirror_mode": {
    "name": "ipython",
    "version": 3
   },
   "file_extension": ".py",
   "mimetype": "text/x-python",
   "name": "python",
   "nbconvert_exporter": "python",
   "pygments_lexer": "ipython3",
   "version": "3.6.1"
  },
  "toc": {
   "colors": {
    "hover_highlight": "#DAA520",
    "navigate_num": "#000000",
    "navigate_text": "#333333",
    "running_highlight": "#FF0000",
    "selected_highlight": "#FFD700",
    "sidebar_border": "#EEEEEE",
    "wrapper_background": "#FFFFFF"
   },
   "moveMenuLeft": true,
   "nav_menu": {
    "height": "12px",
    "width": "252px"
   },
   "navigate_menu": true,
   "number_sections": true,
   "sideBar": true,
   "threshold": 4,
   "toc_cell": false,
   "toc_section_display": "block",
   "toc_window_display": false,
   "widenNotebook": false
  },
  "varInspector": {
   "cols": {
    "lenName": 16,
    "lenType": 16,
    "lenVar": 40
   },
   "kernels_config": {
    "python": {
     "delete_cmd_postfix": "",
     "delete_cmd_prefix": "del ",
     "library": "var_list.py",
     "varRefreshCmd": "print(var_dic_list())"
    },
    "r": {
     "delete_cmd_postfix": ") ",
     "delete_cmd_prefix": "rm(",
     "library": "var_list.r",
     "varRefreshCmd": "cat(var_dic_list()) "
    }
   },
   "types_to_exclude": [
    "module",
    "function",
    "builtin_function_or_method",
    "instance",
    "_Feature"
   ],
   "window_display": false
  }
 },
 "nbformat": 4,
 "nbformat_minor": 2
}
