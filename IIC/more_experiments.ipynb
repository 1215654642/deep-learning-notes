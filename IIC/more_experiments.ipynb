{
 "cells": [
  {
   "cell_type": "code",
   "execution_count": null,
   "metadata": {},
   "outputs": [],
   "source": [
    "!cp nasze_dane.ipynb /media/raid/shelfwise/projects/notebooks/kkol/"
   ]
  },
  {
   "cell_type": "code",
   "execution_count": null,
   "metadata": {},
   "outputs": [],
   "source": [
    "# !pip install tensorflow-gpu==1.14.0"
   ]
  },
  {
   "cell_type": "code",
   "execution_count": null,
   "metadata": {},
   "outputs": [],
   "source": [
    "%load_ext autoreload\n",
    "%autoreload 2\n",
    "\n",
    "from classification_models.tfkeras import Classifiers\n",
    "import tensorflow as tf\n",
    "import tensorflow_datasets as tfds\n",
    "import matplotlib.pyplot as plt\n",
    "\n",
    "tf.enable_eager_execution()\n",
    "\n",
    "keras = tf.keras\n",
    "K = tf.keras.backend"
   ]
  },
  {
   "cell_type": "code",
   "execution_count": null,
   "metadata": {},
   "outputs": [],
   "source": [
    "import iic_datasets_ops\n",
    "import iic_loss_ops\n",
    "import utils\n",
    "import models\n",
    "import mnist_ops"
   ]
  },
  {
   "cell_type": "code",
   "execution_count": null,
   "metadata": {},
   "outputs": [],
   "source": [
    "\n",
    "batch_size = 64\n",
    "num_classes = 10\n",
    "num_repeats = 2\n",
    "input_shape = [128, 128, 3]\n",
    "\n",
    "# dataset\n",
    "\n",
    "train_dataset = # here\n",
    "cls_train_dataset = train_dataset.take(5000)\n",
    "\n",
    "test_dataset = # here\n",
    "test_dataset = test_dataset.map(prepare_ds)"
   ]
  },
  {
   "cell_type": "code",
   "execution_count": null,
   "metadata": {},
   "outputs": [],
   "source": [
    "num_train_examples, num_valid_examples, num_test_examples = ds.dataset_split\n",
    "num_train_steps = num_train_examples // batch_size\n",
    "num_test_steps = num_test_examples // batch_size\n",
    "num_train_examples, num_valid_examples, num_test_examples"
   ]
  },
  {
   "cell_type": "code",
   "execution_count": null,
   "metadata": {},
   "outputs": [],
   "source": [
    "test_dataset"
   ]
  },
  {
   "cell_type": "code",
   "execution_count": null,
   "metadata": {},
   "outputs": [],
   "source": [
    "first_image_aug_fn = iic_datasets_ops.get_default_image_aug_fn(rotation=0.1, skew=0.05, translation=0.1, crop=0.2)\n",
    "second_image_aug_fn = iic_datasets_ops.get_default_image_aug_fn(crop=0.2)\n",
    "\n",
    "test_image_aug_fn = iic_datasets_ops.get_default_image_aug_fn(\n",
    "    rotation=0.0, skew=0.0, translation=0.0, crop=0.3, hue=0.0, saturation=0.0, brightness=0.0, uniform_noise=0.0, contrast=0.0\n",
    ")\n",
    "\n",
    "\n",
    "iic_train_dataset, model_input_shape = iic_datasets_ops.prepare_dataset(\n",
    "    dataset=train_dataset,\n",
    "    first_image_aug_fn=first_image_aug_fn,\n",
    "    second_image_aug_fn=second_image_aug_fn,\n",
    "    batch_size=batch_size,\n",
    "    num_image_repeats=num_repeats,\n",
    "    input_size=input_shape[:2],\n",
    ")\n",
    "\n",
    "iic_cls_train_dataset, _ = iic_datasets_ops.prepare_dataset(\n",
    "    dataset=cls_train_dataset,\n",
    "    first_image_aug_fn=first_image_aug_fn,\n",
    "    second_image_aug_fn=second_image_aug_fn,\n",
    "    batch_size=batch_size,\n",
    "    num_image_repeats=num_repeats,\n",
    "    input_size=input_shape[:2],\n",
    ")"
   ]
  },
  {
   "cell_type": "code",
   "execution_count": null,
   "metadata": {},
   "outputs": [],
   "source": [
    "iic_test_dataset, _ = iic_datasets_ops.prepare_dataset(\n",
    "    dataset=test_dataset,\n",
    "    first_image_aug_fn=test_image_aug_fn,\n",
    "    second_image_aug_fn=test_image_aug_fn,\n",
    "    batch_size=batch_size,\n",
    "    num_image_repeats=num_repeats,\n",
    "    input_size=input_shape[:2],\n",
    ")"
   ]
  },
  {
   "cell_type": "code",
   "execution_count": null,
   "metadata": {},
   "outputs": [],
   "source": [
    "iic_train_dataset, iic_test_dataset"
   ]
  },
  {
   "cell_type": "code",
   "execution_count": null,
   "metadata": {},
   "outputs": [],
   "source": [
    "model_input_shape"
   ]
  },
  {
   "cell_type": "code",
   "execution_count": null,
   "metadata": {},
   "outputs": [],
   "source": [
    "iic_train_iterator = iic_train_dataset.make_one_shot_iterator()\n",
    "iic_test_iterator = iic_test_dataset.make_one_shot_iterator()\n",
    "iic_cls_train_iterator = iic_cls_train_dataset.make_one_shot_iterator()\n",
    "iic_train_iterator, iic_test_iterator"
   ]
  },
  {
   "cell_type": "code",
   "execution_count": null,
   "metadata": {
    "scrolled": true
   },
   "outputs": [],
   "source": [
    "utils.plot_image_pairs(*next(iic_train_iterator), num_examples=10)"
   ]
  },
  {
   "cell_type": "code",
   "execution_count": null,
   "metadata": {
    "scrolled": true
   },
   "outputs": [],
   "source": [
    "utils.plot_image_pairs(*next(iic_test_iterator), num_examples=10)"
   ]
  },
  {
   "cell_type": "code",
   "execution_count": null,
   "metadata": {
    "scrolled": true
   },
   "outputs": [],
   "source": [
    "utils.plot_image_pairs(*next(iic_cls_train_iterator), num_examples=10)"
   ]
  },
  {
   "cell_type": "code",
   "execution_count": null,
   "metadata": {},
   "outputs": [],
   "source": [
    "%timeit -n 10 next(iic_train_iterator)"
   ]
  },
  {
   "cell_type": "code",
   "execution_count": null,
   "metadata": {},
   "outputs": [],
   "source": [
    "base_model = models.create_resnet_se_backbone(model_input_shape, (4, 4, 4))"
   ]
  },
  {
   "cell_type": "code",
   "execution_count": null,
   "metadata": {
    "scrolled": true
   },
   "outputs": [],
   "source": [
    "base_model.summary()"
   ]
  },
  {
   "cell_type": "code",
   "execution_count": null,
   "metadata": {},
   "outputs": [],
   "source": [
    "iic_prediction_model = models.create_iic_model(\n",
    "    base_model, \n",
    "    main_heads_num_classes=[num_classes], \n",
    "    aux_heads_num_classes=[5 * num_classes],\n",
    ")"
   ]
  },
  {
   "cell_type": "code",
   "execution_count": null,
   "metadata": {},
   "outputs": [],
   "source": [
    "iic_prediction_model.summary()"
   ]
  },
  {
   "cell_type": "code",
   "execution_count": null,
   "metadata": {},
   "outputs": [],
   "source": [
    "# inputs, main_heads, aux_heads\n",
    "image_input = keras.Input(shape=model_input_shape, name=\"image\")\n",
    "tf_image_input = keras.Input(shape=model_input_shape, name=\"tf_image\")\n",
    "\n",
    "image_predictions = iic_prediction_model(image_input)\n",
    "tf_image_predictions = iic_prediction_model(tf_image_input)"
   ]
  },
  {
   "cell_type": "code",
   "execution_count": null,
   "metadata": {},
   "outputs": [],
   "source": [
    "image_predictions"
   ]
  },
  {
   "cell_type": "code",
   "execution_count": null,
   "metadata": {},
   "outputs": [],
   "source": [
    "num_main_heads = len(image_predictions['main_heads'])\n",
    "num_aux_heads = len(image_predictions['aux_heads'])\n",
    "\n",
    "heads_p_out = image_predictions['main_heads']\n",
    "heads_p_tf_out = tf_image_predictions['main_heads']\n",
    "\n",
    "main_heads_loss = tf.add_n([\n",
    "    iic_loss_ops.iic_loss(\n",
    "        heads_p_out[k], \n",
    "        heads_p_tf_out[k])\n",
    "    for k in range(num_main_heads)\n",
    "]) / num_main_heads\n",
    "\n",
    "aux_heads_loss = tf.add_n([\n",
    "    iic_loss_ops.iic_loss(\n",
    "        image_predictions['aux_heads'][k], \n",
    "        tf_image_predictions['aux_heads'][k]) \n",
    "    for k in range(num_aux_heads)\n",
    "]) / num_aux_heads\n",
    "\n",
    "main_heads_loss, aux_heads_loss"
   ]
  },
  {
   "cell_type": "code",
   "execution_count": null,
   "metadata": {},
   "outputs": [],
   "source": [
    "inputs = {\n",
    "    \"image\": image_input,\n",
    "    \"tf_image\": tf_image_input\n",
    "}\n",
    "\n",
    "iic_main_model = keras.Model(inputs=inputs, outputs=heads_p_out)\n",
    "iic_aux_model = keras.Model(inputs=inputs, outputs=heads_p_tf_out)"
   ]
  },
  {
   "cell_type": "code",
   "execution_count": null,
   "metadata": {
    "scrolled": true
   },
   "outputs": [],
   "source": [
    "iic_main_model.layers[-1].get_layer(\"aux_head_0/dense\").trainable = False"
   ]
  },
  {
   "cell_type": "code",
   "execution_count": null,
   "metadata": {},
   "outputs": [],
   "source": [
    "iic_main_model.add_loss(main_heads_loss)\n",
    "iic_aux_model.add_loss(aux_heads_loss)"
   ]
  },
  {
   "cell_type": "code",
   "execution_count": null,
   "metadata": {
    "scrolled": true
   },
   "outputs": [],
   "source": [
    "optimizer = keras.optimizers.Adam(learning_rate=0.0005)\n",
    "iic_main_model.compile(optimizer=optimizer)\n",
    "\n",
    "optimizer = keras.optimizers.Adam(learning_rate=0.0005)\n",
    "iic_aux_model.compile(optimizer=optimizer)"
   ]
  },
  {
   "cell_type": "code",
   "execution_count": null,
   "metadata": {
    "scrolled": true
   },
   "outputs": [],
   "source": [
    "iic_main_model.fit(\n",
    "    iic_train_iterator, verbose=1, epochs=1,\n",
    "    steps_per_epoch=100, \n",
    "    callbacks=[utils.PredictionsHistory(iic_test_iterator, num_classes=num_classes)]\n",
    ")"
   ]
  },
  {
   "cell_type": "code",
   "execution_count": null,
   "metadata": {},
   "outputs": [],
   "source": [
    "# utils.plot_probabilities_grid(iic_main_model, iic_test_iterator)"
   ]
  },
  {
   "cell_type": "code",
   "execution_count": null,
   "metadata": {},
   "outputs": [],
   "source": [
    "labels = tf.keras.layers.Lambda(lambda x: x, name=\"label\")(image_predictions['main_heads'][0])\n",
    "cls_model = keras.Model(inputs={\"image\": image_input}, outputs=labels)\n",
    "optimizer = keras.optimizers.Adam(learning_rate=0.0005)\n",
    "cls_model.compile(optimizer=optimizer, loss={\"label\": \"sparse_categorical_crossentropy\"})"
   ]
  },
  {
   "cell_type": "code",
   "execution_count": null,
   "metadata": {
    "scrolled": true
   },
   "outputs": [],
   "source": [
    "cls_model.fit(\n",
    "    iic_cls_train_dataset, verbose=1, epochs=1,\n",
    "    steps_per_epoch=num_test_steps, callbacks = [utils.PredictionsHistory(iic_test_iterator, num_classes=num_classes)]\n",
    ")"
   ]
  },
  {
   "cell_type": "code",
   "execution_count": null,
   "metadata": {},
   "outputs": [],
   "source": []
  },
  {
   "cell_type": "code",
   "execution_count": null,
   "metadata": {},
   "outputs": [],
   "source": [
    "def remap_dataset(pair_data, cls_data):\n",
    "    pair_data[0]['cls_image'] = cls_data[0]['image']\n",
    "    return {\n",
    "        \"image\": pair_data[0]['image'],\n",
    "        \"tf_image\": pair_data[0]['tf_image'],\n",
    "        \"cls_image\": cls_data[0]['image']\n",
    "    }, cls_data[1]\n",
    "\n",
    "combined_dataset = tf.data.Dataset.zip((iic_train_dataset, iic_cls_train_dataset)).map(remap_dataset)\n",
    "combined_dataset"
   ]
  },
  {
   "cell_type": "code",
   "execution_count": null,
   "metadata": {},
   "outputs": [],
   "source": []
  },
  {
   "cell_type": "code",
   "execution_count": null,
   "metadata": {},
   "outputs": [],
   "source": [
    "# inputs, main_heads, aux_heads\n",
    "image_input = keras.Input(shape=model_input_shape, name=\"image\")\n",
    "tf_image_input = keras.Input(shape=model_input_shape, name=\"tf_image\")\n",
    "cls_image_input = keras.Input(shape=model_input_shape, name=\"cls_image\")\n",
    "\n",
    "image_predictions = iic_prediction_model(image_input)\n",
    "tf_image_predictions = iic_prediction_model(tf_image_input)\n",
    "cls_image_predictions = iic_prediction_model(cls_image_input)"
   ]
  },
  {
   "cell_type": "code",
   "execution_count": null,
   "metadata": {},
   "outputs": [],
   "source": [
    "labels = tf.keras.layers.Lambda(lambda x: x, name=\"label\")(cls_image_predictions['main_heads'][0])"
   ]
  },
  {
   "cell_type": "code",
   "execution_count": null,
   "metadata": {},
   "outputs": [],
   "source": [
    "num_main_heads = len(image_predictions['main_heads'])\n",
    "num_aux_heads = len(image_predictions['aux_heads'])\n",
    "\n",
    "heads_p_out = image_predictions['main_heads']\n",
    "heads_p_tf_out = tf_image_predictions['main_heads']\n",
    "\n",
    "main_heads_loss = tf.add_n([\n",
    "    iic_loss_ops.iic_loss(\n",
    "        heads_p_out[k], \n",
    "        heads_p_tf_out[k])\n",
    "    for k in range(num_main_heads)\n",
    "]) / num_main_heads\n",
    "\n",
    "aux_heads_loss = tf.add_n([\n",
    "    iic_loss_ops.iic_loss(\n",
    "        image_predictions['aux_heads'][k], \n",
    "        tf_image_predictions['aux_heads'][k]) \n",
    "    for k in range(num_aux_heads)\n",
    "]) / num_aux_heads\n",
    "\n",
    "main_heads_loss, aux_heads_loss"
   ]
  },
  {
   "cell_type": "code",
   "execution_count": null,
   "metadata": {},
   "outputs": [],
   "source": [
    "cls_predictions"
   ]
  },
  {
   "cell_type": "code",
   "execution_count": null,
   "metadata": {},
   "outputs": [],
   "source": [
    "inputs = {\n",
    "    \"image\": image_input,\n",
    "    \"tf_image\": tf_image_input,\n",
    "    \"cls_image\": cls_image_input\n",
    "}\n",
    "iic_cls_model = keras.Model(inputs=inputs, outputs=labels)"
   ]
  },
  {
   "cell_type": "code",
   "execution_count": null,
   "metadata": {},
   "outputs": [],
   "source": []
  },
  {
   "cell_type": "code",
   "execution_count": null,
   "metadata": {},
   "outputs": [],
   "source": [
    "test_cls_model = keras.Model(inputs={\"image\": image_input}, outputs=heads_p_out)\n",
    "test_cls_model.summary()"
   ]
  },
  {
   "cell_type": "code",
   "execution_count": null,
   "metadata": {},
   "outputs": [],
   "source": [
    "iic_cls_model.layers[-4].get_layer(\"aux_head_0/dense\").trainable = False"
   ]
  },
  {
   "cell_type": "code",
   "execution_count": null,
   "metadata": {},
   "outputs": [],
   "source": [
    "iic_cls_model.add_loss(main_heads_loss)"
   ]
  },
  {
   "cell_type": "code",
   "execution_count": null,
   "metadata": {},
   "outputs": [],
   "source": [
    "iic_cls_model.summary()"
   ]
  },
  {
   "cell_type": "code",
   "execution_count": null,
   "metadata": {},
   "outputs": [],
   "source": [
    "optimizer = keras.optimizers.Adam(learning_rate=0.0002)\n",
    "iic_cls_model.compile(optimizer=optimizer, loss={\"label\": \"sparse_categorical_crossentropy\"}, metrics={\"label\": \"accuracy\"})"
   ]
  },
  {
   "cell_type": "code",
   "execution_count": null,
   "metadata": {
    "scrolled": true
   },
   "outputs": [],
   "source": [
    "iic_cls_model.fit(\n",
    "    combined_dataset, verbose=1, epochs=15,\n",
    "    steps_per_epoch=300, \n",
    "    callbacks=[\n",
    "        utils.PredictionsHistory(\"test\", test_cls_model, iic_test_iterator, num_classes=num_classes),\n",
    "        utils.PredictionsHistory(\"train\", test_cls_model, iic_train_iterator, num_classes=num_classes)\n",
    "    ]\n",
    ")"
   ]
  },
  {
   "cell_type": "code",
   "execution_count": null,
   "metadata": {},
   "outputs": [],
   "source": [
    "test_cls_model.compile(optimizer=optimizer, loss=\"sparse_categorical_crossentropy\", metrics=[\"accuracy\"])"
   ]
  },
  {
   "cell_type": "code",
   "execution_count": null,
   "metadata": {},
   "outputs": [],
   "source": [
    "def test_generator():\n",
    "    while True:\n",
    "        f, l = iic_test_iterator.get_next()\n",
    "        yield f['image'][::2], l['label'][::2]"
   ]
  },
  {
   "cell_type": "code",
   "execution_count": null,
   "metadata": {},
   "outputs": [],
   "source": [
    "test_cls_model.evaluate(test_generator(), steps=100)"
   ]
  },
  {
   "cell_type": "code",
   "execution_count": null,
   "metadata": {},
   "outputs": [],
   "source": [
    "test_labels = []\n",
    "for i in range(100):\n",
    "    test_labels += iic_test_iterator.get_next()[1]['label'].numpy()[::2].tolist()"
   ]
  },
  {
   "cell_type": "code",
   "execution_count": null,
   "metadata": {},
   "outputs": [],
   "source": [
    "from collections import Counter\n",
    "len(Counter(test_labels)) / num_classes"
   ]
  },
  {
   "cell_type": "code",
   "execution_count": null,
   "metadata": {},
   "outputs": [],
   "source": [
    "cls_image_predictions['main_heads'][0]"
   ]
  },
  {
   "cell_type": "code",
   "execution_count": null,
   "metadata": {},
   "outputs": [],
   "source": [
    "image_input = keras.Input(shape=model_input_shape, name=\"image\")\n",
    "image_predictions = iic_prediction_model(image_input)\n",
    "\n",
    "cls_labels = tf.keras.layers.Lambda(lambda x: x, name=\"label\")(image_predictions['main_heads'][0])\n",
    "cls_model_no_unsupervised = keras.Model(inputs={\"image\": image_input}, outputs=cls_labels)"
   ]
  },
  {
   "cell_type": "code",
   "execution_count": null,
   "metadata": {},
   "outputs": [],
   "source": [
    "cls_model_no_unsupervised.layers[-2].get_layer(\"aux_head_0/dense\").trainable = False"
   ]
  },
  {
   "cell_type": "code",
   "execution_count": null,
   "metadata": {},
   "outputs": [],
   "source": [
    "cls_model_no_unsupervised.summary()"
   ]
  },
  {
   "cell_type": "code",
   "execution_count": null,
   "metadata": {},
   "outputs": [],
   "source": [
    "optimizer = keras.optimizers.Adam(learning_rate=0.0002)\n",
    "cls_model_no_unsupervised.compile(\n",
    "    optimizer=optimizer, loss={\"label\": \"sparse_categorical_crossentropy\"}, metrics={\"label\": \"accuracy\"})"
   ]
  },
  {
   "cell_type": "code",
   "execution_count": null,
   "metadata": {},
   "outputs": [],
   "source": [
    "cls_model_no_unsupervised.fit(\n",
    "    iic_cls_train_dataset, verbose=1, epochs=15,\n",
    "    steps_per_epoch=300, \n",
    "    callbacks=[\n",
    "        utils.PredictionsHistory(\"test\", cls_model_no_unsupervised, iic_test_iterator, num_classes=num_classes),\n",
    "        utils.PredictionsHistory(\"train\", cls_model_no_unsupervised, iic_cls_train_iterator, num_classes=num_classes)\n",
    "    ]\n",
    ")"
   ]
  },
  {
   "cell_type": "code",
   "execution_count": null,
   "metadata": {},
   "outputs": [],
   "source": [
    "def test_generator():\n",
    "    while True:\n",
    "        f, l = iic_test_iterator.get_next()\n",
    "        yield f['image'][::2], l['label'][::2]"
   ]
  },
  {
   "cell_type": "code",
   "execution_count": null,
   "metadata": {},
   "outputs": [],
   "source": [
    "cls_model_no_unsupervised.evaluate_generator(test_generator(), steps=100)"
   ]
  },
  {
   "cell_type": "code",
   "execution_count": null,
   "metadata": {},
   "outputs": [],
   "source": [
    "def train_generator():\n",
    "    while True:\n",
    "        f, l = iic_cls_train_iterator.get_next()\n",
    "        yield f['image'][::2], l['label'][::2]"
   ]
  },
  {
   "cell_type": "code",
   "execution_count": null,
   "metadata": {},
   "outputs": [],
   "source": [
    "cls_model_no_unsupervised.evaluate(train_generator(), steps=100)"
   ]
  },
  {
   "cell_type": "code",
   "execution_count": null,
   "metadata": {},
   "outputs": [],
   "source": []
  }
 ],
 "metadata": {
  "kernelspec": {
   "display_name": "Python 3",
   "language": "python",
   "name": "python3"
  },
  "language_info": {
   "codemirror_mode": {
    "name": "ipython",
    "version": 3
   },
   "file_extension": ".py",
   "mimetype": "text/x-python",
   "name": "python",
   "nbconvert_exporter": "python",
   "pygments_lexer": "ipython3",
   "version": "3.6.8"
  }
 },
 "nbformat": 4,
 "nbformat_minor": 4
}
