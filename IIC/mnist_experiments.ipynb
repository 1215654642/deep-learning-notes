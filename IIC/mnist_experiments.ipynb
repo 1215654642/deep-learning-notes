{
 "cells": [
  {
   "cell_type": "code",
   "execution_count": 1,
   "metadata": {},
   "outputs": [
    {
     "name": "stdout",
     "output_type": "stream",
     "text": [
      "WARNING:tensorflow:\n",
      "The TensorFlow contrib module will not be included in TensorFlow 2.0.\n",
      "For more information, please see:\n",
      "  * https://github.com/tensorflow/community/blob/master/rfcs/20180907-contrib-sunset.md\n",
      "  * https://github.com/tensorflow/addons\n",
      "  * https://github.com/tensorflow/io (for I/O related ops)\n",
      "If you depend on functionality not listed there, please file an issue.\n",
      "\n"
     ]
    }
   ],
   "source": [
    "%load_ext autoreload\n",
    "%autoreload 2\n",
    "\n",
    "from classification_models.tfkeras import Classifiers\n",
    "import tensorflow as tf\n",
    "import tensorflow_datasets as tfds\n",
    "import matplotlib.pyplot as plt\n",
    "\n",
    "tf.enable_eager_execution()\n",
    "\n",
    "keras = tf.keras\n",
    "K = tf.keras.backend"
   ]
  },
  {
   "cell_type": "code",
   "execution_count": 2,
   "metadata": {},
   "outputs": [],
   "source": [
    "import iic_datasets_ops\n",
    "import iic_loss_ops\n",
    "import utils\n",
    "import models"
   ]
  },
  {
   "cell_type": "code",
   "execution_count": 57,
   "metadata": {},
   "outputs": [],
   "source": [
    "batch_size = 256\n",
    "image_size = 28\n",
    "num_classes = 10\n",
    "num_repeats = 5\n",
    "input_shape = (24, 24, 1)\n",
    "num_train_steps = 60000 // batch_size\n",
    "num_eval_steps = 10000 // batch_size"
   ]
  },
  {
   "cell_type": "code",
   "execution_count": 58,
   "metadata": {
    "scrolled": true
   },
   "outputs": [
    {
     "name": "stderr",
     "output_type": "stream",
     "text": [
      "WARNING:absl:Warning: Setting shuffle_files=True because split=TRAIN and shuffle_files=None. This behavior will be deprecated on 2019-08-06, at which point shuffle_files=False will be the default for all splits.\n"
     ]
    }
   ],
   "source": [
    "train_dataset, dataset_info = tfds.load(name=\"mnist\", split=tfds.Split.TRAIN, as_supervised=True, with_info=True)\n",
    "test_dataset = tfds.load(name=\"mnist\", split=tfds.Split.TEST, as_supervised=True)"
   ]
  },
  {
   "cell_type": "code",
   "execution_count": 59,
   "metadata": {},
   "outputs": [
    {
     "data": {
      "text/plain": [
       "<DatasetV1Adapter shapes: ((28, 28, 1), ()), types: (tf.uint8, tf.int64)>"
      ]
     },
     "execution_count": 59,
     "metadata": {},
     "output_type": "execute_result"
    }
   ],
   "source": [
    "train_dataset"
   ]
  },
  {
   "cell_type": "code",
   "execution_count": 60,
   "metadata": {},
   "outputs": [
    {
     "name": "stdout",
     "output_type": "stream",
     "text": [
      "Tensor(\"stack_15:0\", shape=(5, 24, 24, 1), dtype=float32)\n"
     ]
    }
   ],
   "source": [
    "iic_train_dataset = iic_datasets_ops.prepare_training_dataset(train_dataset, num_image_repeats=num_repeats)"
   ]
  },
  {
   "cell_type": "code",
   "execution_count": 61,
   "metadata": {},
   "outputs": [],
   "source": [
    "iic_train_iterator = iic_train_dataset.make_one_shot_iterator()"
   ]
  },
  {
   "cell_type": "code",
   "execution_count": 64,
   "metadata": {},
   "outputs": [
    {
     "name": "stdout",
     "output_type": "stream",
     "text": [
      "The slowest run took 35.44 times longer than the fastest. This could mean that an intermediate result is being cached.\n",
      "8.68 ms ± 4.08 ms per loop (mean ± std. dev. of 7 runs, 10 loops each)\n"
     ]
    }
   ],
   "source": [
    "%timeit -n 10 next(iic_train_iterator)"
   ]
  },
  {
   "cell_type": "code",
   "execution_count": 65,
   "metadata": {},
   "outputs": [
    {
     "data": {
      "image/png": "[encoded data removed]",
      "text/plain": [
       "<matplotlib.figure.Figure at 0x7f5a386b86d8>"
      ]
     },
     "metadata": {
      "needs_background": "light"
     },
     "output_type": "display_data"
    },
    {
     "data": {
      "image/png": "[encoded data removed]",
      "text/plain": [
       "<matplotlib.figure.Figure at 0x7f5ab8436a58>"
      ]
     },
     "metadata": {
      "needs_background": "light"
     },
     "output_type": "display_data"
    },
    {
     "data": {
      "image/png": "[encoded data removed]",
      "text/plain": [
       "<matplotlib.figure.Figure at 0x7f5ab87bd160>"
      ]
     },
     "metadata": {
      "needs_background": "light"
     },
     "output_type": "display_data"
    },
    {
     "data": {
      "image/png": "[encoded data removed]",
      "text/plain": [
       "<matplotlib.figure.Figure at 0x7f5a001961d0>"
      ]
     },
     "metadata": {
      "needs_background": "light"
     },
     "output_type": "display_data"
    },
    {
     "data": {
      "image/png": "[encoded data removed]",
      "text/plain": [
       "<matplotlib.figure.Figure at 0x7f5a38608cf8>"
      ]
     },
     "metadata": {
      "needs_background": "light"
     },
     "output_type": "display_data"
    }
   ],
   "source": [
    "utils.plot_image_pairs(*next(iic_train_iterator), num_examples=5)"
   ]
  },
  {
   "cell_type": "code",
   "execution_count": 66,
   "metadata": {},
   "outputs": [],
   "source": [
    "base_model = models.create_resnet_se_backbone(input_shape, (1, 1), attention=None)"
   ]
  },
  {
   "cell_type": "code",
   "execution_count": 67,
   "metadata": {
    "scrolled": true
   },
   "outputs": [
    {
     "name": "stdout",
     "output_type": "stream",
     "text": [
      "Model: \"model\"\n",
      "__________________________________________________________________________________________________\n",
      "Layer (type)                    Output Shape         Param #     Connected to                     \n",
      "==================================================================================================\n",
      "data (InputLayer)               [(None, 24, 24, 1)]  0                                            \n",
      "__________________________________________________________________________________________________\n",
      "bn_data (BatchNormalization)    (None, 24, 24, 1)    3           data[0][0]                       \n",
      "__________________________________________________________________________________________________\n",
      "zero_padding2d (ZeroPadding2D)  (None, 30, 30, 1)    0           bn_data[0][0]                    \n",
      "__________________________________________________________________________________________________\n",
      "conv0 (Conv2D)                  (None, 12, 12, 64)   3136        zero_padding2d[0][0]             \n",
      "__________________________________________________________________________________________________\n",
      "bn0 (BatchNormalization)        (None, 12, 12, 64)   256         conv0[0][0]                      \n",
      "__________________________________________________________________________________________________\n",
      "relu0 (Activation)              (None, 12, 12, 64)   0           bn0[0][0]                        \n",
      "__________________________________________________________________________________________________\n",
      "zero_padding2d_1 (ZeroPadding2D (None, 14, 14, 64)   0           relu0[0][0]                      \n",
      "__________________________________________________________________________________________________\n",
      "pooling0 (MaxPooling2D)         (None, 6, 6, 64)     0           zero_padding2d_1[0][0]           \n",
      "__________________________________________________________________________________________________\n",
      "stage1_unit1_bn1 (BatchNormaliz (None, 6, 6, 64)     256         pooling0[0][0]                   \n",
      "__________________________________________________________________________________________________\n",
      "stage1_unit1_relu1 (Activation) (None, 6, 6, 64)     0           stage1_unit1_bn1[0][0]           \n",
      "__________________________________________________________________________________________________\n",
      "zero_padding2d_2 (ZeroPadding2D (None, 8, 8, 64)     0           stage1_unit1_relu1[0][0]         \n",
      "__________________________________________________________________________________________________\n",
      "stage1_unit1_conv1 (Conv2D)     (None, 6, 6, 64)     36864       zero_padding2d_2[0][0]           \n",
      "__________________________________________________________________________________________________\n",
      "stage1_unit1_bn2 (BatchNormaliz (None, 6, 6, 64)     256         stage1_unit1_conv1[0][0]         \n",
      "__________________________________________________________________________________________________\n",
      "stage1_unit1_relu2 (Activation) (None, 6, 6, 64)     0           stage1_unit1_bn2[0][0]           \n",
      "__________________________________________________________________________________________________\n",
      "zero_padding2d_3 (ZeroPadding2D (None, 8, 8, 64)     0           stage1_unit1_relu2[0][0]         \n",
      "__________________________________________________________________________________________________\n",
      "stage1_unit1_conv2 (Conv2D)     (None, 6, 6, 64)     36864       zero_padding2d_3[0][0]           \n",
      "__________________________________________________________________________________________________\n",
      "stage1_unit1_sc (Conv2D)        (None, 6, 6, 64)     4096        stage1_unit1_relu1[0][0]         \n",
      "__________________________________________________________________________________________________\n",
      "add (Add)                       (None, 6, 6, 64)     0           stage1_unit1_conv2[0][0]         \n",
      "                                                                 stage1_unit1_sc[0][0]            \n",
      "__________________________________________________________________________________________________\n",
      "stage2_unit1_bn1 (BatchNormaliz (None, 6, 6, 64)     256         add[0][0]                        \n",
      "__________________________________________________________________________________________________\n",
      "stage2_unit1_relu1 (Activation) (None, 6, 6, 64)     0           stage2_unit1_bn1[0][0]           \n",
      "__________________________________________________________________________________________________\n",
      "zero_padding2d_4 (ZeroPadding2D (None, 8, 8, 64)     0           stage2_unit1_relu1[0][0]         \n",
      "__________________________________________________________________________________________________\n",
      "stage2_unit1_conv1 (Conv2D)     (None, 3, 3, 128)    73728       zero_padding2d_4[0][0]           \n",
      "__________________________________________________________________________________________________\n",
      "stage2_unit1_bn2 (BatchNormaliz (None, 3, 3, 128)    512         stage2_unit1_conv1[0][0]         \n",
      "__________________________________________________________________________________________________\n",
      "stage2_unit1_relu2 (Activation) (None, 3, 3, 128)    0           stage2_unit1_bn2[0][0]           \n",
      "__________________________________________________________________________________________________\n",
      "zero_padding2d_5 (ZeroPadding2D (None, 5, 5, 128)    0           stage2_unit1_relu2[0][0]         \n",
      "__________________________________________________________________________________________________\n",
      "stage2_unit1_conv2 (Conv2D)     (None, 3, 3, 128)    147456      zero_padding2d_5[0][0]           \n",
      "__________________________________________________________________________________________________\n",
      "stage2_unit1_sc (Conv2D)        (None, 3, 3, 128)    8192        stage2_unit1_relu1[0][0]         \n",
      "__________________________________________________________________________________________________\n",
      "add_1 (Add)                     (None, 3, 3, 128)    0           stage2_unit1_conv2[0][0]         \n",
      "                                                                 stage2_unit1_sc[0][0]            \n",
      "__________________________________________________________________________________________________\n",
      "bn1 (BatchNormalization)        (None, 3, 3, 128)    512         add_1[0][0]                      \n",
      "__________________________________________________________________________________________________\n",
      "relu1 (Activation)              (None, 3, 3, 128)    0           bn1[0][0]                        \n",
      "==================================================================================================\n",
      "Total params: 312,387\n",
      "Trainable params: 311,361\n",
      "Non-trainable params: 1,026\n",
      "__________________________________________________________________________________________________\n"
     ]
    }
   ],
   "source": [
    "base_model.summary()"
   ]
  },
  {
   "cell_type": "code",
   "execution_count": 85,
   "metadata": {},
   "outputs": [],
   "source": [
    "inputs, main_heads, aux_heads = models.create_iic_model(\n",
    "    input_shape, base_model, \n",
    "    main_head_num_classes=num_classes, \n",
    "    aux_head_num_classes=5 * num_classes,\n",
    "    num_main_heads=5,\n",
    "    num_aux_heads=1\n",
    ")"
   ]
  },
  {
   "cell_type": "code",
   "execution_count": 86,
   "metadata": {},
   "outputs": [
    {
     "data": {
      "text/plain": [
       "({'image': <tf.Tensor 'image_1:0' shape=(?, 24, 24, 1) dtype=float32>,\n",
       "  'tf_image': <tf.Tensor 'tf_image_1:0' shape=(?, 24, 24, 1) dtype=float32>},\n",
       " [{'outputs': [<tf.Tensor 'main_head_0/p_out_1/Identity:0' shape=(?, 10) dtype=float32>,\n",
       "    <tf.Tensor 'main_head_0/p_tf_out_1/Identity:0' shape=(?, 10) dtype=float32>],\n",
       "   'loss': <tf.Tensor 'main_head_0/iic_loss_1:0' shape=() dtype=float32>},\n",
       "  {'outputs': [<tf.Tensor 'main_head_1/p_out/Identity:0' shape=(?, 10) dtype=float32>,\n",
       "    <tf.Tensor 'main_head_1/p_tf_out/Identity:0' shape=(?, 10) dtype=float32>],\n",
       "   'loss': <tf.Tensor 'main_head_1/iic_loss:0' shape=() dtype=float32>},\n",
       "  {'outputs': [<tf.Tensor 'main_head_2/p_out/Identity:0' shape=(?, 10) dtype=float32>,\n",
       "    <tf.Tensor 'main_head_2/p_tf_out/Identity:0' shape=(?, 10) dtype=float32>],\n",
       "   'loss': <tf.Tensor 'main_head_2/iic_loss:0' shape=() dtype=float32>},\n",
       "  {'outputs': [<tf.Tensor 'main_head_3/p_out/Identity:0' shape=(?, 10) dtype=float32>,\n",
       "    <tf.Tensor 'main_head_3/p_tf_out/Identity:0' shape=(?, 10) dtype=float32>],\n",
       "   'loss': <tf.Tensor 'main_head_3/iic_loss:0' shape=() dtype=float32>},\n",
       "  {'outputs': [<tf.Tensor 'main_head_4/p_out/Identity:0' shape=(?, 10) dtype=float32>,\n",
       "    <tf.Tensor 'main_head_4/p_tf_out/Identity:0' shape=(?, 10) dtype=float32>],\n",
       "   'loss': <tf.Tensor 'main_head_4/iic_loss:0' shape=() dtype=float32>}],\n",
       " [{'outputs': [<tf.Tensor 'aux_head_0/p_out_1/Identity:0' shape=(?, 50) dtype=float32>,\n",
       "    <tf.Tensor 'aux_head_0/p_tf_out_1/Identity:0' shape=(?, 50) dtype=float32>],\n",
       "   'loss': <tf.Tensor 'aux_head_0/iic_loss_1:0' shape=() dtype=float32>}])"
      ]
     },
     "execution_count": 86,
     "metadata": {},
     "output_type": "execute_result"
    }
   ],
   "source": [
    "inputs, main_heads, aux_heads"
   ]
  },
  {
   "cell_type": "code",
   "execution_count": 87,
   "metadata": {},
   "outputs": [],
   "source": [
    "heads_p_out = [head['outputs'][0] for head in main_heads]\n",
    "iic_main_model = keras.Model(inputs=inputs, outputs=[heads_p_out])\n",
    "\n",
    "heads_p_out = [head['outputs'][0] for head in aux_heads]\n",
    "iic_aux_model = keras.Model(inputs=inputs, outputs=[heads_p_out])"
   ]
  },
  {
   "cell_type": "code",
   "execution_count": 88,
   "metadata": {},
   "outputs": [
    {
     "data": {
      "text/plain": [
       "(<tf.Tensor 'truediv_18:0' shape=() dtype=float32>,\n",
       " <tf.Tensor 'truediv_19:0' shape=() dtype=float32>)"
      ]
     },
     "execution_count": 88,
     "metadata": {},
     "output_type": "execute_result"
    }
   ],
   "source": [
    "main_heads_loss = tf.add_n([head['loss'] for head in main_heads]) / len(main_heads)\n",
    "aux_heads_loss = tf.add_n([head['loss'] for head in aux_heads]) / len(aux_heads)\n",
    "main_heads_loss, aux_heads_loss"
   ]
  },
  {
   "cell_type": "code",
   "execution_count": 89,
   "metadata": {},
   "outputs": [],
   "source": [
    "iic_main_model.add_loss(main_heads_loss)\n",
    "iic_aux_model.add_loss(aux_heads_loss)"
   ]
  },
  {
   "cell_type": "code",
   "execution_count": 90,
   "metadata": {
    "scrolled": true
   },
   "outputs": [
    {
     "name": "stdout",
     "output_type": "stream",
     "text": [
      "WARNING:tensorflow:Output main_head_0/p_out missing from loss dictionary. We assume this was done on purpose. The fit and evaluate APIs will not be expecting any data to be passed to main_head_0/p_out.\n"
     ]
    },
    {
     "name": "stderr",
     "output_type": "stream",
     "text": [
      "WARNING:tensorflow:Output main_head_0/p_out missing from loss dictionary. We assume this was done on purpose. The fit and evaluate APIs will not be expecting any data to be passed to main_head_0/p_out.\n"
     ]
    },
    {
     "name": "stdout",
     "output_type": "stream",
     "text": [
      "WARNING:tensorflow:Output main_head_1/p_out missing from loss dictionary. We assume this was done on purpose. The fit and evaluate APIs will not be expecting any data to be passed to main_head_1/p_out.\n"
     ]
    },
    {
     "name": "stderr",
     "output_type": "stream",
     "text": [
      "WARNING:tensorflow:Output main_head_1/p_out missing from loss dictionary. We assume this was done on purpose. The fit and evaluate APIs will not be expecting any data to be passed to main_head_1/p_out.\n"
     ]
    },
    {
     "name": "stdout",
     "output_type": "stream",
     "text": [
      "WARNING:tensorflow:Output main_head_2/p_out missing from loss dictionary. We assume this was done on purpose. The fit and evaluate APIs will not be expecting any data to be passed to main_head_2/p_out.\n"
     ]
    },
    {
     "name": "stderr",
     "output_type": "stream",
     "text": [
      "WARNING:tensorflow:Output main_head_2/p_out missing from loss dictionary. We assume this was done on purpose. The fit and evaluate APIs will not be expecting any data to be passed to main_head_2/p_out.\n"
     ]
    },
    {
     "name": "stdout",
     "output_type": "stream",
     "text": [
      "WARNING:tensorflow:Output main_head_3/p_out missing from loss dictionary. We assume this was done on purpose. The fit and evaluate APIs will not be expecting any data to be passed to main_head_3/p_out.\n"
     ]
    },
    {
     "name": "stderr",
     "output_type": "stream",
     "text": [
      "WARNING:tensorflow:Output main_head_3/p_out missing from loss dictionary. We assume this was done on purpose. The fit and evaluate APIs will not be expecting any data to be passed to main_head_3/p_out.\n"
     ]
    },
    {
     "name": "stdout",
     "output_type": "stream",
     "text": [
      "WARNING:tensorflow:Output main_head_4/p_out missing from loss dictionary. We assume this was done on purpose. The fit and evaluate APIs will not be expecting any data to be passed to main_head_4/p_out.\n"
     ]
    },
    {
     "name": "stderr",
     "output_type": "stream",
     "text": [
      "WARNING:tensorflow:Output main_head_4/p_out missing from loss dictionary. We assume this was done on purpose. The fit and evaluate APIs will not be expecting any data to be passed to main_head_4/p_out.\n"
     ]
    },
    {
     "name": "stdout",
     "output_type": "stream",
     "text": [
      "WARNING:tensorflow:Output aux_head_0/p_out missing from loss dictionary. We assume this was done on purpose. The fit and evaluate APIs will not be expecting any data to be passed to aux_head_0/p_out.\n"
     ]
    },
    {
     "name": "stderr",
     "output_type": "stream",
     "text": [
      "WARNING:tensorflow:Output aux_head_0/p_out missing from loss dictionary. We assume this was done on purpose. The fit and evaluate APIs will not be expecting any data to be passed to aux_head_0/p_out.\n"
     ]
    }
   ],
   "source": [
    "optimizer = keras.optimizers.Adam(learning_rate=0.0001)\n",
    "iic_main_model.compile(optimizer=optimizer)\n",
    "\n",
    "optimizer = keras.optimizers.Adam(learning_rate=0.0001)\n",
    "iic_aux_model.compile(optimizer=optimizer)"
   ]
  },
  {
   "cell_type": "code",
   "execution_count": 91,
   "metadata": {},
   "outputs": [
    {
     "data": {
      "text/plain": [
       "[<tf.Tensor 'main_head_0/p_out_1/Identity:0' shape=(?, 10) dtype=float32>,\n",
       " <tf.Tensor 'main_head_1/p_out/Identity:0' shape=(?, 10) dtype=float32>,\n",
       " <tf.Tensor 'main_head_2/p_out/Identity:0' shape=(?, 10) dtype=float32>,\n",
       " <tf.Tensor 'main_head_3/p_out/Identity:0' shape=(?, 10) dtype=float32>,\n",
       " <tf.Tensor 'main_head_4/p_out/Identity:0' shape=(?, 10) dtype=float32>]"
      ]
     },
     "execution_count": 91,
     "metadata": {},
     "output_type": "execute_result"
    }
   ],
   "source": [
    "iic_main_model.outputs"
   ]
  },
  {
   "cell_type": "code",
   "execution_count": null,
   "metadata": {
    "scrolled": true
   },
   "outputs": [],
   "source": [
    "# for epoch in range(10):\n",
    "#     print(epoch)\n",
    "#     iic_main_model.fit(\n",
    "#         iic_train_iterator, verbose=1, epochs=1,\n",
    "#         steps_per_epoch=num_train_steps, callbacks = [utils.PredictionsHistory(iic_train_iterator)]\n",
    "#     )\n",
    "# #     iic_aux_model.fit(\n",
    "# #         iic_train_iterator, verbose=1, epochs=1,\n",
    "# #         steps_per_epoch=num_train_steps\n",
    "# #     )"
   ]
  },
  {
   "cell_type": "code",
   "execution_count": null,
   "metadata": {},
   "outputs": [],
   "source": []
  },
  {
   "cell_type": "code",
   "execution_count": null,
   "metadata": {},
   "outputs": [
    {
     "name": "stdout",
     "output_type": "stream",
     "text": [
      "0\n",
      "  1/234 [..............................] - ETA: 5:08:03 - loss: -0.1327WARNING:tensorflow:Method (on_train_batch_end) is slow compared to the batch update (0.490231). Check your callbacks.\n"
     ]
    },
    {
     "name": "stderr",
     "output_type": "stream",
     "text": [
      "WARNING:tensorflow:Method (on_train_batch_end) is slow compared to the batch update (0.490231). Check your callbacks.\n"
     ]
    },
    {
     "name": "stdout",
     "output_type": "stream",
     "text": [
      "233/234 [============================>.] - ETA: 0s - loss: -0.8986  head[0]: 0.3979 head[1]: 0.4060 head[2]: 0.2419 head[3]: 0.2523 head[4]: 0.3792\n",
      "234/234 [==============================] - 111s 474ms/step - loss: -0.9003\n",
      "234/234 [==============================] - 38s 163ms/step - loss: -1.2924\n",
      "1\n",
      "233/234 [============================>.] - ETA: 0s - loss: -1.3915  head[0]: 0.3500 head[1]: 0.3010 head[2]: 0.1943 head[3]: 0.2005 head[4]: 0.2794\n",
      "234/234 [==============================] - 32s 135ms/step - loss: -1.3915\n",
      "234/234 [==============================] - 12s 53ms/step - loss: -1.8256\n",
      "2\n",
      "233/234 [============================>.] - ETA: 0s - loss: -1.4900  head[0]: 0.3693 head[1]: 0.3003 head[2]: 0.2130 head[3]: 0.1969 head[4]: 0.2724\n",
      "234/234 [==============================] - 32s 135ms/step - loss: -1.4902\n",
      "234/234 [==============================] - 12s 52ms/step - loss: -1.8936\n",
      "3\n",
      " 73/234 [========>.....................] - ETA: 21s - loss: -1.5219"
     ]
    }
   ],
   "source": [
    "for epoch in range(20):\n",
    "    print(epoch)\n",
    "    iic_main_model.fit(\n",
    "        iic_train_iterator, verbose=1, epochs=1,\n",
    "        steps_per_epoch=num_train_steps, callbacks = [utils.PredictionsHistory(iic_train_iterator)]\n",
    "    )\n",
    "    iic_aux_model.fit(\n",
    "        iic_train_iterator, verbose=1, epochs=1,\n",
    "        steps_per_epoch=num_train_steps\n",
    "    )"
   ]
  },
  {
   "cell_type": "code",
   "execution_count": null,
   "metadata": {},
   "outputs": [],
   "source": []
  },
  {
   "cell_type": "code",
   "execution_count": 84,
   "metadata": {},
   "outputs": [
    {
     "data": {
      "text/plain": [
       "<seaborn.axisgrid.PairGrid at 0x7f55f0685b70>"
      ]
     },
     "execution_count": 84,
     "metadata": {},
     "output_type": "execute_result"
    },
    {
     "data": {
      "image/png": "[encoded data removed]",
      "text/plain": [
       "<matplotlib.figure.Figure at 0x7f55f0685fd0>"
      ]
     },
     "metadata": {
      "needs_background": "light"
     },
     "output_type": "display_data"
    }
   ],
   "source": [
    "utils.plot_probabilities_grid(iic_main_model, iic_train_iterator)"
   ]
  },
  {
   "cell_type": "code",
   "execution_count": null,
   "metadata": {},
   "outputs": [],
   "source": []
  }
 ],
 "metadata": {
  "kernelspec": {
   "display_name": "Python 3",
   "language": "python",
   "name": "python3"
  },
  "language_info": {
   "codemirror_mode": {
    "name": "ipython",
    "version": 3
   },
   "file_extension": ".py",
   "mimetype": "text/x-python",
   "name": "python",
   "nbconvert_exporter": "python",
   "pygments_lexer": "ipython3",
   "version": "3.6.8"
  }
 },
 "nbformat": 4,
 "nbformat_minor": 4
}
